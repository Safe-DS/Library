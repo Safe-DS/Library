{
 "cells": [
  {
   "cell_type": "markdown",
   "source": [
    "# Data Visualization\n",
    "\n",
    "## Table & Statistics\n",
    "\n",
    "First, we need some data to visualize. For this, we use the common example of the Titanic disaster, which is included in our [`safe-ds-examples` package](https://pypi.org/project/safe-ds-examples). Naturally, you can also read your own data."
   ],
   "metadata": {
    "collapsed": false
   }
  },
  {
   "cell_type": "code",
   "execution_count": 1,
   "outputs": [],
   "source": [
    "from safeds_examples.titanic import load_titanic\n",
    "\n",
    "titanic = load_titanic()"
   ],
   "metadata": {
    "collapsed": false,
    "ExecuteTime": {
     "start_time": "2023-03-14T16:13:06.844175Z",
     "end_time": "2023-03-14T16:13:07.479438Z"
    }
   }
  },
  {
   "cell_type": "code",
   "execution_count": 2,
   "outputs": [
    {
     "data": {
      "text/plain": "                                        Name     Sex Age  \\\n0                        Abbing, Mr. Anthony    male  42   \n1              Abbott, Master. Eugene Joseph    male  13   \n2                Abbott, Mr. Rossmore Edward    male  16   \n3           Abbott, Mrs. Stanton (Rosa Hunt)  female  35   \n4                Abelseth, Miss. Karen Marie  female  16   \n5              Abelseth, Mr. Olaus Jorgensen    male  25   \n6                        Abelson, Mr. Samuel    male  30   \n7      Abelson, Mrs. Samuel (Hannah Wizosky)  female  28   \n8   Abrahamsson, Mr. Abraham August Johannes    male  20   \n9  Abrahim, Mrs. Joseph (Sophie Halaut Easu)  female  18   \n\n   Number of Siblings or Spouses Aboard  Number of Parents or Children Aboard  \\\n0                                     0                                     0   \n1                                     0                                     2   \n2                                     1                                     1   \n3                                     1                                     1   \n4                                     0                                     0   \n5                                     0                                     0   \n6                                     1                                     0   \n7                                     1                                     0   \n8                                     0                                     0   \n9                                     0                                     0   \n\n      Ticket Number  Travel Class    Fare Cabin Number Port of Embarkation  \\\n0         C.A. 5547             3    7.55            ?         Southampton   \n1         C.A. 2673             3   20.25            ?         Southampton   \n2         C.A. 2673             3   20.25            ?         Southampton   \n3         C.A. 2673             3   20.25            ?         Southampton   \n4            348125             3    7.65            ?         Southampton   \n5            348122             3    7.65        F G63         Southampton   \n6         P/PP 3381             2      24            ?           Cherbourg   \n7         P/PP 3381             2      24            ?           Cherbourg   \n8  SOTON/O2 3101284             3   7.925            ?         Southampton   \n9              2657             3  7.2292            ?           Cherbourg   \n\n   Survived  \n0         0  \n1         0  \n2         0  \n3         1  \n4         1  \n5         1  \n6         0  \n7         1  \n8         1  \n9         1  ",
      "text/html": "<div>\n<style scoped>\n    .dataframe tbody tr th:only-of-type {\n        vertical-align: middle;\n    }\n\n    .dataframe tbody tr th {\n        vertical-align: top;\n    }\n\n    .dataframe thead th {\n        text-align: right;\n    }\n</style>\n<table border=\"1\" class=\"dataframe\">\n  <thead>\n    <tr style=\"text-align: right;\">\n      <th></th>\n      <th>Name</th>\n      <th>Sex</th>\n      <th>Age</th>\n      <th>Number of Siblings or Spouses Aboard</th>\n      <th>Number of Parents or Children Aboard</th>\n      <th>Ticket Number</th>\n      <th>Travel Class</th>\n      <th>Fare</th>\n      <th>Cabin Number</th>\n      <th>Port of Embarkation</th>\n      <th>Survived</th>\n    </tr>\n  </thead>\n  <tbody>\n    <tr>\n      <th>0</th>\n      <td>Abbing, Mr. Anthony</td>\n      <td>male</td>\n      <td>42</td>\n      <td>0</td>\n      <td>0</td>\n      <td>C.A. 5547</td>\n      <td>3</td>\n      <td>7.55</td>\n      <td>?</td>\n      <td>Southampton</td>\n      <td>0</td>\n    </tr>\n    <tr>\n      <th>1</th>\n      <td>Abbott, Master. Eugene Joseph</td>\n      <td>male</td>\n      <td>13</td>\n      <td>0</td>\n      <td>2</td>\n      <td>C.A. 2673</td>\n      <td>3</td>\n      <td>20.25</td>\n      <td>?</td>\n      <td>Southampton</td>\n      <td>0</td>\n    </tr>\n    <tr>\n      <th>2</th>\n      <td>Abbott, Mr. Rossmore Edward</td>\n      <td>male</td>\n      <td>16</td>\n      <td>1</td>\n      <td>1</td>\n      <td>C.A. 2673</td>\n      <td>3</td>\n      <td>20.25</td>\n      <td>?</td>\n      <td>Southampton</td>\n      <td>0</td>\n    </tr>\n    <tr>\n      <th>3</th>\n      <td>Abbott, Mrs. Stanton (Rosa Hunt)</td>\n      <td>female</td>\n      <td>35</td>\n      <td>1</td>\n      <td>1</td>\n      <td>C.A. 2673</td>\n      <td>3</td>\n      <td>20.25</td>\n      <td>?</td>\n      <td>Southampton</td>\n      <td>1</td>\n    </tr>\n    <tr>\n      <th>4</th>\n      <td>Abelseth, Miss. Karen Marie</td>\n      <td>female</td>\n      <td>16</td>\n      <td>0</td>\n      <td>0</td>\n      <td>348125</td>\n      <td>3</td>\n      <td>7.65</td>\n      <td>?</td>\n      <td>Southampton</td>\n      <td>1</td>\n    </tr>\n    <tr>\n      <th>5</th>\n      <td>Abelseth, Mr. Olaus Jorgensen</td>\n      <td>male</td>\n      <td>25</td>\n      <td>0</td>\n      <td>0</td>\n      <td>348122</td>\n      <td>3</td>\n      <td>7.65</td>\n      <td>F G63</td>\n      <td>Southampton</td>\n      <td>1</td>\n    </tr>\n    <tr>\n      <th>6</th>\n      <td>Abelson, Mr. Samuel</td>\n      <td>male</td>\n      <td>30</td>\n      <td>1</td>\n      <td>0</td>\n      <td>P/PP 3381</td>\n      <td>2</td>\n      <td>24</td>\n      <td>?</td>\n      <td>Cherbourg</td>\n      <td>0</td>\n    </tr>\n    <tr>\n      <th>7</th>\n      <td>Abelson, Mrs. Samuel (Hannah Wizosky)</td>\n      <td>female</td>\n      <td>28</td>\n      <td>1</td>\n      <td>0</td>\n      <td>P/PP 3381</td>\n      <td>2</td>\n      <td>24</td>\n      <td>?</td>\n      <td>Cherbourg</td>\n      <td>1</td>\n    </tr>\n    <tr>\n      <th>8</th>\n      <td>Abrahamsson, Mr. Abraham August Johannes</td>\n      <td>male</td>\n      <td>20</td>\n      <td>0</td>\n      <td>0</td>\n      <td>SOTON/O2 3101284</td>\n      <td>3</td>\n      <td>7.925</td>\n      <td>?</td>\n      <td>Southampton</td>\n      <td>1</td>\n    </tr>\n    <tr>\n      <th>9</th>\n      <td>Abrahim, Mrs. Joseph (Sophie Halaut Easu)</td>\n      <td>female</td>\n      <td>18</td>\n      <td>0</td>\n      <td>0</td>\n      <td>2657</td>\n      <td>3</td>\n      <td>7.2292</td>\n      <td>?</td>\n      <td>Cherbourg</td>\n      <td>1</td>\n    </tr>\n  </tbody>\n</table>\n</div>"
     },
     "metadata": {},
     "output_type": "display_data"
    }
   ],
   "source": [
    "titanic.slice(end=10)\n"
   ],
   "metadata": {
    "collapsed": false,
    "ExecuteTime": {
     "start_time": "2023-03-14T16:13:07.484433Z",
     "end_time": "2023-03-14T16:13:07.492495Z"
    }
   }
  }
 ],
 "metadata": {
  "kernelspec": {
   "display_name": "Python 3",
   "language": "python",
   "name": "python3"
  },
  "language_info": {
   "codemirror_mode": {
    "name": "ipython",
    "version": 2
   },
   "file_extension": ".py",
   "mimetype": "text/x-python",
   "name": "python",
   "nbconvert_exporter": "python",
   "pygments_lexer": "ipython2",
   "version": "2.7.6"
  }
 },
 "nbformat": 4,
 "nbformat_minor": 0
}
