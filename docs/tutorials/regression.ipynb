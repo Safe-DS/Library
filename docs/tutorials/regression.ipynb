{
 "cells": [
  {
   "cell_type": "markdown",
   "metadata": {
    "collapsed": false
   },
   "source": [
    "# Regression\n",
    "\n",
    "This tutorial uses Safe-DS on **house sales data** to predict house prices.\n"
   ]
  },
  {
   "cell_type": "markdown",
   "metadata": {
    "collapsed": false
   },
   "source": [
    "## File and Imports\n",
    "\n",
    "Start by creating a Python-File with the suffix ``.py``.\n"
   ]
  },
  {
   "cell_type": "markdown",
   "metadata": {},
   "source": [
    "## Reading Data\n",
    "\n",
    "Download the house sales data from [here](https://github.com/Safe-DS/Datasets/blob/main/src/safeds_datasets/tabular/_house_sales/data/house_sales.csv) and load it into a `Table`:"
   ]
  },
  {
   "cell_type": "code",
   "execution_count": null,
   "metadata": {
    "collapsed": false
   },
   "outputs": [],
   "source": [
    "from safeds.data.tabular.containers import Table\n",
    "\n",
    "pricing = Table.from_csv_file(\"data/house_sales.csv\")\n",
    "# For visualisation purposes, we only print out the first 15 rows.\n",
    "pricing.slice_rows(length=15)"
   ]
  },
  {
   "cell_type": "markdown",
   "metadata": {},
   "source": [
    "## Cleaning your Data\n",
    "\n",
    "At this point it is usual to clean the data. Here's an example how to do so:"
   ]
  },
  {
   "cell_type": "code",
   "execution_count": null,
   "metadata": {},
   "outputs": [],
   "source": [
    "pricing_columns = (\n",
    "    # Removes columns \"latitude\" and \"longitude\" from table\n",
    "    pricing.remove_columns([\"latitude\", \"longitude\"])\n",
    "    # Removes rows which contain missing values\n",
    "    .remove_rows_with_missing_values()\n",
    "    # Removes rows which contain outliers\n",
    "    .remove_rows_with_outliers()\n",
    ")\n",
    "# For visualisation purposes, we only print out the first 5 rows.\n",
    "pricing_columns.slice_rows(length=5)"
   ]
  },
  {
   "cell_type": "markdown",
   "metadata": {},
   "source": "See how to perform further data cleaning in the dedicated [Data Processing Tutorial](../data_processing)."
  },
  {
   "cell_type": "markdown",
   "metadata": {
    "collapsed": false
   },
   "source": [
    "## Create Training and Testing Set\n",
    "\n",
    "Split the house sales dataset into two tables. A training set, that will be used later to implement a training model to predict the house prices. It contains 60% of the data. The testing set contains the rest of the data.\n"
   ]
  },
  {
   "cell_type": "code",
   "execution_count": null,
   "metadata": {
    "collapsed": false
   },
   "outputs": [],
   "source": [
    "train_table, testing_table = pricing_columns.split_rows(0.60)"
   ]
  },
  {
   "cell_type": "markdown",
   "metadata": {
    "collapsed": false
   },
   "source": [
    "Mark the `price` `Column` as the target variable to be predicted. Include the `id` column only as an extra column, which is completely ignored by the model:"
   ]
  },
  {
   "cell_type": "code",
   "execution_count": null,
   "metadata": {
    "collapsed": false
   },
   "outputs": [],
   "source": [
    "extra_names = [\"id\"]\n",
    "\n",
    "train_tabular_dataset = train_table.to_tabular_dataset(\"price\", extra_names=extra_names)"
   ]
  },
  {
   "cell_type": "markdown",
   "metadata": {
    "collapsed": false
   },
   "source": [
    "## Creating and Fitting a Regressor\n",
    "\n",
    "Use `Decision Tree` regressor as a model for the regression. Pass the \"train_tabular_dataset\" table to the fit function of the model:\n"
   ]
  },
  {
   "cell_type": "code",
   "execution_count": null,
   "metadata": {
    "collapsed": false
   },
   "outputs": [],
   "source": [
    "from safeds.ml.classical.regression import DecisionTreeRegressor\n",
    "\n",
    "fitted_model = DecisionTreeRegressor().fit(train_tabular_dataset)"
   ]
  },
  {
   "cell_type": "markdown",
   "metadata": {
    "collapsed": false
   },
   "source": [
    "## Predicting with the Fitted Regressor\n",
    "\n",
    "Use the fitted decision tree regression model, that we trained on the training dataset to predict the price of a house in the test dataset.\n"
   ]
  },
  {
   "cell_type": "code",
   "execution_count": null,
   "metadata": {
    "collapsed": false
   },
   "outputs": [],
   "source": [
    "prediction = fitted_model.predict(testing_table)\n",
    "# For visualisation purposes we only print out the first 15 rows.\n",
    "prediction.to_table().slice_rows(length=15)"
   ]
  },
  {
   "cell_type": "markdown",
   "metadata": {
    "collapsed": false
   },
   "source": [
    "## Evaluating the Fitted Regressor\n",
    "\n",
    "You can test the mean absolute error of that model with the initial testing_table as follows:"
   ]
  },
  {
   "cell_type": "code",
   "execution_count": null,
   "metadata": {
    "collapsed": false
   },
   "outputs": [],
   "source": [
    "fitted_model.mean_absolute_error(testing_table)"
   ]
  },
  {
   "cell_type": "markdown",
   "metadata": {},
   "source": [
    "## Full Code"
   ]
  },
  {
   "cell_type": "code",
   "execution_count": null,
   "metadata": {},
   "outputs": [],
   "source": [
    "from safeds.data.tabular.containers import Table\n",
    "from safeds.ml.classical.regression import DecisionTreeRegressor\n",
    "\n",
    "pricing = Table.from_csv_file(\"data/house_sales.csv\")\n",
    "\n",
    "pricing_columns = (\n",
    "    pricing.remove_columns([\"latitude\", \"longitude\"]).remove_rows_with_missing_values().remove_rows_with_outliers()\n",
    ")\n",
    "\n",
    "train_table, testing_table = pricing_columns.split_rows(0.60)\n",
    "\n",
    "extra_names = [\"id\"]\n",
    "train_tabular_dataset = train_table.to_tabular_dataset(\"price\", extra_names=extra_names)\n",
    "\n",
    "fitted_model = DecisionTreeRegressor().fit(train_tabular_dataset)\n",
    "prediction = fitted_model.predict(testing_table)\n",
    "\n",
    "fitted_model.mean_absolute_error(testing_table)"
   ]
  }
 ],
 "metadata": {
  "kernelspec": {
   "display_name": "Python 3",
   "language": "python",
   "name": "python3"
  },
  "language_info": {
   "codemirror_mode": {
    "name": "ipython",
    "version": 3
   },
   "file_extension": ".py",
   "mimetype": "text/x-python",
   "name": "python",
   "nbconvert_exporter": "python",
   "pygments_lexer": "ipython3",
   "version": "3.12.4"
  }
 },
 "nbformat": 4,
 "nbformat_minor": 0
}
