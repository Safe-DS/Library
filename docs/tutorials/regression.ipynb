{
 "cells": [
  {
   "cell_type": "markdown",
   "metadata": {
    "collapsed": false
   },
   "source": [
    "# Regression\n",
    "\n",
    "This tutorial uses safeds on **house sales data** to predict house prices.\n"
   ]
  },
  {
   "cell_type": "markdown",
   "metadata": {
    "collapsed": false
   },
   "source": [
    "## File and Imports\n",
    "\n",
    "Start by creating a Python-File with the suffix ``.py``.\n",
    "\n",
    "Import the classes you want to use from safeds.\n"
   ]
  },
  {
   "cell_type": "markdown",
   "metadata": {},
   "source": [
    "## Reading Data\n",
    "\n",
    "Load your data into a `Table`, the data is available under `docs/tutorials/data/pricing.csv`:"
   ]
  },
  {
   "cell_type": "code",
   "execution_count": 14,
   "metadata": {
    "ExecuteTime": {
     "end_time": "2024-05-24T11:02:42.984142700Z",
     "start_time": "2024-05-24T11:02:42.899167900Z"
    },
    "collapsed": false
   },
   "outputs": [
    {
     "data": {
      "text/html": [
       "<div><style>\n",
       ".dataframe > thead > tr,\n",
       ".dataframe > tbody > tr {\n",
       "  text-align: right;\n",
       "  white-space: pre-wrap;\n",
       "}\n",
       "</style>\n",
       "<small>shape: (15, 23)</small><table border=\"1\" class=\"dataframe\"><thead><tr><th>id</th><th>year</th><th>month</th><th>day</th><th>zipcode</th><th>latitude</th><th>longitude</th><th>sqft_lot</th><th>sqft_living</th><th>sqft_above</th><th>sqft_basement</th><th>floors</th><th>bedrooms</th><th>bathrooms</th><th>waterfront</th><th>view</th><th>condition</th><th>grade</th><th>year_built</th><th>year_renovated</th><th>sqft_lot_15nn</th><th>sqft_living_15nn</th><th>price</th></tr><tr><td>i64</td><td>i64</td><td>i64</td><td>i64</td><td>i64</td><td>f64</td><td>f64</td><td>i64</td><td>i64</td><td>i64</td><td>i64</td><td>f64</td><td>i64</td><td>f64</td><td>i64</td><td>i64</td><td>i64</td><td>i64</td><td>i64</td><td>i64</td><td>i64</td><td>i64</td><td>i64</td></tr></thead><tbody><tr><td>0</td><td>2014</td><td>5</td><td>2</td><td>98001</td><td>47.3406</td><td>-122.269</td><td>9397</td><td>2200</td><td>2200</td><td>0</td><td>2.0</td><td>4</td><td>2.5</td><td>0</td><td>1</td><td>3</td><td>8</td><td>1987</td><td>0</td><td>9176</td><td>2310</td><td>285000</td></tr><tr><td>1</td><td>2014</td><td>5</td><td>2</td><td>98003</td><td>47.3537</td><td>-122.303</td><td>10834</td><td>2090</td><td>1360</td><td>730</td><td>1.0</td><td>3</td><td>2.5</td><td>0</td><td>1</td><td>4</td><td>8</td><td>1987</td><td>0</td><td>8595</td><td>1750</td><td>285000</td></tr><tr><td>2</td><td>2014</td><td>5</td><td>2</td><td>98006</td><td>47.5443</td><td>-122.177</td><td>8119</td><td>2160</td><td>1080</td><td>1080</td><td>1.0</td><td>4</td><td>2.25</td><td>0</td><td>1</td><td>3</td><td>8</td><td>1966</td><td>0</td><td>9000</td><td>1850</td><td>440000</td></tr><tr><td>3</td><td>2014</td><td>5</td><td>2</td><td>98006</td><td>47.5746</td><td>-122.135</td><td>8800</td><td>1450</td><td>1450</td><td>0</td><td>1.0</td><td>4</td><td>1.0</td><td>0</td><td>1</td><td>4</td><td>7</td><td>1954</td><td>0</td><td>8942</td><td>1260</td><td>435000</td></tr><tr><td>4</td><td>2014</td><td>5</td><td>2</td><td>98006</td><td>47.5725</td><td>-122.133</td><td>10000</td><td>1920</td><td>1070</td><td>850</td><td>1.0</td><td>4</td><td>1.5</td><td>0</td><td>1</td><td>4</td><td>7</td><td>1954</td><td>0</td><td>10836</td><td>1450</td><td>430000</td></tr><tr><td>&hellip;</td><td>&hellip;</td><td>&hellip;</td><td>&hellip;</td><td>&hellip;</td><td>&hellip;</td><td>&hellip;</td><td>&hellip;</td><td>&hellip;</td><td>&hellip;</td><td>&hellip;</td><td>&hellip;</td><td>&hellip;</td><td>&hellip;</td><td>&hellip;</td><td>&hellip;</td><td>&hellip;</td><td>&hellip;</td><td>&hellip;</td><td>&hellip;</td><td>&hellip;</td><td>&hellip;</td><td>&hellip;</td></tr><tr><td>10</td><td>2014</td><td>5</td><td>2</td><td>98023</td><td>47.3256</td><td>-122.378</td><td>33151</td><td>3240</td><td>3240</td><td>0</td><td>2.0</td><td>3</td><td>2.5</td><td>0</td><td>3</td><td>3</td><td>10</td><td>1995</td><td>0</td><td>24967</td><td>4050</td><td>604000</td></tr><tr><td>11</td><td>2014</td><td>5</td><td>2</td><td>98024</td><td>47.5643</td><td>-121.897</td><td>16215</td><td>1580</td><td>1580</td><td>0</td><td>1.0</td><td>3</td><td>2.25</td><td>0</td><td>1</td><td>4</td><td>7</td><td>1978</td><td>0</td><td>16215</td><td>1450</td><td>335000</td></tr><tr><td>12</td><td>2014</td><td>5</td><td>2</td><td>98027</td><td>47.4635</td><td>-121.991</td><td>35100</td><td>1970</td><td>1970</td><td>0</td><td>2.0</td><td>3</td><td>2.25</td><td>0</td><td>1</td><td>4</td><td>9</td><td>1977</td><td>0</td><td>35100</td><td>2340</td><td>437500</td></tr><tr><td>13</td><td>2014</td><td>5</td><td>2</td><td>98027</td><td>47.4634</td><td>-121.987</td><td>37277</td><td>2710</td><td>2710</td><td>0</td><td>2.0</td><td>4</td><td>2.75</td><td>0</td><td>1</td><td>3</td><td>9</td><td>2000</td><td>0</td><td>39299</td><td>2390</td><td>630000</td></tr><tr><td>14</td><td>2014</td><td>5</td><td>2</td><td>98029</td><td>47.5794</td><td>-122.025</td><td>67518</td><td>2820</td><td>2820</td><td>0</td><td>2.0</td><td>5</td><td>2.5</td><td>0</td><td>1</td><td>3</td><td>8</td><td>1979</td><td>0</td><td>48351</td><td>2820</td><td>675000</td></tr></tbody></table></div>"
      ],
      "text/plain": [
       "+-----+------+-------+-----+---+----------------+---------------+------------------+--------+\n",
       "|  id | year | month | day | … | year_renovated | sqft_lot_15nn | sqft_living_15nn |  price |\n",
       "| --- |  --- |   --- | --- |   |            --- |           --- |              --- |    --- |\n",
       "| i64 |  i64 |   i64 | i64 |   |            i64 |           i64 |              i64 |    i64 |\n",
       "+===========================================================================================+\n",
       "|   0 | 2014 |     5 |   2 | … |              0 |          9176 |             2310 | 285000 |\n",
       "|   1 | 2014 |     5 |   2 | … |              0 |          8595 |             1750 | 285000 |\n",
       "|   2 | 2014 |     5 |   2 | … |              0 |          9000 |             1850 | 440000 |\n",
       "|   3 | 2014 |     5 |   2 | … |              0 |          8942 |             1260 | 435000 |\n",
       "|   4 | 2014 |     5 |   2 | … |              0 |         10836 |             1450 | 430000 |\n",
       "|   … |    … |     … |   … | … |              … |             … |                … |      … |\n",
       "|  10 | 2014 |     5 |   2 | … |              0 |         24967 |             4050 | 604000 |\n",
       "|  11 | 2014 |     5 |   2 | … |              0 |         16215 |             1450 | 335000 |\n",
       "|  12 | 2014 |     5 |   2 | … |              0 |         35100 |             2340 | 437500 |\n",
       "|  13 | 2014 |     5 |   2 | … |              0 |         39299 |             2390 | 630000 |\n",
       "|  14 | 2014 |     5 |   2 | … |              0 |         48351 |             2820 | 675000 |\n",
       "+-----+------+-------+-----+---+----------------+---------------+------------------+--------+"
      ]
     },
     "execution_count": 14,
     "metadata": {},
     "output_type": "execute_result"
    }
   ],
   "source": [
    "from safeds.data.tabular.containers import Table\n",
    "\n",
    "pricing = Table.from_csv_file(\"data/house_sales.csv\")\n",
    "# For visualisation purposes we only print out the first 15 rows.\n",
    "pricing.slice_rows(0,15)"
   ]
  },
  {
   "cell_type": "markdown",
   "metadata": {},
   "source": [
    "## Cleaning your Data\n",
    "\n",
    "At this point it is usual to clean the data. Here's an example how to do so:"
   ]
  },
  {
   "cell_type": "code",
   "execution_count": 17,
   "metadata": {},
   "outputs": [
    {
     "data": {
      "text/html": [
       "<div><style>\n",
       ".dataframe > thead > tr,\n",
       ".dataframe > tbody > tr {\n",
       "  text-align: right;\n",
       "  white-space: pre-wrap;\n",
       "}\n",
       "</style>\n",
       "<small>shape: (5, 21)</small><table border=\"1\" class=\"dataframe\"><thead><tr><th>id</th><th>year</th><th>month</th><th>day</th><th>zipcode</th><th>sqft_lot</th><th>sqft_living</th><th>sqft_above</th><th>sqft_basement</th><th>floors</th><th>bedrooms</th><th>bathrooms</th><th>waterfront</th><th>view</th><th>condition</th><th>grade</th><th>year_built</th><th>year_renovated</th><th>sqft_lot_15nn</th><th>sqft_living_15nn</th><th>price</th></tr><tr><td>i64</td><td>i64</td><td>i64</td><td>i64</td><td>i64</td><td>i64</td><td>i64</td><td>i64</td><td>i64</td><td>f64</td><td>i64</td><td>f64</td><td>i64</td><td>i64</td><td>i64</td><td>i64</td><td>i64</td><td>i64</td><td>i64</td><td>i64</td><td>i64</td></tr></thead><tbody><tr><td>0</td><td>2014</td><td>5</td><td>2</td><td>98001</td><td>9397</td><td>2200</td><td>2200</td><td>0</td><td>2.0</td><td>4</td><td>2.5</td><td>0</td><td>1</td><td>3</td><td>8</td><td>1987</td><td>0</td><td>9176</td><td>2310</td><td>285000</td></tr><tr><td>1</td><td>2014</td><td>5</td><td>2</td><td>98003</td><td>10834</td><td>2090</td><td>1360</td><td>730</td><td>1.0</td><td>3</td><td>2.5</td><td>0</td><td>1</td><td>4</td><td>8</td><td>1987</td><td>0</td><td>8595</td><td>1750</td><td>285000</td></tr><tr><td>2</td><td>2014</td><td>5</td><td>2</td><td>98006</td><td>8119</td><td>2160</td><td>1080</td><td>1080</td><td>1.0</td><td>4</td><td>2.25</td><td>0</td><td>1</td><td>3</td><td>8</td><td>1966</td><td>0</td><td>9000</td><td>1850</td><td>440000</td></tr><tr><td>3</td><td>2014</td><td>5</td><td>2</td><td>98006</td><td>8800</td><td>1450</td><td>1450</td><td>0</td><td>1.0</td><td>4</td><td>1.0</td><td>0</td><td>1</td><td>4</td><td>7</td><td>1954</td><td>0</td><td>8942</td><td>1260</td><td>435000</td></tr><tr><td>4</td><td>2014</td><td>5</td><td>2</td><td>98006</td><td>10000</td><td>1920</td><td>1070</td><td>850</td><td>1.0</td><td>4</td><td>1.5</td><td>0</td><td>1</td><td>4</td><td>7</td><td>1954</td><td>0</td><td>10836</td><td>1450</td><td>430000</td></tr></tbody></table></div>"
      ],
      "text/plain": [
       "+-----+------+-------+-----+---+----------------+---------------+------------------+--------+\n",
       "|  id | year | month | day | … | year_renovated | sqft_lot_15nn | sqft_living_15nn |  price |\n",
       "| --- |  --- |   --- | --- |   |            --- |           --- |              --- |    --- |\n",
       "| i64 |  i64 |   i64 | i64 |   |            i64 |           i64 |              i64 |    i64 |\n",
       "+===========================================================================================+\n",
       "|   0 | 2014 |     5 |   2 | … |              0 |          9176 |             2310 | 285000 |\n",
       "|   1 | 2014 |     5 |   2 | … |              0 |          8595 |             1750 | 285000 |\n",
       "|   2 | 2014 |     5 |   2 | … |              0 |          9000 |             1850 | 440000 |\n",
       "|   3 | 2014 |     5 |   2 | … |              0 |          8942 |             1260 | 435000 |\n",
       "|   4 | 2014 |     5 |   2 | … |              0 |         10836 |             1450 | 430000 |\n",
       "+-----+------+-------+-----+---+----------------+---------------+------------------+--------+"
      ]
     },
     "execution_count": 17,
     "metadata": {},
     "output_type": "execute_result"
    }
   ],
   "source": [
    "# removes columns \"latitude\" and \"longitude\" from table\n",
    "pricing_columns = pricing.remove_columns([\"latitude\", \"longitude\"])\n",
    "# removes rows which contain missing values\n",
    "pricing_values = pricing_columns.remove_rows_with_missing_values()\n",
    "# removes rows which contain outliers\n",
    "pricing_outliers = pricing_values.remove_rows_with_outliers()\n",
    "# For visualisation purposes we only print out the first 5 rows.\n",
    "pricing_outliers.slice_rows(0,5)"
   ]
  },
  {
   "cell_type": "markdown",
   "metadata": {},
   "source": [
    "See how to perform further Data-Cleaning at: https://library.safeds.com/en/stable/tutorials/data_processing"
   ]
  },
  {
   "cell_type": "markdown",
   "metadata": {
    "collapsed": false
   },
   "source": [
    "## Create Training and Testing Set\n",
    "\n",
    "Split the house sales dataset into two tables. A training set, that will be used later to implement a training model to predict the house prices. It contains 60% of the data. The testing set contains the rest of the data. Delete the column `price` from the test set, to be able to predict it later:\n"
   ]
  },
  {
   "cell_type": "code",
   "execution_count": 18,
   "metadata": {
    "ExecuteTime": {
     "end_time": "2024-05-24T11:02:43.020110800Z",
     "start_time": "2024-05-24T11:02:42.978634800Z"
    },
    "collapsed": false
   },
   "outputs": [],
   "source": [
    "train_table, testing_table = pricing_outliers.split_rows(0.60)\n",
    "\n",
    "test_table = testing_table.remove_columns([\"price\"]).shuffle_rows()"
   ]
  },
  {
   "cell_type": "markdown",
   "metadata": {
    "collapsed": false
   },
   "source": [
    "Mark the `price` `Column` as the target variable to be predicted. Include the `id` column only as an extra column, which is completely ignored by the model:"
   ]
  },
  {
   "cell_type": "code",
   "execution_count": 19,
   "metadata": {
    "ExecuteTime": {
     "end_time": "2024-05-24T11:02:43.020110800Z",
     "start_time": "2024-05-24T11:02:42.987977400Z"
    },
    "collapsed": false
   },
   "outputs": [],
   "source": [
    "extra_names = [\"id\"]\n",
    "\n",
    "train_tabular_dataset = train_table.to_tabular_dataset(\"price\", extra_names=extra_names)"
   ]
  },
  {
   "cell_type": "markdown",
   "metadata": {
    "collapsed": false
   },
   "source": [
    "## Creating and Fitting a Regressor\n",
    "\n",
    "Use `Decision Tree` regressor as a model for the regression. Pass the \"train_tabular_dataset\" table to the fit function of the model:\n"
   ]
  },
  {
   "cell_type": "code",
   "execution_count": 20,
   "metadata": {
    "ExecuteTime": {
     "end_time": "2024-05-24T11:02:43.734095500Z",
     "start_time": "2024-05-24T11:02:42.991527800Z"
    },
    "collapsed": false
   },
   "outputs": [],
   "source": [
    "from safeds.ml.classical.regression import DecisionTreeRegressor\n",
    "\n",
    "model = DecisionTreeRegressor()\n",
    "fitted_model = model.fit(train_tabular_dataset)"
   ]
  },
  {
   "cell_type": "markdown",
   "metadata": {
    "collapsed": false
   },
   "source": [
    "## Predicting with the Fitted Regressor\n",
    "\n",
    "Use the fitted decision tree regression model, that we trained on the training dataset to predict the price of a house in the test dataset.\n"
   ]
  },
  {
   "cell_type": "code",
   "execution_count": 21,
   "metadata": {
    "ExecuteTime": {
     "end_time": "2024-05-24T11:02:43.747030600Z",
     "start_time": "2024-05-24T11:02:43.730090600Z"
    },
    "collapsed": false
   },
   "outputs": [
    {
     "data": {
      "text/html": [
       "<div><style>\n",
       ".dataframe > thead > tr,\n",
       ".dataframe > tbody > tr {\n",
       "  text-align: right;\n",
       "  white-space: pre-wrap;\n",
       "}\n",
       "</style>\n",
       "<small>shape: (15, 21)</small><table border=\"1\" class=\"dataframe\"><thead><tr><th>id</th><th>year</th><th>month</th><th>day</th><th>zipcode</th><th>sqft_lot</th><th>sqft_living</th><th>sqft_above</th><th>sqft_basement</th><th>floors</th><th>bedrooms</th><th>bathrooms</th><th>waterfront</th><th>view</th><th>condition</th><th>grade</th><th>year_built</th><th>year_renovated</th><th>sqft_lot_15nn</th><th>sqft_living_15nn</th><th>price</th></tr><tr><td>i64</td><td>i64</td><td>i64</td><td>i64</td><td>i64</td><td>i64</td><td>i64</td><td>i64</td><td>i64</td><td>f64</td><td>i64</td><td>f64</td><td>i64</td><td>i64</td><td>i64</td><td>i64</td><td>i64</td><td>i64</td><td>i64</td><td>i64</td><td>f64</td></tr></thead><tbody><tr><td>13188</td><td>2014</td><td>12</td><td>1</td><td>98033</td><td>7300</td><td>1240</td><td>1240</td><td>0</td><td>1.0</td><td>3</td><td>1.0</td><td>0</td><td>1</td><td>3</td><td>7</td><td>1968</td><td>0</td><td>8260</td><td>1240</td><td>596442.857143</td></tr><tr><td>2387</td><td>2014</td><td>6</td><td>10</td><td>98106</td><td>6771</td><td>1780</td><td>1230</td><td>550</td><td>1.0</td><td>3</td><td>2.5</td><td>0</td><td>1</td><td>3</td><td>7</td><td>1990</td><td>0</td><td>6771</td><td>1780</td><td>388525.0</td></tr><tr><td>15530</td><td>2015</td><td>1</td><td>28</td><td>98188</td><td>7492</td><td>2560</td><td>2560</td><td>0</td><td>2.0</td><td>4</td><td>2.5</td><td>0</td><td>1</td><td>3</td><td>8</td><td>2014</td><td>0</td><td>11541</td><td>1260</td><td>339400.0</td></tr><tr><td>3605</td><td>2014</td><td>6</td><td>25</td><td>98136</td><td>1493</td><td>1350</td><td>1050</td><td>300</td><td>2.0</td><td>2</td><td>2.25</td><td>0</td><td>1</td><td>3</td><td>8</td><td>2007</td><td>0</td><td>1202</td><td>1250</td><td>345277.777778</td></tr><tr><td>1829</td><td>2014</td><td>6</td><td>2</td><td>98112</td><td>4337</td><td>1840</td><td>1840</td><td>0</td><td>2.0</td><td>4</td><td>1.5</td><td>0</td><td>1</td><td>4</td><td>8</td><td>1917</td><td>0</td><td>4337</td><td>2250</td><td>703114.666667</td></tr><tr><td>&hellip;</td><td>&hellip;</td><td>&hellip;</td><td>&hellip;</td><td>&hellip;</td><td>&hellip;</td><td>&hellip;</td><td>&hellip;</td><td>&hellip;</td><td>&hellip;</td><td>&hellip;</td><td>&hellip;</td><td>&hellip;</td><td>&hellip;</td><td>&hellip;</td><td>&hellip;</td><td>&hellip;</td><td>&hellip;</td><td>&hellip;</td><td>&hellip;</td><td>&hellip;</td></tr><tr><td>13522</td><td>2014</td><td>12</td><td>5</td><td>98052</td><td>9250</td><td>2150</td><td>2150</td><td>0</td><td>2.0</td><td>3</td><td>2.25</td><td>0</td><td>1</td><td>3</td><td>8</td><td>1984</td><td>0</td><td>9266</td><td>2240</td><td>489377.142857</td></tr><tr><td>16479</td><td>2015</td><td>2</td><td>22</td><td>98136</td><td>4800</td><td>1490</td><td>750</td><td>740</td><td>1.0</td><td>2</td><td>1.75</td><td>0</td><td>1</td><td>4</td><td>7</td><td>1918</td><td>0</td><td>6000</td><td>1400</td><td>553560.0</td></tr><tr><td>18536</td><td>2015</td><td>3</td><td>27</td><td>98118</td><td>1228</td><td>1100</td><td>900</td><td>200</td><td>2.0</td><td>2</td><td>1.5</td><td>0</td><td>1</td><td>3</td><td>7</td><td>2007</td><td>0</td><td>1380</td><td>1340</td><td>293458.333333</td></tr><tr><td>13785</td><td>2014</td><td>12</td><td>10</td><td>98133</td><td>5400</td><td>1240</td><td>1060</td><td>180</td><td>1.0</td><td>3</td><td>1.0</td><td>0</td><td>1</td><td>4</td><td>7</td><td>1940</td><td>0</td><td>5400</td><td>1429</td><td>565200.0</td></tr><tr><td>20820</td><td>2015</td><td>4</td><td>29</td><td>98053</td><td>2482</td><td>1290</td><td>1290</td><td>0</td><td>2.0</td><td>2</td><td>1.0</td><td>0</td><td>1</td><td>3</td><td>7</td><td>2008</td><td>0</td><td>2482</td><td>1290</td><td>231399.8</td></tr></tbody></table></div>"
      ],
      "text/plain": [
       "+-------+------+-------+-----+---+----------------+---------------+-----------------+--------------+\n",
       "|    id | year | month | day | … | year_renovated | sqft_lot_15nn | sqft_living_15n |        price |\n",
       "|   --- |  --- |   --- | --- |   |            --- |           --- |               n |          --- |\n",
       "|   i64 |  i64 |   i64 | i64 |   |            i64 |           i64 |             --- |          f64 |\n",
       "|       |      |       |     |   |                |               |             i64 |              |\n",
       "+==================================================================================================+\n",
       "| 13188 | 2014 |    12 |   1 | … |              0 |          8260 |            1240 | 596442.85714 |\n",
       "|  2387 | 2014 |     6 |  10 | … |              0 |          6771 |            1780 | 388525.00000 |\n",
       "| 15530 | 2015 |     1 |  28 | … |              0 |         11541 |            1260 | 339400.00000 |\n",
       "|  3605 | 2014 |     6 |  25 | … |              0 |          1202 |            1250 | 345277.77778 |\n",
       "|  1829 | 2014 |     6 |   2 | … |              0 |          4337 |            2250 | 703114.66667 |\n",
       "|     … |    … |     … |   … | … |              … |             … |               … |            … |\n",
       "| 13522 | 2014 |    12 |   5 | … |              0 |          9266 |            2240 | 489377.14286 |\n",
       "| 16479 | 2015 |     2 |  22 | … |              0 |          6000 |            1400 | 553560.00000 |\n",
       "| 18536 | 2015 |     3 |  27 | … |              0 |          1380 |            1340 | 293458.33333 |\n",
       "| 13785 | 2014 |    12 |  10 | … |              0 |          5400 |            1429 | 565200.00000 |\n",
       "| 20820 | 2015 |     4 |  29 | … |              0 |          2482 |            1290 | 231399.80000 |\n",
       "+-------+------+-------+-----+---+----------------+---------------+-----------------+--------------+"
      ]
     },
     "execution_count": 21,
     "metadata": {},
     "output_type": "execute_result"
    }
   ],
   "source": [
    "prediction = fitted_model.predict(\n",
    "    test_table\n",
    ")\n",
    "# For visualisation purposes we only print out the first 15 rows.\n",
    "prediction.to_table().slice_rows(start=0, length=15)"
   ]
  },
  {
   "cell_type": "markdown",
   "metadata": {
    "collapsed": false
   },
   "source": [
    "## Evaluating the Fitted Regressor\n",
    "\n",
    "You can test the mean absolute error of that model with the initial testing_table as follows:"
   ]
  },
  {
   "cell_type": "code",
   "execution_count": 22,
   "metadata": {
    "ExecuteTime": {
     "end_time": "2024-05-24T11:02:43.748029100Z",
     "start_time": "2024-05-24T11:02:43.738085900Z"
    },
    "collapsed": false
   },
   "outputs": [
    {
     "data": {
      "text/plain": [
       "92672.57153031077"
      ]
     },
     "execution_count": 22,
     "metadata": {},
     "output_type": "execute_result"
    }
   ],
   "source": [
    "test_tabular_dataset = testing_table.to_tabular_dataset(\"price\", extra_names=extra_names)\n",
    "\n",
    "fitted_model.mean_absolute_error(test_tabular_dataset)"
   ]
  },
  {
   "cell_type": "markdown",
   "metadata": {},
   "source": [
    "## Full Code"
   ]
  },
  {
   "cell_type": "code",
   "execution_count": 23,
   "metadata": {},
   "outputs": [
    {
     "data": {
      "text/plain": [
       "92482.6376337888"
      ]
     },
     "execution_count": 23,
     "metadata": {},
     "output_type": "execute_result"
    }
   ],
   "source": [
    "from safeds.data.tabular.containers import Table\n",
    "from safeds.ml.classical.regression import DecisionTreeRegressor\n",
    "\n",
    "pricing = Table.from_csv_file(\"data/house_sales.csv\")\n",
    "\n",
    "pricing_columns = pricing.remove_columns([\"latitude\", \"longitude\"])\n",
    "pricing_values = pricing_columns.remove_rows_with_missing_values()\n",
    "pricing_outliers = pricing_values.remove_rows_with_outliers()\n",
    "\n",
    "train_table, testing_table = pricing_outliers.split_rows(0.60)\n",
    "test_table = testing_table.remove_columns([\"price\"]).shuffle_rows()\n",
    "\n",
    "extra_names = [\"id\"]\n",
    "train_tabular_dataset = train_table.to_tabular_dataset(\"price\", extra_names=extra_names)\n",
    "\n",
    "model = DecisionTreeRegressor()\n",
    "fitted_model = model.fit(train_tabular_dataset)\n",
    "prediction = fitted_model.predict(test_table)\n",
    "\n",
    "test_tabular_dataset = testing_table.to_tabular_dataset(\"price\", extra_names=extra_names)\n",
    "fitted_model.mean_absolute_error(test_tabular_dataset)"
   ]
  }
 ],
 "metadata": {
  "kernelspec": {
   "display_name": "Python 3",
   "language": "python",
   "name": "python3"
  },
  "language_info": {
   "codemirror_mode": {
    "name": "ipython",
    "version": 3
   },
   "file_extension": ".py",
   "mimetype": "text/x-python",
   "name": "python",
   "nbconvert_exporter": "python",
   "pygments_lexer": "ipython3",
   "version": "3.12.4"
  }
 },
 "nbformat": 4,
 "nbformat_minor": 0
}
