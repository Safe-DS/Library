{
 "cells": [
  {
   "cell_type": "markdown",
   "metadata": {
    "collapsed": false
   },
   "source": [
    "# Regression\n",
    "\n",
    "This tutorial uses Safe-DS on **house sales data** to predict house prices.\n"
   ]
  },
  {
   "cell_type": "markdown",
   "metadata": {
    "collapsed": false
   },
   "source": [
    "## File and Imports\n",
    "\n",
    "Start by creating a Python-File with the suffix ``.py``.\n"
   ]
  },
  {
   "cell_type": "markdown",
   "metadata": {},
   "source": [
    "## Reading Data\n",
    "\n",
    "Download the house sales data from [here](https://github.com/Safe-DS/Datasets/blob/main/src/safeds_datasets/tabular/_house_sales/data/house_sales.csv) and load it into a `Table`:"
   ]
  },
  {
   "cell_type": "code",
   "execution_count": 1,
   "metadata": {
    "collapsed": false
   },
   "outputs": [
    {
     "data": {
      "text/html": [
       "<div><style>\n",
       ".dataframe > thead > tr,\n",
       ".dataframe > tbody > tr {\n",
       "  text-align: right;\n",
       "  white-space: pre-wrap;\n",
       "}\n",
       "</style>\n",
       "<small>shape: (15, 23)</small><table border=\"1\" class=\"dataframe\"><thead><tr><th>id</th><th>year</th><th>month</th><th>day</th><th>zipcode</th><th>latitude</th><th>longitude</th><th>sqft_lot</th><th>sqft_living</th><th>sqft_above</th><th>sqft_basement</th><th>floors</th><th>bedrooms</th><th>bathrooms</th><th>waterfront</th><th>view</th><th>condition</th><th>grade</th><th>year_built</th><th>year_renovated</th><th>sqft_lot_15nn</th><th>sqft_living_15nn</th><th>price</th></tr><tr><td>i64</td><td>i64</td><td>i64</td><td>i64</td><td>i64</td><td>f64</td><td>f64</td><td>i64</td><td>i64</td><td>i64</td><td>i64</td><td>f64</td><td>i64</td><td>f64</td><td>i64</td><td>i64</td><td>i64</td><td>i64</td><td>i64</td><td>i64</td><td>i64</td><td>i64</td><td>i64</td></tr></thead><tbody><tr><td>0</td><td>2014</td><td>5</td><td>2</td><td>98001</td><td>47.3406</td><td>-122.269</td><td>9397</td><td>2200</td><td>2200</td><td>0</td><td>2.0</td><td>4</td><td>2.5</td><td>0</td><td>1</td><td>3</td><td>8</td><td>1987</td><td>0</td><td>9176</td><td>2310</td><td>285000</td></tr><tr><td>1</td><td>2014</td><td>5</td><td>2</td><td>98003</td><td>47.3537</td><td>-122.303</td><td>10834</td><td>2090</td><td>1360</td><td>730</td><td>1.0</td><td>3</td><td>2.5</td><td>0</td><td>1</td><td>4</td><td>8</td><td>1987</td><td>0</td><td>8595</td><td>1750</td><td>285000</td></tr><tr><td>2</td><td>2014</td><td>5</td><td>2</td><td>98006</td><td>47.5443</td><td>-122.177</td><td>8119</td><td>2160</td><td>1080</td><td>1080</td><td>1.0</td><td>4</td><td>2.25</td><td>0</td><td>1</td><td>3</td><td>8</td><td>1966</td><td>0</td><td>9000</td><td>1850</td><td>440000</td></tr><tr><td>3</td><td>2014</td><td>5</td><td>2</td><td>98006</td><td>47.5746</td><td>-122.135</td><td>8800</td><td>1450</td><td>1450</td><td>0</td><td>1.0</td><td>4</td><td>1.0</td><td>0</td><td>1</td><td>4</td><td>7</td><td>1954</td><td>0</td><td>8942</td><td>1260</td><td>435000</td></tr><tr><td>4</td><td>2014</td><td>5</td><td>2</td><td>98006</td><td>47.5725</td><td>-122.133</td><td>10000</td><td>1920</td><td>1070</td><td>850</td><td>1.0</td><td>4</td><td>1.5</td><td>0</td><td>1</td><td>4</td><td>7</td><td>1954</td><td>0</td><td>10836</td><td>1450</td><td>430000</td></tr><tr><td>&hellip;</td><td>&hellip;</td><td>&hellip;</td><td>&hellip;</td><td>&hellip;</td><td>&hellip;</td><td>&hellip;</td><td>&hellip;</td><td>&hellip;</td><td>&hellip;</td><td>&hellip;</td><td>&hellip;</td><td>&hellip;</td><td>&hellip;</td><td>&hellip;</td><td>&hellip;</td><td>&hellip;</td><td>&hellip;</td><td>&hellip;</td><td>&hellip;</td><td>&hellip;</td><td>&hellip;</td><td>&hellip;</td></tr><tr><td>10</td><td>2014</td><td>5</td><td>2</td><td>98023</td><td>47.3256</td><td>-122.378</td><td>33151</td><td>3240</td><td>3240</td><td>0</td><td>2.0</td><td>3</td><td>2.5</td><td>0</td><td>3</td><td>3</td><td>10</td><td>1995</td><td>0</td><td>24967</td><td>4050</td><td>604000</td></tr><tr><td>11</td><td>2014</td><td>5</td><td>2</td><td>98024</td><td>47.5643</td><td>-121.897</td><td>16215</td><td>1580</td><td>1580</td><td>0</td><td>1.0</td><td>3</td><td>2.25</td><td>0</td><td>1</td><td>4</td><td>7</td><td>1978</td><td>0</td><td>16215</td><td>1450</td><td>335000</td></tr><tr><td>12</td><td>2014</td><td>5</td><td>2</td><td>98027</td><td>47.4635</td><td>-121.991</td><td>35100</td><td>1970</td><td>1970</td><td>0</td><td>2.0</td><td>3</td><td>2.25</td><td>0</td><td>1</td><td>4</td><td>9</td><td>1977</td><td>0</td><td>35100</td><td>2340</td><td>437500</td></tr><tr><td>13</td><td>2014</td><td>5</td><td>2</td><td>98027</td><td>47.4634</td><td>-121.987</td><td>37277</td><td>2710</td><td>2710</td><td>0</td><td>2.0</td><td>4</td><td>2.75</td><td>0</td><td>1</td><td>3</td><td>9</td><td>2000</td><td>0</td><td>39299</td><td>2390</td><td>630000</td></tr><tr><td>14</td><td>2014</td><td>5</td><td>2</td><td>98029</td><td>47.5794</td><td>-122.025</td><td>67518</td><td>2820</td><td>2820</td><td>0</td><td>2.0</td><td>5</td><td>2.5</td><td>0</td><td>1</td><td>3</td><td>8</td><td>1979</td><td>0</td><td>48351</td><td>2820</td><td>675000</td></tr></tbody></table></div>"
      ],
      "text/plain": [
       "+-----+------+-------+-----+---+----------------+---------------+------------------+--------+\n",
       "|  id | year | month | day | … | year_renovated | sqft_lot_15nn | sqft_living_15nn |  price |\n",
       "| --- |  --- |   --- | --- |   |            --- |           --- |              --- |    --- |\n",
       "| i64 |  i64 |   i64 | i64 |   |            i64 |           i64 |              i64 |    i64 |\n",
       "+===========================================================================================+\n",
       "|   0 | 2014 |     5 |   2 | … |              0 |          9176 |             2310 | 285000 |\n",
       "|   1 | 2014 |     5 |   2 | … |              0 |          8595 |             1750 | 285000 |\n",
       "|   2 | 2014 |     5 |   2 | … |              0 |          9000 |             1850 | 440000 |\n",
       "|   3 | 2014 |     5 |   2 | … |              0 |          8942 |             1260 | 435000 |\n",
       "|   4 | 2014 |     5 |   2 | … |              0 |         10836 |             1450 | 430000 |\n",
       "|   … |    … |     … |   … | … |              … |             … |                … |      … |\n",
       "|  10 | 2014 |     5 |   2 | … |              0 |         24967 |             4050 | 604000 |\n",
       "|  11 | 2014 |     5 |   2 | … |              0 |         16215 |             1450 | 335000 |\n",
       "|  12 | 2014 |     5 |   2 | … |              0 |         35100 |             2340 | 437500 |\n",
       "|  13 | 2014 |     5 |   2 | … |              0 |         39299 |             2390 | 630000 |\n",
       "|  14 | 2014 |     5 |   2 | … |              0 |         48351 |             2820 | 675000 |\n",
       "+-----+------+-------+-----+---+----------------+---------------+------------------+--------+"
      ]
     },
     "execution_count": 1,
     "metadata": {},
     "output_type": "execute_result"
    }
   ],
   "source": [
    "from safeds.data.tabular.containers import Table\n",
    "\n",
    "pricing = Table.from_csv_file(\"data/house_sales.csv\")\n",
    "# For visualisation purposes, we only print out the first 15 rows.\n",
    "pricing.slice_rows(length=15)"
   ]
  },
  {
   "cell_type": "markdown",
   "metadata": {},
   "source": [
    "## Cleaning your Data\n",
    "\n",
    "At this point it is usual to clean the data. Here's an example how to do so:"
   ]
  },
  {
   "cell_type": "code",
   "execution_count": 2,
   "metadata": {},
   "outputs": [
    {
     "data": {
      "text/html": [
       "<div><style>\n",
       ".dataframe > thead > tr,\n",
       ".dataframe > tbody > tr {\n",
       "  text-align: right;\n",
       "  white-space: pre-wrap;\n",
       "}\n",
       "</style>\n",
       "<small>shape: (5, 21)</small><table border=\"1\" class=\"dataframe\"><thead><tr><th>id</th><th>year</th><th>month</th><th>day</th><th>zipcode</th><th>sqft_lot</th><th>sqft_living</th><th>sqft_above</th><th>sqft_basement</th><th>floors</th><th>bedrooms</th><th>bathrooms</th><th>waterfront</th><th>view</th><th>condition</th><th>grade</th><th>year_built</th><th>year_renovated</th><th>sqft_lot_15nn</th><th>sqft_living_15nn</th><th>price</th></tr><tr><td>i64</td><td>i64</td><td>i64</td><td>i64</td><td>i64</td><td>i64</td><td>i64</td><td>i64</td><td>i64</td><td>f64</td><td>i64</td><td>f64</td><td>i64</td><td>i64</td><td>i64</td><td>i64</td><td>i64</td><td>i64</td><td>i64</td><td>i64</td><td>i64</td></tr></thead><tbody><tr><td>0</td><td>2014</td><td>5</td><td>2</td><td>98001</td><td>9397</td><td>2200</td><td>2200</td><td>0</td><td>2.0</td><td>4</td><td>2.5</td><td>0</td><td>1</td><td>3</td><td>8</td><td>1987</td><td>0</td><td>9176</td><td>2310</td><td>285000</td></tr><tr><td>1</td><td>2014</td><td>5</td><td>2</td><td>98003</td><td>10834</td><td>2090</td><td>1360</td><td>730</td><td>1.0</td><td>3</td><td>2.5</td><td>0</td><td>1</td><td>4</td><td>8</td><td>1987</td><td>0</td><td>8595</td><td>1750</td><td>285000</td></tr><tr><td>2</td><td>2014</td><td>5</td><td>2</td><td>98006</td><td>8119</td><td>2160</td><td>1080</td><td>1080</td><td>1.0</td><td>4</td><td>2.25</td><td>0</td><td>1</td><td>3</td><td>8</td><td>1966</td><td>0</td><td>9000</td><td>1850</td><td>440000</td></tr><tr><td>3</td><td>2014</td><td>5</td><td>2</td><td>98006</td><td>8800</td><td>1450</td><td>1450</td><td>0</td><td>1.0</td><td>4</td><td>1.0</td><td>0</td><td>1</td><td>4</td><td>7</td><td>1954</td><td>0</td><td>8942</td><td>1260</td><td>435000</td></tr><tr><td>4</td><td>2014</td><td>5</td><td>2</td><td>98006</td><td>10000</td><td>1920</td><td>1070</td><td>850</td><td>1.0</td><td>4</td><td>1.5</td><td>0</td><td>1</td><td>4</td><td>7</td><td>1954</td><td>0</td><td>10836</td><td>1450</td><td>430000</td></tr></tbody></table></div>"
      ],
      "text/plain": [
       "+-----+------+-------+-----+---+----------------+---------------+------------------+--------+\n",
       "|  id | year | month | day | … | year_renovated | sqft_lot_15nn | sqft_living_15nn |  price |\n",
       "| --- |  --- |   --- | --- |   |            --- |           --- |              --- |    --- |\n",
       "| i64 |  i64 |   i64 | i64 |   |            i64 |           i64 |              i64 |    i64 |\n",
       "+===========================================================================================+\n",
       "|   0 | 2014 |     5 |   2 | … |              0 |          9176 |             2310 | 285000 |\n",
       "|   1 | 2014 |     5 |   2 | … |              0 |          8595 |             1750 | 285000 |\n",
       "|   2 | 2014 |     5 |   2 | … |              0 |          9000 |             1850 | 440000 |\n",
       "|   3 | 2014 |     5 |   2 | … |              0 |          8942 |             1260 | 435000 |\n",
       "|   4 | 2014 |     5 |   2 | … |              0 |         10836 |             1450 | 430000 |\n",
       "+-----+------+-------+-----+---+----------------+---------------+------------------+--------+"
      ]
     },
     "execution_count": 2,
     "metadata": {},
     "output_type": "execute_result"
    }
   ],
   "source": [
    "pricing_columns = (\n",
    "    # Removes columns \"latitude\" and \"longitude\" from table\n",
    "    pricing.remove_columns([\"latitude\", \"longitude\"])\n",
    "    # Removes rows which contain missing values\n",
    "    .remove_rows_with_missing_values()\n",
    "    # Removes rows which contain outliers\n",
    "    .remove_rows_with_outliers()\n",
    ")\n",
    "# For visualisation purposes, we only print out the first 5 rows.\n",
    "pricing_columns.slice_rows(length=5)"
   ]
  },
  {
   "cell_type": "markdown",
   "metadata": {},
   "source": [
    "See how to perform further data cleaning in the dedicated [Data Processing Tutorial](../data_processing)."
   ]
  },
  {
   "cell_type": "markdown",
   "metadata": {
    "collapsed": false
   },
   "source": [
    "## Create Training and Testing Set\n",
    "\n",
    "Split the house sales dataset into two tables. A training set, that will be used later to implement a training model to predict the house prices. It contains 60% of the data. The testing set contains the rest of the data.\n"
   ]
  },
  {
   "cell_type": "code",
   "execution_count": 3,
   "metadata": {
    "collapsed": false
   },
   "outputs": [],
   "source": [
    "train_table, testing_table = pricing_columns.split_rows(0.60)"
   ]
  },
  {
   "cell_type": "markdown",
   "metadata": {
    "collapsed": false
   },
   "source": [
    "Mark the `price` `Column` as the target variable to be predicted. Include the `id` column only as an extra column, which is completely ignored by the model:"
   ]
  },
  {
   "cell_type": "code",
   "execution_count": 4,
   "metadata": {
    "collapsed": false
   },
   "outputs": [],
   "source": [
    "extra_names = [\"id\"]\n",
    "\n",
    "train_tabular_dataset = train_table.to_tabular_dataset(\"price\", extra_names=extra_names)"
   ]
  },
  {
   "cell_type": "markdown",
   "metadata": {
    "collapsed": false
   },
   "source": [
    "## Creating and Fitting a Regressor\n",
    "\n",
    "Use `Decision Tree` regressor as a model for the regression. Pass the \"train_tabular_dataset\" table to the fit function of the model:\n"
   ]
  },
  {
   "cell_type": "code",
   "execution_count": 5,
   "metadata": {
    "collapsed": false
   },
   "outputs": [],
   "source": [
    "from safeds.ml.classical.regression import DecisionTreeRegressor\n",
    "\n",
    "fitted_model = DecisionTreeRegressor().fit(train_tabular_dataset)"
   ]
  },
  {
   "cell_type": "markdown",
   "metadata": {
    "collapsed": false
   },
   "source": [
    "## Predicting with the Fitted Regressor\n",
    "\n",
    "Use the fitted decision tree regression model, that we trained on the training dataset to predict the price of a house in the test dataset.\n"
   ]
  },
  {
   "cell_type": "code",
   "execution_count": 6,
   "metadata": {
    "collapsed": false
   },
   "outputs": [
    {
     "data": {
      "text/html": [
       "<div><style>\n",
       ".dataframe > thead > tr,\n",
       ".dataframe > tbody > tr {\n",
       "  text-align: right;\n",
       "  white-space: pre-wrap;\n",
       "}\n",
       "</style>\n",
       "<small>shape: (15, 21)</small><table border=\"1\" class=\"dataframe\"><thead><tr><th>id</th><th>year</th><th>month</th><th>day</th><th>zipcode</th><th>sqft_lot</th><th>sqft_living</th><th>sqft_above</th><th>sqft_basement</th><th>floors</th><th>bedrooms</th><th>bathrooms</th><th>waterfront</th><th>view</th><th>condition</th><th>grade</th><th>year_built</th><th>year_renovated</th><th>sqft_lot_15nn</th><th>sqft_living_15nn</th><th>price</th></tr><tr><td>i64</td><td>i64</td><td>i64</td><td>i64</td><td>i64</td><td>i64</td><td>i64</td><td>i64</td><td>i64</td><td>f64</td><td>i64</td><td>f64</td><td>i64</td><td>i64</td><td>i64</td><td>i64</td><td>i64</td><td>i64</td><td>i64</td><td>i64</td><td>f64</td></tr></thead><tbody><tr><td>10549</td><td>2014</td><td>10</td><td>13</td><td>98103</td><td>5000</td><td>1240</td><td>1000</td><td>240</td><td>1.0</td><td>2</td><td>1.0</td><td>0</td><td>1</td><td>3</td><td>7</td><td>1920</td><td>0</td><td>3500</td><td>1480</td><td>550661.111111</td></tr><tr><td>17590</td><td>2015</td><td>3</td><td>14</td><td>98002</td><td>7312</td><td>2010</td><td>2010</td><td>0</td><td>1.0</td><td>4</td><td>2.0</td><td>0</td><td>1</td><td>4</td><td>7</td><td>1976</td><td>0</td><td>7650</td><td>2010</td><td>269944.444444</td></tr><tr><td>10889</td><td>2014</td><td>10</td><td>17</td><td>98103</td><td>3220</td><td>1120</td><td>1120</td><td>0</td><td>1.0</td><td>2</td><td>1.0</td><td>0</td><td>1</td><td>4</td><td>7</td><td>1923</td><td>0</td><td>3220</td><td>1440</td><td>550661.111111</td></tr><tr><td>12511</td><td>2014</td><td>11</td><td>14</td><td>98144</td><td>2457</td><td>1950</td><td>1950</td><td>0</td><td>3.0</td><td>2</td><td>2.5</td><td>0</td><td>1</td><td>3</td><td>8</td><td>2009</td><td>0</td><td>1639</td><td>1650</td><td>334662.5</td></tr><tr><td>20572</td><td>2015</td><td>4</td><td>27</td><td>98056</td><td>5038</td><td>1220</td><td>1220</td><td>0</td><td>1.0</td><td>3</td><td>1.0</td><td>0</td><td>1</td><td>5</td><td>6</td><td>1942</td><td>0</td><td>5038</td><td>1140</td><td>195130.555556</td></tr><tr><td>&hellip;</td><td>&hellip;</td><td>&hellip;</td><td>&hellip;</td><td>&hellip;</td><td>&hellip;</td><td>&hellip;</td><td>&hellip;</td><td>&hellip;</td><td>&hellip;</td><td>&hellip;</td><td>&hellip;</td><td>&hellip;</td><td>&hellip;</td><td>&hellip;</td><td>&hellip;</td><td>&hellip;</td><td>&hellip;</td><td>&hellip;</td><td>&hellip;</td><td>&hellip;</td></tr><tr><td>9097</td><td>2014</td><td>9</td><td>18</td><td>98003</td><td>7400</td><td>1130</td><td>1130</td><td>0</td><td>1.0</td><td>4</td><td>1.0</td><td>0</td><td>1</td><td>4</td><td>7</td><td>1969</td><td>0</td><td>7379</td><td>1540</td><td>223916.666667</td></tr><tr><td>8454</td><td>2014</td><td>9</td><td>8</td><td>98023</td><td>8470</td><td>840</td><td>840</td><td>0</td><td>1.0</td><td>3</td><td>1.0</td><td>0</td><td>1</td><td>4</td><td>6</td><td>1961</td><td>0</td><td>8450</td><td>840</td><td>109291.666667</td></tr><tr><td>7829</td><td>2014</td><td>8</td><td>26</td><td>98126</td><td>4025</td><td>820</td><td>820</td><td>0</td><td>1.0</td><td>2</td><td>1.0</td><td>0</td><td>3</td><td>5</td><td>6</td><td>1922</td><td>0</td><td>5750</td><td>1410</td><td>330190.0</td></tr><tr><td>19952</td><td>2015</td><td>4</td><td>17</td><td>98198</td><td>10187</td><td>1120</td><td>1120</td><td>0</td><td>1.0</td><td>3</td><td>1.75</td><td>0</td><td>1</td><td>3</td><td>7</td><td>1968</td><td>0</td><td>8736</td><td>1900</td><td>201880.0</td></tr><tr><td>18382</td><td>2015</td><td>3</td><td>26</td><td>98042</td><td>5929</td><td>2210</td><td>2210</td><td>0</td><td>2.0</td><td>4</td><td>2.5</td><td>0</td><td>1</td><td>3</td><td>8</td><td>2004</td><td>0</td><td>5901</td><td>2200</td><td>311491.666667</td></tr></tbody></table></div>"
      ],
      "text/plain": [
       "+-------+------+-------+-----+---+----------------+---------------+-----------------+--------------+\n",
       "|    id | year | month | day | … | year_renovated | sqft_lot_15nn | sqft_living_15n |        price |\n",
       "|   --- |  --- |   --- | --- |   |            --- |           --- |               n |          --- |\n",
       "|   i64 |  i64 |   i64 | i64 |   |            i64 |           i64 |             --- |          f64 |\n",
       "|       |      |       |     |   |                |               |             i64 |              |\n",
       "+==================================================================================================+\n",
       "| 10549 | 2014 |    10 |  13 | … |              0 |          3500 |            1480 | 550661.11111 |\n",
       "| 17590 | 2015 |     3 |  14 | … |              0 |          7650 |            2010 | 269944.44444 |\n",
       "| 10889 | 2014 |    10 |  17 | … |              0 |          3220 |            1440 | 550661.11111 |\n",
       "| 12511 | 2014 |    11 |  14 | … |              0 |          1639 |            1650 | 334662.50000 |\n",
       "| 20572 | 2015 |     4 |  27 | … |              0 |          5038 |            1140 | 195130.55556 |\n",
       "|     … |    … |     … |   … | … |              … |             … |               … |            … |\n",
       "|  9097 | 2014 |     9 |  18 | … |              0 |          7379 |            1540 | 223916.66667 |\n",
       "|  8454 | 2014 |     9 |   8 | … |              0 |          8450 |             840 | 109291.66667 |\n",
       "|  7829 | 2014 |     8 |  26 | … |              0 |          5750 |            1410 | 330190.00000 |\n",
       "| 19952 | 2015 |     4 |  17 | … |              0 |          8736 |            1900 | 201880.00000 |\n",
       "| 18382 | 2015 |     3 |  26 | … |              0 |          5901 |            2200 | 311491.66667 |\n",
       "+-------+------+-------+-----+---+----------------+---------------+-----------------+--------------+"
      ]
     },
     "execution_count": 6,
     "metadata": {},
     "output_type": "execute_result"
    }
   ],
   "source": [
    "prediction = fitted_model.predict(testing_table)\n",
    "# For visualisation purposes we only print out the first 15 rows.\n",
    "prediction.to_table().slice_rows(length=15)"
   ]
  },
  {
   "cell_type": "markdown",
   "metadata": {
    "collapsed": false
   },
   "source": [
    "## Evaluating the Fitted Regressor\n",
    "\n",
    "You can test the mean absolute error of that model with the initial testing_table as follows:"
   ]
  },
  {
   "cell_type": "code",
   "execution_count": 7,
   "metadata": {
    "collapsed": false
   },
   "outputs": [
    {
     "data": {
      "text/plain": [
       "92598.0054595909"
      ]
     },
     "execution_count": 7,
     "metadata": {},
     "output_type": "execute_result"
    }
   ],
   "source": [
    "fitted_model.mean_absolute_error(testing_table)"
   ]
  },
  {
   "cell_type": "markdown",
   "metadata": {},
   "source": [
    "## Full Code"
   ]
  },
  {
   "cell_type": "code",
   "execution_count": 8,
   "metadata": {},
   "outputs": [
    {
     "data": {
      "text/plain": [
       "92541.16556653795"
      ]
     },
     "execution_count": 8,
     "metadata": {},
     "output_type": "execute_result"
    }
   ],
   "source": [
    "from safeds.data.tabular.containers import Table\n",
    "from safeds.ml.classical.regression import DecisionTreeRegressor\n",
    "\n",
    "pricing = Table.from_csv_file(\"data/house_sales.csv\")\n",
    "\n",
    "pricing_columns = (\n",
    "    pricing.remove_columns([\"latitude\", \"longitude\"])\n",
    "    .remove_rows_with_missing_values()\n",
    "    .remove_rows_with_outliers()\n",
    ")\n",
    "\n",
    "train_table, testing_table = pricing_columns.split_rows(0.60)\n",
    "\n",
    "extra_names = [\"id\"]\n",
    "train_tabular_dataset = train_table.to_tabular_dataset(\"price\", extra_names=extra_names)\n",
    "\n",
    "fitted_model = DecisionTreeRegressor().fit(train_tabular_dataset)\n",
    "prediction = fitted_model.predict(testing_table)\n",
    "\n",
    "fitted_model.mean_absolute_error(testing_table)"
   ]
  }
 ],
 "metadata": {
  "kernelspec": {
   "display_name": "Python 3",
   "language": "python",
   "name": "python3"
  },
  "language_info": {
   "codemirror_mode": {
    "name": "ipython",
    "version": 3
   },
   "file_extension": ".py",
   "mimetype": "text/x-python",
   "name": "python",
   "nbconvert_exporter": "python",
   "pygments_lexer": "ipython3",
   "version": "3.12.4"
  }
 },
 "nbformat": 4,
 "nbformat_minor": 0
}
