{
 "cells": [
  {
   "cell_type": "markdown",
   "metadata": {},
   "source": [
    "# ImageList Processing\n",
    "\n",
    "This tutorial explains how multiple images can be handled and transformed with the `ImageList` class.\n",
    "\n",
    "<div class=\"admonition note\">\n",
    "  <p class=\"admonition-title\">Note</p>\n",
    "  <p>\n",
    "    All operations on an <code>ImageList</code> return a new <code>ImageList</code>. The original <code>ImageList</code> will not be changed.\n",
    "  </p>\n",
    "</div>"
   ]
  },
  {
   "cell_type": "markdown",
   "metadata": {},
   "source": [
    "## Load data into an `ImageList`:"
   ]
  },
  {
   "cell_type": "markdown",
   "source": [
    "1. Load images via files in an `ImageList`:"
   ],
   "metadata": {
    "collapsed": false
   }
  },
  {
   "cell_type": "code",
   "execution_count": null,
   "metadata": {},
   "outputs": [],
   "source": [
    "from safeds.data.image.containers import ImageList\n",
    "\n",
    "planes = ImageList.from_files([\"data/plane.png\", \"data/small_plane.png\"])\n",
    "planes"
   ]
  },
  {
   "cell_type": "markdown",
   "source": [
    "2. Create an `ImageList` from multiple `Image` objects:"
   ],
   "metadata": {
    "collapsed": false
   }
  },
  {
   "cell_type": "code",
   "execution_count": null,
   "metadata": {},
   "outputs": [],
   "source": [
    "from safeds.data.image.containers import Image\n",
    "\n",
    "plane = Image.from_file(\"data/plane.png\")\n",
    "small_plane = Image.from_file(\"data/small_plane.png\")\n",
    "\n",
    "ImageList.from_images([plane, small_plane])"
   ]
  },
  {
   "cell_type": "markdown",
   "source": [
    "## Process the image\n",
    "\n",
    "1. Resize the images in the `ImageList` to have the width 200 and height 200:"
   ],
   "metadata": {
    "collapsed": false
   }
  },
  {
   "cell_type": "code",
   "execution_count": null,
   "metadata": {},
   "outputs": [],
   "source": [
    "planes.resize(200, 200)"
   ]
  },
  {
   "cell_type": "markdown",
   "source": [
    "2. Convert the images in the `ImageList` to grayscale:"
   ],
   "metadata": {
    "collapsed": false
   }
  },
  {
   "cell_type": "code",
   "execution_count": null,
   "outputs": [],
   "source": [
    "planes.convert_to_grayscale()\n"
   ],
   "metadata": {
    "collapsed": false
   }
  },
  {
   "cell_type": "markdown",
   "source": [
    "3. Crop the images in the `ImageList` to be 200x200 with the top-left corner being at (115, 30):"
   ],
   "metadata": {
    "collapsed": false
   }
  },
  {
   "cell_type": "code",
   "execution_count": null,
   "outputs": [],
   "source": [
    "planes.crop(x=115, y=30, width=200, height=200)\n"
   ],
   "metadata": {
    "collapsed": false
   }
  },
  {
   "cell_type": "markdown",
   "source": [
    "4. Flip the images in the `ImageList` horizontally (or vertically):"
   ],
   "metadata": {
    "collapsed": false
   }
  },
  {
   "cell_type": "code",
   "execution_count": null,
   "outputs": [],
   "source": [
    "planes.flip_horizontally()\n"
   ],
   "metadata": {
    "collapsed": false
   }
  },
  {
   "cell_type": "markdown",
   "source": [
    "5. Adjust the brightness of the images in the `ImageList`.\n",
    "\n",
    "Giving a factor below 1 will result in darker images, a factor above 1 will return brighter images."
   ],
   "metadata": {
    "collapsed": false
   }
  },
  {
   "cell_type": "code",
   "execution_count": null,
   "outputs": [],
   "source": [
    "planes.adjust_brightness(1.5)\n"
   ],
   "metadata": {
    "collapsed": false
   }
  },
  {
   "cell_type": "markdown",
   "source": [
    "6. Adjust the contrast of the images in the `ImageList`.\n",
    "\n",
    "Giving a factor below 1 will decrease the contrast of the images, a factor above 1 will increase the contrast of the images."
   ],
   "metadata": {
    "collapsed": false
   }
  },
  {
   "cell_type": "code",
   "execution_count": null,
   "outputs": [],
   "source": [
    "planes.adjust_contrast(1.5)\n"
   ],
   "metadata": {
    "collapsed": false
   }
  },
  {
   "cell_type": "markdown",
   "source": [
    "7. Adjust the color balance of the images in the `ImageList`.\n",
    "\n",
    "A factor of 0 will return black and white images, a factor of 1 will return a copy of the original `ImageList`."
   ],
   "metadata": {
    "collapsed": false
   }
  },
  {
   "cell_type": "code",
   "execution_count": null,
   "outputs": [],
   "source": [
    "planes.adjust_color_balance(0.5)"
   ],
   "metadata": {
    "collapsed": false
   }
  },
  {
   "cell_type": "markdown",
   "source": [
    "8. Blur the images in the `ImageList`:\n",
    "\n",
    "The higher the radius, the blurrier the images get.\n",
    "The radius defines the amount of pixels combined in each direction."
   ],
   "metadata": {
    "collapsed": false
   }
  },
  {
   "cell_type": "code",
   "execution_count": null,
   "outputs": [],
   "source": [
    "planes.blur(5)\n"
   ],
   "metadata": {
    "collapsed": false
   }
  },
  {
   "cell_type": "markdown",
   "source": [
    "9. Sharpen the images in the `ImageList`:\n",
    "\n",
    "The factor defines the sharpness of the returned images."
   ],
   "metadata": {
    "collapsed": false
   }
  },
  {
   "cell_type": "code",
   "execution_count": null,
   "outputs": [],
   "source": [
    "planes.sharpen(5)\n"
   ],
   "metadata": {
    "collapsed": false
   }
  },
  {
   "cell_type": "markdown",
   "source": [
    "10. Invert the colors of the images in the `ImageList`:"
   ],
   "metadata": {
    "collapsed": false
   }
  },
  {
   "cell_type": "code",
   "execution_count": null,
   "outputs": [],
   "source": [
    "planes.invert_colors()\n"
   ],
   "metadata": {
    "collapsed": false
   }
  },
  {
   "cell_type": "markdown",
   "source": [
    "11. Rotate the images in the `ImageList` to the right (or the left):"
   ],
   "metadata": {
    "collapsed": false
   }
  },
  {
   "cell_type": "code",
   "execution_count": null,
   "outputs": [],
   "source": [
    "planes.rotate_right()\n"
   ],
   "metadata": {
    "collapsed": false
   }
  },
  {
   "cell_type": "markdown",
   "source": [
    "12. Convert the images in the `ImageList` to grayscale and highlight the edges:"
   ],
   "metadata": {
    "collapsed": false
   }
  },
  {
   "cell_type": "code",
   "execution_count": null,
   "outputs": [],
   "source": [
    "planes.find_edges()\n"
   ],
   "metadata": {
    "collapsed": false
   }
  },
  {
   "cell_type": "markdown",
   "source": [
    "13. Add noise to the images in the `ImageList`. A higher `standard_deviation` will result in noisier images:\n"
   ],
   "metadata": {
    "collapsed": false
   }
  },
  {
   "cell_type": "code",
   "execution_count": null,
   "outputs": [],
   "source": [
    "planes.add_noise(standard_deviation=0.1)\n"
   ],
   "metadata": {
    "collapsed": false
   }
  }
 ],
 "metadata": {
  "kernelspec": {
   "display_name": "Python 3 (ipykernel)",
   "language": "python",
   "name": "python3"
  },
  "language_info": {
   "codemirror_mode": {
    "name": "ipython",
    "version": 3
   },
   "file_extension": ".py",
   "mimetype": "text/x-python",
   "name": "python",
   "nbconvert_exporter": "python",
   "pygments_lexer": "ipython3",
   "version": "3.9.12"
  }
 },
 "nbformat": 4,
 "nbformat_minor": 1
}
