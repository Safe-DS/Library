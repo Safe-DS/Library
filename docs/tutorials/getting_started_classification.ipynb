{
 "cells": [
  {
   "cell_type": "markdown",
   "source": [
    "# Getting started: Classification\n",
    "\n",
    "This tutorial uses safeds on **titanic passenger data** to predict who will survive and who will not, using sex as a feature for the prediction.\n"
   ],
   "metadata": {
    "collapsed": false
   }
  },
  {
   "cell_type": "markdown",
   "source": [
    "1. Load your data into a `Table`, the data is available under `docs/tutorials/data/titanic.csv`:\n"
   ],
   "metadata": {
    "collapsed": false
   }
  },
  {
   "cell_type": "code",
   "execution_count": 20,
   "outputs": [
    {
     "data": {
      "text/plain": "    id                                            name     sex      age   \n0    1                   Abbott, Master. Eugene Joseph    male  13.0000  \\\n1    2                     Abbott, Mr. Rossmore Edward    male  16.0000   \n2    3                Abbott, Mrs. Stanton (Rosa Hunt)  female  35.0000   \n3    4                     Abelseth, Miss. Karen Marie  female  16.0000   \n4    5                   Abelseth, Mr. Olaus Jorgensen    male  25.0000   \n5    6                             Abelson, Mr. Samuel    male  30.0000   \n6    7           Abelson, Mrs. Samuel (Hannah Wizosky)  female  28.0000   \n7    8        Abrahamsson, Mr. Abraham August Johannes    male  20.0000   \n8    9       Abrahim, Mrs. Joseph (Sophie Halaut Easu)  female  18.0000   \n9   10                  Adahl, Mr. Mauritz Nils Martin    male  30.0000   \n10  11                                 Adams, Mr. John    male  26.0000   \n11  12  Ahlin, Mrs. Johan (Johanna Persdotter Larsson)  female  40.0000   \n12  13                       Aks, Master. Philip Frank    male   0.8333   \n13  14                      Aks, Mrs. Sam (Leah Rosen)  female  18.0000   \n\n    siblings_spouses  parents_children            ticket  travel_class   \n0                  0                 2         C.A. 2673             3  \\\n1                  1                 1         C.A. 2673             3   \n2                  1                 1         C.A. 2673             3   \n3                  0                 0            348125             3   \n4                  0                 0            348122             3   \n5                  1                 0         P/PP 3381             2   \n6                  1                 0         P/PP 3381             2   \n7                  0                 0  SOTON/O2 3101284             3   \n8                  0                 0              2657             3   \n9                  0                 0            C 7076             3   \n10                 0                 0            341826             3   \n11                 1                 0              7546             3   \n12                 0                 1            392091             3   \n13                 0                 1            392091             3   \n\n       fare  cabin port_embarked  survived  \n0   20.2500    NaN   Southampton         0  \n1   20.2500    NaN   Southampton         0  \n2   20.2500    NaN   Southampton         1  \n3    7.6500    NaN   Southampton         1  \n4    7.6500  F G63   Southampton         1  \n5   24.0000    NaN     Cherbourg         0  \n6   24.0000    NaN     Cherbourg         1  \n7    7.9250    NaN   Southampton         1  \n8    7.2292    NaN     Cherbourg         1  \n9    7.2500    NaN   Southampton         0  \n10   8.0500    NaN   Southampton         0  \n11   9.4750    NaN   Southampton         0  \n12   9.3500    NaN   Southampton         1  \n13   9.3500    NaN   Southampton         1  ",
      "text/html": "<div>\n<style scoped>\n    .dataframe tbody tr th:only-of-type {\n        vertical-align: middle;\n    }\n\n    .dataframe tbody tr th {\n        vertical-align: top;\n    }\n\n    .dataframe thead th {\n        text-align: right;\n    }\n</style>\n<table border=\"1\" class=\"dataframe\">\n  <thead>\n    <tr style=\"text-align: right;\">\n      <th></th>\n      <th>id</th>\n      <th>name</th>\n      <th>sex</th>\n      <th>age</th>\n      <th>siblings_spouses</th>\n      <th>parents_children</th>\n      <th>ticket</th>\n      <th>travel_class</th>\n      <th>fare</th>\n      <th>cabin</th>\n      <th>port_embarked</th>\n      <th>survived</th>\n    </tr>\n  </thead>\n  <tbody>\n    <tr>\n      <th>0</th>\n      <td>1</td>\n      <td>Abbott, Master. Eugene Joseph</td>\n      <td>male</td>\n      <td>13.0000</td>\n      <td>0</td>\n      <td>2</td>\n      <td>C.A. 2673</td>\n      <td>3</td>\n      <td>20.2500</td>\n      <td>NaN</td>\n      <td>Southampton</td>\n      <td>0</td>\n    </tr>\n    <tr>\n      <th>1</th>\n      <td>2</td>\n      <td>Abbott, Mr. Rossmore Edward</td>\n      <td>male</td>\n      <td>16.0000</td>\n      <td>1</td>\n      <td>1</td>\n      <td>C.A. 2673</td>\n      <td>3</td>\n      <td>20.2500</td>\n      <td>NaN</td>\n      <td>Southampton</td>\n      <td>0</td>\n    </tr>\n    <tr>\n      <th>2</th>\n      <td>3</td>\n      <td>Abbott, Mrs. Stanton (Rosa Hunt)</td>\n      <td>female</td>\n      <td>35.0000</td>\n      <td>1</td>\n      <td>1</td>\n      <td>C.A. 2673</td>\n      <td>3</td>\n      <td>20.2500</td>\n      <td>NaN</td>\n      <td>Southampton</td>\n      <td>1</td>\n    </tr>\n    <tr>\n      <th>3</th>\n      <td>4</td>\n      <td>Abelseth, Miss. Karen Marie</td>\n      <td>female</td>\n      <td>16.0000</td>\n      <td>0</td>\n      <td>0</td>\n      <td>348125</td>\n      <td>3</td>\n      <td>7.6500</td>\n      <td>NaN</td>\n      <td>Southampton</td>\n      <td>1</td>\n    </tr>\n    <tr>\n      <th>4</th>\n      <td>5</td>\n      <td>Abelseth, Mr. Olaus Jorgensen</td>\n      <td>male</td>\n      <td>25.0000</td>\n      <td>0</td>\n      <td>0</td>\n      <td>348122</td>\n      <td>3</td>\n      <td>7.6500</td>\n      <td>F G63</td>\n      <td>Southampton</td>\n      <td>1</td>\n    </tr>\n    <tr>\n      <th>5</th>\n      <td>6</td>\n      <td>Abelson, Mr. Samuel</td>\n      <td>male</td>\n      <td>30.0000</td>\n      <td>1</td>\n      <td>0</td>\n      <td>P/PP 3381</td>\n      <td>2</td>\n      <td>24.0000</td>\n      <td>NaN</td>\n      <td>Cherbourg</td>\n      <td>0</td>\n    </tr>\n    <tr>\n      <th>6</th>\n      <td>7</td>\n      <td>Abelson, Mrs. Samuel (Hannah Wizosky)</td>\n      <td>female</td>\n      <td>28.0000</td>\n      <td>1</td>\n      <td>0</td>\n      <td>P/PP 3381</td>\n      <td>2</td>\n      <td>24.0000</td>\n      <td>NaN</td>\n      <td>Cherbourg</td>\n      <td>1</td>\n    </tr>\n    <tr>\n      <th>7</th>\n      <td>8</td>\n      <td>Abrahamsson, Mr. Abraham August Johannes</td>\n      <td>male</td>\n      <td>20.0000</td>\n      <td>0</td>\n      <td>0</td>\n      <td>SOTON/O2 3101284</td>\n      <td>3</td>\n      <td>7.9250</td>\n      <td>NaN</td>\n      <td>Southampton</td>\n      <td>1</td>\n    </tr>\n    <tr>\n      <th>8</th>\n      <td>9</td>\n      <td>Abrahim, Mrs. Joseph (Sophie Halaut Easu)</td>\n      <td>female</td>\n      <td>18.0000</td>\n      <td>0</td>\n      <td>0</td>\n      <td>2657</td>\n      <td>3</td>\n      <td>7.2292</td>\n      <td>NaN</td>\n      <td>Cherbourg</td>\n      <td>1</td>\n    </tr>\n    <tr>\n      <th>9</th>\n      <td>10</td>\n      <td>Adahl, Mr. Mauritz Nils Martin</td>\n      <td>male</td>\n      <td>30.0000</td>\n      <td>0</td>\n      <td>0</td>\n      <td>C 7076</td>\n      <td>3</td>\n      <td>7.2500</td>\n      <td>NaN</td>\n      <td>Southampton</td>\n      <td>0</td>\n    </tr>\n    <tr>\n      <th>10</th>\n      <td>11</td>\n      <td>Adams, Mr. John</td>\n      <td>male</td>\n      <td>26.0000</td>\n      <td>0</td>\n      <td>0</td>\n      <td>341826</td>\n      <td>3</td>\n      <td>8.0500</td>\n      <td>NaN</td>\n      <td>Southampton</td>\n      <td>0</td>\n    </tr>\n    <tr>\n      <th>11</th>\n      <td>12</td>\n      <td>Ahlin, Mrs. Johan (Johanna Persdotter Larsson)</td>\n      <td>female</td>\n      <td>40.0000</td>\n      <td>1</td>\n      <td>0</td>\n      <td>7546</td>\n      <td>3</td>\n      <td>9.4750</td>\n      <td>NaN</td>\n      <td>Southampton</td>\n      <td>0</td>\n    </tr>\n    <tr>\n      <th>12</th>\n      <td>13</td>\n      <td>Aks, Master. Philip Frank</td>\n      <td>male</td>\n      <td>0.8333</td>\n      <td>0</td>\n      <td>1</td>\n      <td>392091</td>\n      <td>3</td>\n      <td>9.3500</td>\n      <td>NaN</td>\n      <td>Southampton</td>\n      <td>1</td>\n    </tr>\n    <tr>\n      <th>13</th>\n      <td>14</td>\n      <td>Aks, Mrs. Sam (Leah Rosen)</td>\n      <td>female</td>\n      <td>18.0000</td>\n      <td>0</td>\n      <td>1</td>\n      <td>392091</td>\n      <td>3</td>\n      <td>9.3500</td>\n      <td>NaN</td>\n      <td>Southampton</td>\n      <td>1</td>\n    </tr>\n  </tbody>\n</table>\n</div>"
     },
     "execution_count": 20,
     "metadata": {},
     "output_type": "execute_result"
    }
   ],
   "source": [
    "from safeds.data.tabular.containers import Table\n",
    "\n",
    "titanic = Table.from_csv_file(\"data/titanic.csv\")\n",
    "#For visualisation purposes we only print out the first 15 rows.\n",
    "titanic.slice_rows(0,15)"
   ],
   "metadata": {
    "collapsed": false,
    "ExecuteTime": {
     "start_time": "2023-06-20T13:51:49.792239Z",
     "end_time": "2023-06-20T13:51:51.528683Z"
    }
   }
  },
  {
   "cell_type": "markdown",
   "source": [
    "2. Split the titanic dataset into two tables. A training set, that we will use later to implement a training model to predict the survival of passengers, containing 60% of the data, and a testing set containing the rest of the data.\n",
    "Delete the column `survived` from the test set, to be able to predict it later:"
   ],
   "metadata": {
    "collapsed": false
   }
  },
  {
   "cell_type": "code",
   "execution_count": 21,
   "outputs": [],
   "source": [
    "split_tuple = titanic.split(0.60)\n",
    "\n",
    "train_table = split_tuple[0]\n",
    "testing_table = split_tuple[1]\n",
    "\n",
    "test_table = testing_table.remove_columns([\"survived\"]).shuffle_rows()"
   ],
   "metadata": {
    "collapsed": false
   }
  },
  {
   "cell_type": "markdown",
   "source": [
    "3. Use `OneHotEncoder` to create an encoder, that will be used later to transform the training table.\n",
    "* We use `OneHotEncoder` to transform non-numerical categorical values into numerical representations with values of zero or one. In this example we will transform the values of the sex column, hence they will be used in the model for predicting the surviving of passengers.\n",
    "* Use the `fit` function of the `OneHotEncoder` to pass the table and the column names, that will be used as features to predict who will survive to the encoder.\n",
    "* The names of the column before transformation need to be saved, because `OneHotEncoder` changes the names of the fitted `Column`s:\n"
   ],
   "metadata": {
    "collapsed": false
   }
  },
  {
   "cell_type": "code",
   "execution_count": 22,
   "outputs": [],
   "source": [
    "from safeds.data.tabular.transformation import OneHotEncoder\n",
    "\n",
    "old_column_names = train_table.column_names\n",
    "encoder = OneHotEncoder().fit(train_table, [\"sex\"])"
   ],
   "metadata": {
    "collapsed": false,
    "ExecuteTime": {
     "start_time": "2023-06-20T13:51:51.532902Z",
     "end_time": "2023-06-20T13:51:51.540870Z"
    }
   }
  },
  {
   "cell_type": "markdown",
   "source": [
    "4. Transform the training table using the fitted encoder, and create a set with the new names of the fitted `Column`s:\n"
   ],
   "metadata": {
    "collapsed": false
   }
  },
  {
   "cell_type": "code",
   "execution_count": 23,
   "outputs": [],
   "source": [
    "transformed_table = encoder.transform(train_table)\n",
    "new_column_names = transformed_table.column_names\n",
    "new_columns= set(new_column_names) - set(old_column_names)"
   ],
   "metadata": {
    "collapsed": false,
    "ExecuteTime": {
     "start_time": "2023-06-20T13:51:51.546981Z",
     "end_time": "2023-06-20T13:51:51.594283Z"
    }
   }
  },
  {
   "cell_type": "markdown",
   "source": [
    "5. Tag the `survived` `Column` as the target variable to be predicted. Use the new names of the fitted `Column`s as features, which will be used to make predictions based on the target variable."
   ],
   "metadata": {
    "collapsed": false
   }
  },
  {
   "cell_type": "code",
   "execution_count": 24,
   "outputs": [],
   "source": [
    "tagged_train_table= transformed_table.tag_columns(\"survived\", feature_names=[\n",
    "    *new_columns\n",
    "])"
   ],
   "metadata": {
    "collapsed": false,
    "ExecuteTime": {
     "start_time": "2023-06-20T13:51:51.597404Z",
     "end_time": "2023-06-20T13:51:51.602283Z"
    }
   }
  },
  {
   "cell_type": "markdown",
   "source": [
    "6. Use `RandomForest` classifier as a model for the classification. Pass the \"tagged_titanic\" table to the fit function of the model:"
   ],
   "metadata": {
    "collapsed": false
   }
  },
  {
   "cell_type": "code",
   "execution_count": 25,
   "outputs": [],
   "source": [
    "from safeds.ml.classical.classification import RandomForest\n",
    "\n",
    "model = RandomForest()\n",
    "fitted_model= model.fit(tagged_train_table)"
   ],
   "metadata": {
    "collapsed": false,
    "ExecuteTime": {
     "start_time": "2023-06-20T13:51:51.607645Z",
     "end_time": "2023-06-20T13:51:51.861605Z"
    }
   }
  },
  {
   "cell_type": "markdown",
   "source": [
    "7. Use the fitted random forest model, that we trained on the training dataset to predict the survival rate of passengers in the test dataset.\n",
    "Transform the test data with `OneHotEncoder` first, to be able to pass it to the predict function, that uses our fitted random forest model for prediction:"
   ],
   "metadata": {
    "collapsed": false
   }
  },
  {
   "cell_type": "code",
   "execution_count": 26,
   "outputs": [
    {
     "data": {
      "text/plain": "     id                                       name  sex__male  sex__female   \n0   786                       McGovern, Miss. Mary        0.0          1.0  \\\n1   787                McGowan, Miss. Anna 'Annie'        0.0          1.0   \n2   788                   McGowan, Miss. Katherine        0.0          1.0   \n3   789                    McKane, Mr. Peter David        1.0          0.0   \n4   790                        McMahon, Mr. Martin        1.0          0.0   \n5   791                          McNamee, Mr. Neal        1.0          0.0   \n6   792        McNamee, Mrs. Neal (Eileen O'Leary)        0.0          1.0   \n7   793                     McNeill, Miss. Bridget        0.0          1.0   \n8   794             Meanwell, Miss. (Marion Ogden)        0.0          1.0   \n9   795    Meek, Mrs. Thomas (Annie Louise Rowley)        0.0          1.0   \n10  796          Mellinger, Miss. Madeleine Violet        0.0          1.0   \n11  797  Mellinger, Mrs. (Elizabeth Anne Maidment)        0.0          1.0   \n12  798                  Mellors, Mr. William John        1.0          0.0   \n13  799                           Meo, Mr. Alfonzo        1.0          0.0   \n\n     age  siblings_spouses  parents_children             ticket  travel_class   \n0    NaN                 0                 0             330931             3  \\\n1   15.0                 0                 0             330923             3   \n2   35.0                 0                 0               9232             3   \n3   46.0                 0                 0              28403             2   \n4    NaN                 0                 0             370372             3   \n5   24.0                 1                 0             376566             3   \n6   19.0                 1                 0             376566             3   \n7    NaN                 0                 0             370368             3   \n8    NaN                 0                 0  SOTON/O.Q. 392087             3   \n9    NaN                 0                 0             343095             3   \n10  13.0                 0                 1             250644             2   \n11  41.0                 0                 1             250644             2   \n12  19.0                 0                 0          SW/PP 751             2   \n13  55.5                 0                 0         A.5. 11206             3   \n\n       fare cabin port_embarked  survived  \n0    7.8792   NaN    Queenstown         1  \n1    8.0292   NaN    Queenstown         1  \n2    7.7500   NaN    Queenstown         1  \n3   26.0000   NaN   Southampton         0  \n4    7.7500   NaN    Queenstown         0  \n5   16.1000   NaN   Southampton         0  \n6   16.1000   NaN   Southampton         1  \n7    7.7500   NaN    Queenstown         1  \n8    8.0500   NaN   Southampton         1  \n9    8.0500   NaN   Southampton         1  \n10  19.5000   NaN   Southampton         1  \n11  19.5000   NaN   Southampton         1  \n12  10.5000   NaN   Southampton         0  \n13   8.0500   NaN   Southampton         0  ",
      "text/html": "<div>\n<style scoped>\n    .dataframe tbody tr th:only-of-type {\n        vertical-align: middle;\n    }\n\n    .dataframe tbody tr th {\n        vertical-align: top;\n    }\n\n    .dataframe thead th {\n        text-align: right;\n    }\n</style>\n<table border=\"1\" class=\"dataframe\">\n  <thead>\n    <tr style=\"text-align: right;\">\n      <th></th>\n      <th>id</th>\n      <th>name</th>\n      <th>sex__male</th>\n      <th>sex__female</th>\n      <th>age</th>\n      <th>siblings_spouses</th>\n      <th>parents_children</th>\n      <th>ticket</th>\n      <th>travel_class</th>\n      <th>fare</th>\n      <th>cabin</th>\n      <th>port_embarked</th>\n      <th>survived</th>\n    </tr>\n  </thead>\n  <tbody>\n    <tr>\n      <th>0</th>\n      <td>786</td>\n      <td>McGovern, Miss. Mary</td>\n      <td>0.0</td>\n      <td>1.0</td>\n      <td>NaN</td>\n      <td>0</td>\n      <td>0</td>\n      <td>330931</td>\n      <td>3</td>\n      <td>7.8792</td>\n      <td>NaN</td>\n      <td>Queenstown</td>\n      <td>1</td>\n    </tr>\n    <tr>\n      <th>1</th>\n      <td>787</td>\n      <td>McGowan, Miss. Anna 'Annie'</td>\n      <td>0.0</td>\n      <td>1.0</td>\n      <td>15.0</td>\n      <td>0</td>\n      <td>0</td>\n      <td>330923</td>\n      <td>3</td>\n      <td>8.0292</td>\n      <td>NaN</td>\n      <td>Queenstown</td>\n      <td>1</td>\n    </tr>\n    <tr>\n      <th>2</th>\n      <td>788</td>\n      <td>McGowan, Miss. Katherine</td>\n      <td>0.0</td>\n      <td>1.0</td>\n      <td>35.0</td>\n      <td>0</td>\n      <td>0</td>\n      <td>9232</td>\n      <td>3</td>\n      <td>7.7500</td>\n      <td>NaN</td>\n      <td>Queenstown</td>\n      <td>1</td>\n    </tr>\n    <tr>\n      <th>3</th>\n      <td>789</td>\n      <td>McKane, Mr. Peter David</td>\n      <td>1.0</td>\n      <td>0.0</td>\n      <td>46.0</td>\n      <td>0</td>\n      <td>0</td>\n      <td>28403</td>\n      <td>2</td>\n      <td>26.0000</td>\n      <td>NaN</td>\n      <td>Southampton</td>\n      <td>0</td>\n    </tr>\n    <tr>\n      <th>4</th>\n      <td>790</td>\n      <td>McMahon, Mr. Martin</td>\n      <td>1.0</td>\n      <td>0.0</td>\n      <td>NaN</td>\n      <td>0</td>\n      <td>0</td>\n      <td>370372</td>\n      <td>3</td>\n      <td>7.7500</td>\n      <td>NaN</td>\n      <td>Queenstown</td>\n      <td>0</td>\n    </tr>\n    <tr>\n      <th>5</th>\n      <td>791</td>\n      <td>McNamee, Mr. Neal</td>\n      <td>1.0</td>\n      <td>0.0</td>\n      <td>24.0</td>\n      <td>1</td>\n      <td>0</td>\n      <td>376566</td>\n      <td>3</td>\n      <td>16.1000</td>\n      <td>NaN</td>\n      <td>Southampton</td>\n      <td>0</td>\n    </tr>\n    <tr>\n      <th>6</th>\n      <td>792</td>\n      <td>McNamee, Mrs. Neal (Eileen O'Leary)</td>\n      <td>0.0</td>\n      <td>1.0</td>\n      <td>19.0</td>\n      <td>1</td>\n      <td>0</td>\n      <td>376566</td>\n      <td>3</td>\n      <td>16.1000</td>\n      <td>NaN</td>\n      <td>Southampton</td>\n      <td>1</td>\n    </tr>\n    <tr>\n      <th>7</th>\n      <td>793</td>\n      <td>McNeill, Miss. Bridget</td>\n      <td>0.0</td>\n      <td>1.0</td>\n      <td>NaN</td>\n      <td>0</td>\n      <td>0</td>\n      <td>370368</td>\n      <td>3</td>\n      <td>7.7500</td>\n      <td>NaN</td>\n      <td>Queenstown</td>\n      <td>1</td>\n    </tr>\n    <tr>\n      <th>8</th>\n      <td>794</td>\n      <td>Meanwell, Miss. (Marion Ogden)</td>\n      <td>0.0</td>\n      <td>1.0</td>\n      <td>NaN</td>\n      <td>0</td>\n      <td>0</td>\n      <td>SOTON/O.Q. 392087</td>\n      <td>3</td>\n      <td>8.0500</td>\n      <td>NaN</td>\n      <td>Southampton</td>\n      <td>1</td>\n    </tr>\n    <tr>\n      <th>9</th>\n      <td>795</td>\n      <td>Meek, Mrs. Thomas (Annie Louise Rowley)</td>\n      <td>0.0</td>\n      <td>1.0</td>\n      <td>NaN</td>\n      <td>0</td>\n      <td>0</td>\n      <td>343095</td>\n      <td>3</td>\n      <td>8.0500</td>\n      <td>NaN</td>\n      <td>Southampton</td>\n      <td>1</td>\n    </tr>\n    <tr>\n      <th>10</th>\n      <td>796</td>\n      <td>Mellinger, Miss. Madeleine Violet</td>\n      <td>0.0</td>\n      <td>1.0</td>\n      <td>13.0</td>\n      <td>0</td>\n      <td>1</td>\n      <td>250644</td>\n      <td>2</td>\n      <td>19.5000</td>\n      <td>NaN</td>\n      <td>Southampton</td>\n      <td>1</td>\n    </tr>\n    <tr>\n      <th>11</th>\n      <td>797</td>\n      <td>Mellinger, Mrs. (Elizabeth Anne Maidment)</td>\n      <td>0.0</td>\n      <td>1.0</td>\n      <td>41.0</td>\n      <td>0</td>\n      <td>1</td>\n      <td>250644</td>\n      <td>2</td>\n      <td>19.5000</td>\n      <td>NaN</td>\n      <td>Southampton</td>\n      <td>1</td>\n    </tr>\n    <tr>\n      <th>12</th>\n      <td>798</td>\n      <td>Mellors, Mr. William John</td>\n      <td>1.0</td>\n      <td>0.0</td>\n      <td>19.0</td>\n      <td>0</td>\n      <td>0</td>\n      <td>SW/PP 751</td>\n      <td>2</td>\n      <td>10.5000</td>\n      <td>NaN</td>\n      <td>Southampton</td>\n      <td>0</td>\n    </tr>\n    <tr>\n      <th>13</th>\n      <td>799</td>\n      <td>Meo, Mr. Alfonzo</td>\n      <td>1.0</td>\n      <td>0.0</td>\n      <td>55.5</td>\n      <td>0</td>\n      <td>0</td>\n      <td>A.5. 11206</td>\n      <td>3</td>\n      <td>8.0500</td>\n      <td>NaN</td>\n      <td>Southampton</td>\n      <td>0</td>\n    </tr>\n  </tbody>\n</table>\n</div>"
     },
     "execution_count": 26,
     "metadata": {},
     "output_type": "execute_result"
    }
   ],
   "source": [
    "encoder = OneHotEncoder().fit(test_table, [\"sex\"])\n",
    "transformed_test_table = encoder.transform(test_table)\n",
    "\n",
    "predicition = fitted_model.predict(\n",
    "    transformed_test_table\n",
    ")\n",
    "#For visualisation purposes we only print out the first 15 rows.\n",
    "predicition.slice_rows(0,15)"
   ],
   "metadata": {
    "collapsed": false,
    "ExecuteTime": {
     "start_time": "2023-06-20T13:51:51.865659Z",
     "end_time": "2023-06-20T13:51:52.233431Z"
    }
   }
  },
  {
   "cell_type": "markdown",
   "source": [
    "7. You can test the accuracy of that model with the initial testing_table as follows:"
   ],
   "metadata": {
    "collapsed": false
   }
  },
  {
   "cell_type": "code",
   "execution_count": 27,
   "outputs": [
    {
     "data": {
      "text/plain": "0.7745222929936306"
     },
     "execution_count": 27,
     "metadata": {},
     "output_type": "execute_result"
    }
   ],
   "source": [
    "encoder = OneHotEncoder().fit(test_table, [\"sex\"])\n",
    "testing_table = encoder.transform(testing_table)\n",
    "\n",
    "tagged_test_table= testing_table.tag_columns(\"survived\", feature_names=[\n",
    "    *new_columns\n",
    "])\n",
    "fitted_model.accuracy(tagged_train_table)\n"
   ],
   "metadata": {
    "collapsed": false,
    "ExecuteTime": {
     "start_time": "2023-06-20T13:51:52.233053Z",
     "end_time": "2023-06-20T13:51:52.254527Z"
    }
   }
  }
 ],
 "metadata": {
  "kernelspec": {
   "display_name": "Python 3",
   "language": "python",
   "name": "python3"
  },
  "language_info": {
   "codemirror_mode": {
    "name": "ipython",
    "version": 2
   },
   "file_extension": ".py",
   "mimetype": "text/x-python",
   "name": "python",
   "nbconvert_exporter": "python",
   "pygments_lexer": "ipython2",
   "version": "2.7.6"
  }
 },
 "nbformat": 4,
 "nbformat_minor": 0
}
