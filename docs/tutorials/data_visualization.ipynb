{
 "cells": [
  {
   "cell_type": "markdown",
   "source": [
    "# Data Visualization\n",
    "\n",
    "This tutorial shows you how to use the `safeds.plotting` module to visualize your data and understand it better.\n",
    "\n",
    "## The data\n",
    "\n",
    "First, we need some data to visualize. For this, we use the common example of the Titanic disaster, which is also included in our [`safe-ds-examples` package](https://pypi.org/project/safe-ds-examples). If you want to know more about the dataset, check out its [documentation](https://library-examples.safe-ds.com/en/latest/examples/titanic/). Naturally, you can also use your own data."
   ],
   "metadata": {
    "collapsed": false
   }
  },
  {
   "cell_type": "code",
   "source": [
    "from safeds.data.tabular.containers import Table\n",
    "\n",
    "titanic = Table.from_csv_file(\"data/titanic.csv\")"
   ],
   "metadata": {
    "collapsed": false
   },
   "outputs": [],
   "execution_count": null
  },
  {
   "cell_type": "markdown",
   "source": [
    "Let's have a quick look at the first 10 rows of the data:"
   ],
   "metadata": {
    "collapsed": false
   }
  },
  {
   "cell_type": "code",
   "source": "titanic.slice_rows(length=10)",
   "metadata": {
    "collapsed": false
   },
   "outputs": [],
   "execution_count": null
  },
  {
   "cell_type": "markdown",
   "source": [
    "The visualizations we present in this tutorial work on numerical data only. So, let's remove the columns that are not numerical and let's get rid of the `id` column as well while we are at it:"
   ],
   "metadata": {
    "collapsed": false
   }
  },
  {
   "cell_type": "code",
   "source": [
    "titanic_numerical = titanic.remove_columns(\n",
    "    [\"id\", \"name\", \"sex\", \"ticket\", \"cabin\", \"port_embarked\"]\n",
    ")"
   ],
   "metadata": {
    "collapsed": false
   },
   "outputs": [],
   "execution_count": null
  },
  {
   "cell_type": "markdown",
   "source": [
    "## Correlation heatmap\n",
    "\n",
    "The correlation heatmap is ideal to get a quick overview of the relationships between the columns in your dataset. Each cell represents the correlation between two columns as a value between -1 and 1:\n",
    "\n",
    "* A negative value (blue) means that if one column increases, the other decreases.\n",
    "* A positive value (red) indicates that if one column increases, the other increases as well.\n",
    "* A value of 0 (white) means that the two columns are not correlated at all."
   ],
   "metadata": {
    "collapsed": false
   }
  },
  {
   "cell_type": "code",
   "source": "titanic_numerical.plot.correlation_heatmap()",
   "metadata": {
    "collapsed": false
   },
   "outputs": [],
   "execution_count": null
  },
  {
   "cell_type": "markdown",
   "source": [
    "Let's look at the correlations involving the `travel_class` column:\n",
    "\n",
    "* `travel_class` is negatively correlated with `age`. This means that older passengers tended to travel in better travel classes (1st/2nd class) than younger passengers.\n",
    "* `travel_class` has no strong correlation with either `siblings_spouses` or `parents_children`.\n",
    "* `travel_class` is, unsurprisingly, positively correlated with itself. You'll always find that the diagonal of a correlation heatmap is bright red.\n",
    "* `travel_class` is negatively correlated with `fare`. Naturally, better travel classes were more expensive.\n",
    "* `travel_class` is negatively correlated with `survived`. People in better travel classes were more likely to survive the accident."
   ],
   "metadata": {
    "collapsed": false
   }
  },
  {
   "cell_type": "markdown",
   "source": [
    "## Lineplot\n",
    "\n",
    "Next, we use a lineplot to better understand the relationship between `survived` and `fare`. The line itself represents the mean value and the hued area around it a 95% confidence interval around the mean."
   ],
   "metadata": {
    "collapsed": false
   }
  },
  {
   "cell_type": "code",
   "source": "titanic_numerical.plot.line_plot(\"survived\", \"fare\")",
   "metadata": {
    "collapsed": false
   },
   "outputs": [],
   "execution_count": null
  },
  {
   "cell_type": "markdown",
   "source": [
    "We can conclude that survivors paid around twice as much for their ticket as non-survivors."
   ],
   "metadata": {
    "collapsed": false
   }
  },
  {
   "cell_type": "markdown",
   "source": [
    "## Boxplot\n",
    "\n",
    "A boxplot is a type of univariate graphic display of the distribution of a numerical dataset. Univariate refers to the analysis of a single variable at a time.\n",
    "\n",
    "* It displays the minimum, first quartile (25th percentile), median (50th percentile), third quartile (75th percentile), and maximum values.\n",
    "* It also shows any potential outliers in the data."
   ],
   "metadata": {
    "collapsed": false
   }
  },
  {
   "cell_type": "code",
   "source": "titanic_numerical.get_column(\"age\").plot.box_plot()",
   "metadata": {
    "collapsed": false
   },
   "outputs": [],
   "execution_count": null
  },
  {
   "cell_type": "markdown",
   "source": [
    "* The above boxplot depicts the `age` range from 0 to 80 including outliers. It can be deduced that the middle 50% of passengers were between the ages of 20 and 40, because this is where the box lies and is less influenced by outliers.\n",
    "* Moreover, the boxplot clearly depicts outliers which are the dots found above the T-shaped whisker. It can further be deduced with the help of the median that half of the passengers were aged below 28 years and the other half were above 28 years."
   ],
   "metadata": {
    "collapsed": false
   }
  },
  {
   "cell_type": "markdown",
   "source": [
    "## Boxplot of all numerical columns"
   ],
   "metadata": {
    "collapsed": false
   }
  },
  {
   "cell_type": "code",
   "source": "titanic_numerical.plot.box_plots()",
   "metadata": {
    "collapsed": false
   },
   "outputs": [],
   "execution_count": null
  },
  {
   "cell_type": "markdown",
   "source": [
    "Let's look at the different boxplots of all numerical columns:\n",
    "\n",
    "* The second boxplot depicts the number of passengers with `siblings/spouses` aboard the Titanic from 0 to 8. Here, the middle 50% of passengers had either 0 or 1 sibling/spouse and the rest were considered outliers.\n",
    "* The `parents/children` boxplot illustrates the count rate of the number of passengers with `parents/children`. More than 80% of the passengers had no parents nor children with them because the upper and lower whiskers including the box are on 0. The rest were considered outliers.\n",
    "* The `travel_class` boxplot has its middle 50% of passengers either in the 2nd or 3rd class. The remaining passengers were considered first class.\n",
    "* In the `fare` boxplot, the box lies somewhere between 10 and 40. This implies that about half of the passengers paid a passenger fare below 20. The other half paid above 20. It was also dominated by extreme outliers. An extreme outlier is a value 3 times the difference between the 75th percentile and the 25th percentile (3 x IQR).\n",
    "* The last boxplot, `survived`, depicts the survival rate of all passengers between 0.0 and 1.0. It is clear that box plot is not a good graphic display for such a variable because it is either a passenger survived (1) or died (0)."
   ],
   "metadata": {
    "collapsed": false
   }
  },
  {
   "cell_type": "markdown",
   "source": [
    "## Histogram\n",
    "\n",
    "A histogram is a graphic display that divides the x-axis into intervals or bins.\n",
    "\n",
    "* The height of the bars correspond to the number of values in that bin or interval.\n",
    "* Each bar has an area which shows the proportion of values in the range. They can help to predict the probability of getting future measurements."
   ],
   "metadata": {
    "collapsed": false
   }
  },
  {
   "cell_type": "code",
   "source": "titanic_numerical.get_column(\"fare\").plot.histogram()",
   "metadata": {
    "collapsed": false
   },
   "outputs": [],
   "execution_count": null
  },
  {
   "cell_type": "markdown",
   "source": [
    "In the `fare` histogram, the tallest bar has the highest number of passengers with a count of 420. While reflecting its base on the x-axis, it can be deduced that about 420 passengers paid a fare of about 10 pounds meanwhile, the last bar to the right indicates that 5 passengers paid a fare of about 510 pounds."
   ],
   "metadata": {
    "collapsed": false
   }
  },
  {
   "cell_type": "markdown",
   "source": [
    "## Histogram of all columns"
   ],
   "metadata": {
    "collapsed": false
   }
  },
  {
   "cell_type": "code",
   "source": "titanic_numerical.plot.histograms()",
   "metadata": {
    "collapsed": false
   },
   "outputs": [],
   "execution_count": null
  },
  {
   "cell_type": "markdown",
   "source": [
    "Let's look at the different histograms of certain columns:\n",
    "* According to the `age` histogram, a majority of the passengers were aged between 20 and 40. If the bars within this range are added up, about 750 passengers fall between this age range. Just a few passengers were above 75 years.\n",
    "    * It is worth noting, that we can use the `normal distribution` here to approximate the data and future measurements. The normal distribution is a symmetric bell-shaped curve with a continuous range from -infinity to +infinity and has a common value for mean, median, and mode.\n",
    "* The `siblings_spouses` histogram illustrates that a majority of the passengers, about 900 had no siblings nor spouses. Meanwhile, for the rest of the passengers, every passenger had at least a sibling or spouse.\n",
    "* As per the `parents_children` histogram, most passengers were neither accompanied by a parent nor child.\n",
    "* In the histogram for the `travel_class` column, it can be observed that more than 50% of the passengers were categorised as 3rd class passengers. Just about half of the remaining passengers were categorised as 2nd class and the rest were 1st class passengers.\n",
    "* The last histogram, `survived` depicts the survival rate of all passengers. About 800 passengers died meanwhile more than 500 passengers survived.\n"
   ],
   "metadata": {
    "collapsed": false
   }
  },
  {
   "cell_type": "markdown",
   "source": [
    "## Scatterplot\n",
    "A scatterplot is a type of graph that displays the relationship between two numerical variables. It provides insights on the distribution pattern, trend, and individual points deviating significantly from the majority of observations called outliers."
   ],
   "metadata": {
    "collapsed": false
   }
  },
  {
   "cell_type": "code",
   "source": "titanic_numerical.plot.scatter_plot(\"age\", \"fare\")",
   "metadata": {
    "collapsed": false
   },
   "outputs": [],
   "execution_count": null
  },
  {
   "cell_type": "markdown",
   "source": [
    "The above scatterplot uses the `age` and `fare` columns from the Titanic dataset to plot each data point that represents a passenger. It can be inferred, that more than 50% of the passengers paid a fare less than 50 pounds. Three passengers of the ages ~35 and 60 paid a fare of about 500 pounds and were considered outliers.\n"
   ],
   "metadata": {
    "collapsed": false
   }
  }
 ],
 "metadata": {
  "kernelspec": {
   "display_name": "Python 3",
   "language": "python",
   "name": "python3"
  },
  "language_info": {
   "codemirror_mode": {
    "name": "ipython",
    "version": 2
   },
   "file_extension": ".py",
   "mimetype": "text/x-python",
   "name": "python",
   "nbconvert_exporter": "python",
   "pygments_lexer": "ipython2",
   "version": "2.7.6"
  }
 },
 "nbformat": 4,
 "nbformat_minor": 0
}
