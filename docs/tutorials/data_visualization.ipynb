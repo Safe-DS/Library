{
 "cells": [
  {
   "cell_type": "markdown",
   "source": [
    "# Data Visualization\n",
    "\n",
    "This tutorial shows you how to use the `safeds.plotting` module to visualize your data and understand it better.\n",
    "\n",
    "## The data\n",
    "\n",
    "First, we need some data to visualize. For this, we use the common example of the Titanic disaster, which is also included in our [`safe-ds-examples` package](https://pypi.org/project/safe-ds-examples). If you want to know more about the dataset, check out its [documentation](https://stdlib-examples.safe-ds.com/en/latest/examples/titanic/). Naturally, you can also use your own data."
   ],
   "metadata": {
    "collapsed": false
   }
  },
  {
   "cell_type": "code",
   "execution_count": null,
   "outputs": [],
   "source": [
    "from safeds.data.tabular.containers import Table\n",
    "\n",
    "titanic = Table.from_csv_file(\"data/titanic.csv\")"
   ],
   "metadata": {
    "collapsed": false,
    "ExecuteTime": {
     "start_time": "2023-03-17T12:33:33.760120Z",
     "end_time": "2023-03-17T12:33:33.790272Z"
    }
   }
  },
  {
   "cell_type": "markdown",
   "source": [
    "Let's have a quick look at the first 10 rows of the data:"
   ],
   "metadata": {
    "collapsed": false
   }
  },
  {
   "cell_type": "code",
   "execution_count": null,
   "outputs": [],
   "source": [
    "titanic.slice_rows(end=10)"
   ],
   "metadata": {
    "collapsed": false,
    "ExecuteTime": {
     "start_time": "2023-03-17T12:33:33.770174Z",
     "end_time": "2023-03-17T12:33:33.790272Z"
    }
   }
  },
  {
   "cell_type": "markdown",
   "source": [
    "The visualizations we present in this tutorial work on numerical data only. So, let's remove the columns that are not numerical and let's get rid of the `id` column as well while we are at it:"
   ],
   "metadata": {
    "collapsed": false
   }
  },
  {
   "cell_type": "code",
   "execution_count": null,
   "outputs": [],
   "source": [
    "titanic_numerical = titanic.remove_columns(\n",
    "    [\"id\", \"name\", \"sex\", \"ticket\", \"cabin\", \"port_embarked\"]\n",
    ")"
   ],
   "metadata": {
    "collapsed": false,
    "ExecuteTime": {
     "start_time": "2023-03-17T12:33:33.805349Z",
     "end_time": "2023-03-17T12:33:33.865018Z"
    }
   }
  },
  {
   "cell_type": "markdown",
   "source": [
    "## Correlation heatmap\n",
    "\n",
    "The correlation heatmap is ideal to get a quick overview of the relationships between the columns in your dataset. Each cell represents the correlation between two columns as a value between -1 and 1:\n",
    "\n",
    "* A negative value (blue) means that if one column increases, the other decreases.\n",
    "* A positive value (red) indicates that if one column increases, the other increases as well.\n",
    "* A value of 0 (white) means that the two columns are not correlated at all."
   ],
   "metadata": {
    "collapsed": false
   }
  },
  {
   "cell_type": "code",
   "execution_count": null,
   "outputs": [],
   "source": [
    "titanic_numerical.plot_correlation_heatmap()"
   ],
   "metadata": {
    "collapsed": false,
    "ExecuteTime": {
     "start_time": "2023-03-17T12:33:33.810380Z",
     "end_time": "2023-03-17T12:33:34.035906Z"
    }
   }
  },
  {
   "cell_type": "markdown",
   "source": [
    "Let's look at the correlations involving the `travel_class` column:\n",
    "\n",
    "* `travel_class` is negatively correlated with `age`. This means that older passengers tended to travel in better travel classes (1st/2nd class) than younger passengers.\n",
    "* `travel_class` has no strong correlation with either `siblings_spouses` or `parents_children`.\n",
    "* `travel_class` is, unsurprisingly, positively correlated with itself. You'll always find that the diagonal of a correlation heatmap is bright red.\n",
    "* `travel_class` is negatively correlated with `fare`. Naturally, better travel classes were more expensive.\n",
    "* `travel_class` is negatively correlated with `survived`. People in better travel classes were more likely to survive the accident."
   ],
   "metadata": {
    "collapsed": false
   }
  },
  {
   "cell_type": "markdown",
   "source": [
    "## Lineplot\n",
    "\n",
    "Next, we use a lineplot to better understand the relationship between `survived` and `fare`. The line itself represents the mean value and the hued area around it a 95% confidence interval around the mean."
   ],
   "metadata": {
    "collapsed": false
   }
  },
  {
   "cell_type": "code",
   "execution_count": null,
   "outputs": [],
   "source": [
    "titanic_numerical.plot_lineplot(\"survived\", \"fare\")"
   ],
   "metadata": {
    "collapsed": false,
    "ExecuteTime": {
     "start_time": "2023-03-17T12:33:33.972091Z",
     "end_time": "2023-03-17T12:33:34.170190Z"
    }
   }
  },
  {
   "cell_type": "markdown",
   "source": [
    "We can conclude that survivors paid around twice as much for their ticket as non-survivors."
   ],
   "metadata": {
    "collapsed": false
   }
  },
  {
   "cell_type": "markdown",
   "source": [
    "## Boxplot"
   ],
   "metadata": {
    "collapsed": false
   }
  },
  {
   "cell_type": "code",
   "execution_count": null,
   "outputs": [],
   "source": [
    "titanic_numerical.get_column(\"age\").plot_boxplot()"
   ],
   "metadata": {
    "collapsed": false,
    "ExecuteTime": {
     "start_time": "2023-03-14T19:00:57.226271Z",
     "end_time": "2023-03-14T19:00:57.302284Z"
    }
   }
  },
  {
   "cell_type": "markdown",
   "source": [
    "## Boxplot of all numerical columns"
   ],
   "metadata": {
    "collapsed": false
   }
  },
  {
   "cell_type": "code",
   "execution_count": null,
   "outputs": [],
   "source": [
    "titanic_numerical.plot_boxplots()"
   ],
   "metadata": {
    "collapsed": false
   }
  },
  {
   "cell_type": "markdown",
   "source": [
    "## Histogram"
   ],
   "metadata": {
    "collapsed": false
   }
  },
  {
   "cell_type": "code",
   "execution_count": null,
   "outputs": [],
   "source": [
    "titanic_numerical.get_column(\"fare\").plot_histogram()"
   ],
   "metadata": {
    "collapsed": false,
    "ExecuteTime": {
     "start_time": "2023-03-14T19:00:57.312507Z",
     "end_time": "2023-03-14T19:00:58.343092Z"
    }
   }
  },
  {
   "cell_type": "markdown",
   "source": [
    "## Scatterplot"
   ],
   "metadata": {
    "collapsed": false
   }
  },
  {
   "cell_type": "code",
   "execution_count": null,
   "outputs": [],
   "source": [
    "titanic_numerical.plot_scatterplot(\"age\", \"fare\")\n"
   ],
   "metadata": {
    "collapsed": false,
    "ExecuteTime": {
     "start_time": "2023-03-14T19:00:58.343092Z",
     "end_time": "2023-03-14T19:00:58.457212Z"
    }
   }
  }
 ],
 "metadata": {
  "kernelspec": {
   "display_name": "Python 3",
   "language": "python",
   "name": "python3"
  },
  "language_info": {
   "codemirror_mode": {
    "name": "ipython",
    "version": 2
   },
   "file_extension": ".py",
   "mimetype": "text/x-python",
   "name": "python",
   "nbconvert_exporter": "python",
   "pygments_lexer": "ipython2",
   "version": "2.7.6"
  }
 },
 "nbformat": 4,
 "nbformat_minor": 0
}
