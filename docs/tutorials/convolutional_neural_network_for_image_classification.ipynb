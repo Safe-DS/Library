{
 "cells": [
  {
   "cell_type": "markdown",
   "id": "6d2c03ea985891aa",
   "metadata": {
    "collapsed": false
   },
   "source": []
  },
  {
   "cell_type": "markdown",
   "id": "d65ab4a80f6bc842",
   "metadata": {
    "collapsed": false
   },
   "source": [
    "# Image Classification with Convolutional Neural Networks\n",
    "\n",
    "This tutorial explains how image classification with CNNs can be handled in safeds with the `NeuralNetworkClassifier`. The data used contains of multiple drawn shapes and can be found on [kaggle](https://www.kaggle.com/datasets/cactus3/basicshapes/data).\n",
    "\n",
    "<div class=\"admonition note\">\n",
    "  <p class=\"admonition-title\">Note</p>\n",
    "  <p>\n",
    "    All operations on an <code>NeuralNetworkClassifier</code> return a new <code>NeuralNetworkClassifier</code>. The original <code>NeuralNetworkClassifier</code> will not be changed.\n",
    "  </p>\n",
    "</div>"
   ]
  },
  {
   "cell_type": "markdown",
   "id": "74dacfa56deeaed3",
   "metadata": {
    "collapsed": false
   },
   "source": "## Load data into an `ImageDataset`"
  },
  {
   "cell_type": "markdown",
   "id": "90dfbc18037f0201",
   "metadata": {
    "collapsed": false
   },
   "source": [
    "1. Load images via files in an `ImageList`. The data is available under `docs/tutorials/data/shapes`. If the `return_filenames` parameter is set to `True`, a list of all filepaths will be returned as well in the same order as the images in the returned `ImageList`."
   ]
  },
  {
   "cell_type": "code",
   "execution_count": null,
   "id": "initial_id",
   "metadata": {
    "collapsed": true
   },
   "outputs": [],
   "source": [
    "from safeds.data.image.containers import ImageList\n",
    "\n",
    "images, filepaths = ImageList.from_files(\"data/shapes\", return_filenames=True)"
   ]
  },
  {
   "cell_type": "markdown",
   "id": "76bc8612f449edf",
   "metadata": {
    "collapsed": false
   },
   "source": [
    "2. Create a `Column` with the labels of the images:"
   ]
  },
  {
   "cell_type": "code",
   "execution_count": null,
   "id": "66dcf95a3fa51f23",
   "metadata": {
    "collapsed": false
   },
   "outputs": [],
   "source": [
    "import re\n",
    "\n",
    "from safeds.data.tabular.containers import Column\n",
    "\n",
    "labels = Column(\n",
    "    \"label\",\n",
    "    [re.search(r\"(.*)[\\\\/](.*)[\\\\/](.*)\\.\", filepath).group(2) for filepath in filepaths],\n",
    ")"
   ]
  },
  {
   "cell_type": "markdown",
   "id": "596b0c9ec9627ad0",
   "metadata": {
    "collapsed": false
   },
   "source": [
    "3. Create an `ImageDataset` from the `ImageList` and the `Column` of labels. If the `shuffle` parameter is set to `True`, the `ImageDataset` will be shuffled after each epoch while training a neural network."
   ]
  },
  {
   "cell_type": "code",
   "execution_count": null,
   "id": "32056ddf5396e070",
   "metadata": {
    "collapsed": false
   },
   "outputs": [],
   "source": [
    "from safeds.data.labeled.containers import ImageDataset\n",
    "\n",
    "dataset = ImageDataset[Column](images, labels, shuffle=True)"
   ]
  },
  {
   "cell_type": "markdown",
   "id": "358bd4cc05c8daf3",
   "metadata": {
    "collapsed": false
   },
   "source": "## Create the neural network with a `NeuralNetworkClassifier`"
  },
  {
   "cell_type": "markdown",
   "id": "fe40c93a1cfd3a7b",
   "metadata": {
    "collapsed": false
   },
   "source": [
    "1. Create a list of `Layer` instances for your neural network:"
   ]
  },
  {
   "cell_type": "code",
   "execution_count": null,
   "id": "806a8091249d533a",
   "metadata": {
    "collapsed": false
   },
   "outputs": [],
   "source": [
    "from safeds.ml.nn.layers import Convolutional2DLayer, FlattenLayer, ForwardLayer, MaxPooling2DLayer\n",
    "\n",
    "layers = [\n",
    "    Convolutional2DLayer(output_channel=16, kernel_size=3, padding=1),\n",
    "    MaxPooling2DLayer(kernel_size=2, stride=2),\n",
    "    Convolutional2DLayer(output_channel=32, kernel_size=3, padding=1),\n",
    "    MaxPooling2DLayer(kernel_size=2, stride=2),\n",
    "    FlattenLayer(),\n",
    "    ForwardLayer(neuron_count=128),\n",
    "    ForwardLayer(neuron_count=3),\n",
    "]"
   ]
  },
  {
   "cell_type": "markdown",
   "id": "fe4f6a4d14404a85",
   "metadata": {
    "collapsed": false
   },
   "source": "2. Create a `NeuralNetworkClassifier` from an `InputConversion`, the list of `Layer` instances:"
  },
  {
   "cell_type": "code",
   "execution_count": null,
   "id": "af68cc0d32655d32",
   "metadata": {
    "collapsed": false
   },
   "outputs": [],
   "source": [
    "from safeds.ml.nn import NeuralNetworkClassifier\n",
    "from safeds.ml.nn.converters import InputConversionImageToColumn\n",
    "\n",
    "cnn = NeuralNetworkClassifier[ImageDataset[Column], ImageList](\n",
    "    InputConversionImageToColumn(dataset.input_size),\n",
    "    layers,\n",
    ")"
   ]
  },
  {
   "cell_type": "markdown",
   "id": "4f9387686ba50c37",
   "metadata": {
    "collapsed": false
   },
   "source": "## Fit and predict the `NeuralNetworkClassifier`"
  },
  {
   "cell_type": "markdown",
   "id": "3d8efa74951725cb",
   "metadata": {
    "collapsed": false
   },
   "source": [
    "1. Fit the `NeuralNetworkClassifier`:"
   ]
  },
  {
   "cell_type": "code",
   "execution_count": null,
   "id": "381627a94d500675",
   "metadata": {
    "collapsed": false
   },
   "outputs": [],
   "source": [
    "cnn_fitted = cnn.fit(dataset, epoch_count=8, batch_size=16)"
   ]
  },
  {
   "cell_type": "markdown",
   "id": "35bb7d0ebfabf597",
   "metadata": {
    "collapsed": false
   },
   "source": [
    "2. Predict values from the `NeuralNetworkClassifier`:"
   ]
  },
  {
   "cell_type": "code",
   "execution_count": null,
   "id": "62f63dd68362c8b7",
   "metadata": {
    "collapsed": false
   },
   "outputs": [],
   "source": [
    "prediction = cnn_fitted.predict(dataset.get_input())"
   ]
  },
  {
   "cell_type": "markdown",
   "id": "a8ecd71982a0cc97",
   "metadata": {
    "collapsed": false
   },
   "source": [
    "3. Shuffle the prediction to get a random order:"
   ]
  },
  {
   "cell_type": "code",
   "execution_count": null,
   "id": "779277d73e30554d",
   "metadata": {
    "collapsed": false
   },
   "outputs": [],
   "source": [
    "shuffled_prediction = prediction.shuffle()"
   ]
  },
  {
   "cell_type": "markdown",
   "id": "2c1ae7438df15cae",
   "metadata": {
    "collapsed": false
   },
   "source": [
    "4. Display a subset of the input data:"
   ]
  },
  {
   "cell_type": "code",
   "execution_count": null,
   "id": "a5ddbbfba41aa7f",
   "metadata": {
    "collapsed": false
   },
   "outputs": [],
   "source": [
    "shuffled_prediction.get_input().remove_image_by_index(list(range(9, len(prediction))))"
   ]
  },
  {
   "cell_type": "markdown",
   "id": "131db684a431d4ec",
   "metadata": {
    "collapsed": false
   },
   "source": [
    "5. Display the corresponding predicted labels:"
   ]
  },
  {
   "cell_type": "code",
   "execution_count": null,
   "id": "7081595d7100fb42",
   "metadata": {
    "collapsed": false
   },
   "outputs": [],
   "source": [
    "shuffled_prediction.get_output().to_list()[0:9]"
   ]
  }
 ],
 "metadata": {
  "kernelspec": {
   "display_name": "Python 3",
   "language": "python",
   "name": "python3"
  },
  "language_info": {
   "codemirror_mode": {
    "name": "ipython",
    "version": 2
   },
   "file_extension": ".py",
   "mimetype": "text/x-python",
   "name": "python",
   "nbconvert_exporter": "python",
   "pygments_lexer": "ipython2",
   "version": "2.7.6"
  }
 },
 "nbformat": 4,
 "nbformat_minor": 5
}
