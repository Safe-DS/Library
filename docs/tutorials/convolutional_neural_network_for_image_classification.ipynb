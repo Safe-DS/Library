{
 "cells": [
  {
   "cell_type": "markdown",
   "source": [],
   "metadata": {
    "collapsed": false
   },
   "id": "6d2c03ea985891aa"
  },
  {
   "cell_type": "markdown",
   "source": [
    "# Image Classification with Convolutional Neural Networks\n",
    "\n",
    "This tutorial explains how image classification with CNNs can be handled in safeds with the `NeuralNetworkClassifier`. The data used contains of multiple drawn shapes and can be found on [kaggle](https://www.kaggle.com/datasets/cactus3/basicshapes/data).\n",
    "\n",
    "<div class=\"admonition note\">\n",
    "  <p class=\"admonition-title\">Note</p>\n",
    "  <p>\n",
    "    All operations on an <code>NeuralNetworkClassifier</code> return a new <code>NeuralNetworkClassifier</code>. The original <code>NeuralNetworkClassifier</code> will not be changed.\n",
    "  </p>\n",
    "</div>"
   ],
   "metadata": {
    "collapsed": false
   },
   "id": "d65ab4a80f6bc842"
  },
  {
   "cell_type": "markdown",
   "source": [
    "## Load data into an `ImageDataset`"
   ],
   "metadata": {
    "collapsed": false
   },
   "id": "74dacfa56deeaed3"
  },
  {
   "cell_type": "markdown",
   "source": [
    "1. Load images via files in an `ImageList`. The data is available under `docs/tutorials/data/shapes`. If the `return_filenames` parameter is set to `True`, a list of all filepaths will be returned as well in the same order as the images in the returned `ImageList`."
   ],
   "metadata": {
    "collapsed": false
   },
   "id": "90dfbc18037f0201"
  },
  {
   "cell_type": "code",
   "execution_count": 1,
   "id": "initial_id",
   "metadata": {
    "collapsed": true,
    "ExecuteTime": {
     "end_time": "2024-05-24T11:02:34.265631400Z",
     "start_time": "2024-05-24T11:02:31.513808800Z"
    }
   },
   "outputs": [],
   "source": [
    "from safeds.data.image.containers import ImageList\n",
    "\n",
    "images, filepaths = ImageList.from_files(\"data/shapes\", return_filenames=True)"
   ]
  },
  {
   "cell_type": "markdown",
   "source": [
    "2. Create a `Column` with the labels of the images:"
   ],
   "metadata": {
    "collapsed": false
   },
   "id": "76bc8612f449edf"
  },
  {
   "cell_type": "code",
   "outputs": [],
   "source": [
    "import re\n",
    "from safeds.data.tabular.containers import Column\n",
    "\n",
    "labels = Column(\n",
    "    \"label\", \n",
    "    [re.search(r\"(.*)[\\\\/](.*)[\\\\/](.*)\\.\", filepath).group(2) for filepath in filepaths]\n",
    ")"
   ],
   "metadata": {
    "collapsed": false,
    "ExecuteTime": {
     "end_time": "2024-05-24T11:02:34.316676800Z",
     "start_time": "2024-05-24T11:02:34.264630700Z"
    }
   },
   "id": "66dcf95a3fa51f23",
   "execution_count": 2
  },
  {
   "cell_type": "markdown",
   "source": [
    "3. Create an `ImageDataset` from the `ImageList` and the `Column` of labels. If the `shuffle` parameter is set to `True`, the `ImageDataset` will be shuffled after each epoch while training a neural network."
   ],
   "metadata": {
    "collapsed": false
   },
   "id": "596b0c9ec9627ad0"
  },
  {
   "cell_type": "code",
   "outputs": [],
   "source": [
    "from safeds.data.labeled.containers import ImageDataset\n",
    "\n",
    "dataset = ImageDataset[Column](images, labels, shuffle=True)"
   ],
   "metadata": {
    "collapsed": false,
    "ExecuteTime": {
     "end_time": "2024-05-24T11:02:34.326514800Z",
     "start_time": "2024-05-24T11:02:34.316676800Z"
    }
   },
   "id": "32056ddf5396e070",
   "execution_count": 3
  },
  {
   "cell_type": "markdown",
   "source": [
    "## Create the neural network with a `NeuralNetworkClassifier`"
   ],
   "metadata": {
    "collapsed": false
   },
   "id": "358bd4cc05c8daf3"
  },
  {
   "cell_type": "markdown",
   "source": [
    "1. Create a list of `Layer` instances for your neural network:"
   ],
   "metadata": {
    "collapsed": false
   },
   "id": "fe40c93a1cfd3a7b"
  },
  {
   "cell_type": "code",
   "outputs": [],
   "source": [
    "from safeds.ml.nn.layers import (Convolutional2DLayer, FlattenLayer,\n",
    "                                 ForwardLayer, MaxPooling2DLayer)\n",
    "\n",
    "layers = [\n",
    "    Convolutional2DLayer(output_channel=16, kernel_size=3, padding=1),\n",
    "    MaxPooling2DLayer(kernel_size=2, stride=2),\n",
    "    Convolutional2DLayer(output_channel=32, kernel_size=3, padding=1),\n",
    "    MaxPooling2DLayer(kernel_size=2, stride=2),\n",
    "    FlattenLayer(),\n",
    "    ForwardLayer(output_size=128),\n",
    "    ForwardLayer(output_size=3),\n",
    "]"
   ],
   "metadata": {
    "collapsed": false,
    "ExecuteTime": {
     "end_time": "2024-05-24T11:02:34.332207400Z",
     "start_time": "2024-05-24T11:02:34.327515700Z"
    }
   },
   "id": "806a8091249d533a",
   "execution_count": 4
  },
  {
   "cell_type": "markdown",
   "source": [
    "2. Create a `NeuralNetworkClassifier` from an `InputConversion`, the list of `Layer` instances:"
   ],
   "metadata": {
    "collapsed": false
   },
   "id": "fe4f6a4d14404a85"
  },
  {
   "cell_type": "code",
   "outputs": [],
   "source": [
    "from safeds.ml.nn import NeuralNetworkClassifier\n",
    "from safeds.ml.nn.converters import InputConversionImageToColumn\n",
    "\n",
    "cnn = NeuralNetworkClassifier[ImageDataset[Column], ImageList](\n",
    "    InputConversionImageToColumn(dataset.input_size), \n",
    "    layers,\n",
    ")"
   ],
   "metadata": {
    "collapsed": false,
    "ExecuteTime": {
     "end_time": "2024-05-24T11:02:34.346109100Z",
     "start_time": "2024-05-24T11:02:34.333213900Z"
    }
   },
   "id": "af68cc0d32655d32",
   "execution_count": 5
  },
  {
   "cell_type": "markdown",
   "source": [
    "## Fit and predict the `NeuralNetworkClassifier`"
   ],
   "metadata": {
    "collapsed": false
   },
   "id": "4f9387686ba50c37"
  },
  {
   "cell_type": "markdown",
   "source": [
    "1. Fit the `NeuralNetworkClassifier`:"
   ],
   "metadata": {
    "collapsed": false
   },
   "id": "3d8efa74951725cb"
  },
  {
   "cell_type": "code",
   "outputs": [],
   "source": [
    "cnn_fitted = cnn.fit(dataset, epoch_size=32, batch_size=16)"
   ],
   "metadata": {
    "collapsed": false,
    "ExecuteTime": {
     "end_time": "2024-05-24T11:02:53.551571800Z",
     "start_time": "2024-05-24T11:02:34.338597700Z"
    }
   },
   "id": "381627a94d500675",
   "execution_count": 6
  },
  {
   "cell_type": "markdown",
   "source": [
    "2. Predict values from the `NeuralNetworkClassifier`:"
   ],
   "metadata": {
    "collapsed": false
   },
   "id": "35bb7d0ebfabf597"
  },
  {
   "cell_type": "code",
   "outputs": [],
   "source": [
    "prediction = cnn_fitted.predict(dataset.get_input())"
   ],
   "metadata": {
    "collapsed": false,
    "ExecuteTime": {
     "end_time": "2024-05-24T11:02:53.722943800Z",
     "start_time": "2024-05-24T11:02:53.544059300Z"
    }
   },
   "id": "62f63dd68362c8b7",
   "execution_count": 7
  },
  {
   "cell_type": "markdown",
   "source": [
    "3. Shuffle the prediction to get a random order:"
   ],
   "metadata": {
    "collapsed": false
   },
   "id": "a8ecd71982a0cc97"
  },
  {
   "cell_type": "code",
   "outputs": [],
   "source": [
    "shuffled_prediction = prediction.shuffle()"
   ],
   "metadata": {
    "collapsed": false,
    "ExecuteTime": {
     "end_time": "2024-05-24T11:02:53.726021100Z",
     "start_time": "2024-05-24T11:02:53.723942600Z"
    }
   },
   "id": "779277d73e30554d",
   "execution_count": 8
  },
  {
   "cell_type": "markdown",
   "source": [
    "4. Display a subset of the input data:"
   ],
   "metadata": {
    "collapsed": false
   },
   "id": "2c1ae7438df15cae"
  },
  {
   "cell_type": "code",
   "outputs": [
    {
     "data": {
      "text/plain": "<safeds.data.image.containers._single_size_image_list._SingleSizeImageList at 0x268b83baad0>",
      "image/png": "[encoded data removed]"
     },
     "execution_count": 9,
     "metadata": {},
     "output_type": "execute_result"
    }
   ],
   "source": [
    "shuffled_prediction.get_input().remove_image_by_index(list(range(9, len(prediction))))"
   ],
   "metadata": {
    "collapsed": false,
    "ExecuteTime": {
     "end_time": "2024-05-24T11:02:53.740548300Z",
     "start_time": "2024-05-24T11:02:53.726021100Z"
    }
   },
   "id": "a5ddbbfba41aa7f",
   "execution_count": 9
  },
  {
   "cell_type": "markdown",
   "source": [
    "5. Display the corresponding predicted labels:"
   ],
   "metadata": {
    "collapsed": false
   },
   "id": "131db684a431d4ec"
  },
  {
   "cell_type": "code",
   "outputs": [
    {
     "data": {
      "text/plain": "['squares',\n 'squares',\n 'triangles',\n 'circles',\n 'triangles',\n 'squares',\n 'squares',\n 'squares',\n 'triangles']"
     },
     "execution_count": 10,
     "metadata": {},
     "output_type": "execute_result"
    }
   ],
   "source": [
    "shuffled_prediction.get_output().to_list()[0:9]"
   ],
   "metadata": {
    "collapsed": false,
    "ExecuteTime": {
     "end_time": "2024-05-24T11:02:53.749142100Z",
     "start_time": "2024-05-24T11:02:53.741553600Z"
    }
   },
   "id": "7081595d7100fb42",
   "execution_count": 10
  }
 ],
 "metadata": {
  "kernelspec": {
   "display_name": "Python 3",
   "language": "python",
   "name": "python3"
  },
  "language_info": {
   "codemirror_mode": {
    "name": "ipython",
    "version": 2
   },
   "file_extension": ".py",
   "mimetype": "text/x-python",
   "name": "python",
   "nbconvert_exporter": "python",
   "pygments_lexer": "ipython2",
   "version": "2.7.6"
  }
 },
 "nbformat": 4,
 "nbformat_minor": 5
}
