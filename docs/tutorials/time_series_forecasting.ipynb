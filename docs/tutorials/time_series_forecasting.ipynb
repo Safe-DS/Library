{
 "cells": [
  {
   "cell_type": "markdown",
   "metadata": {
    "collapsed": false
   },
   "source": [
    "# Time series forecasting\n",
    "\n",
    "This tutorial uses safeds on **US inflation rates data** to predict future inflation with a recurrent neural network. The **US inflation rates data** is a time series. A time series, is a series with frequently measured values. This time series measures the inflation of the US every Month from January 1947 until June 2023.\n"
   ]
  },
  {
   "cell_type": "markdown",
   "metadata": {
    "collapsed": false
   },
   "source": [
    "1. Load your data into a `Table`. The data is available under `docs/tutorials/data/US_Inflation_rates.csv`:\n"
   ]
  },
  {
   "cell_type": "code",
   "execution_count": 6,
   "outputs": [
    {
     "data": {
      "text/plain": "+------------+----------+\n| date       |    value |\n| ---        |      --- |\n| str        |      f64 |\n+=======================+\n| 1947-01-01 | 21.48000 |\n| 1947-02-01 | 21.62000 |\n| 1947-03-01 | 22.00000 |\n| 1947-04-01 | 22.00000 |\n| 1947-05-01 | 21.95000 |\n| …          |        … |\n| 1947-11-01 | 23.06000 |\n| 1947-12-01 | 23.41000 |\n| 1948-01-01 | 23.68000 |\n| 1948-02-01 | 23.67000 |\n| 1948-03-01 | 23.50000 |\n+------------+----------+",
      "text/html": "<div><style>\n.dataframe > thead > tr,\n.dataframe > tbody > tr {\n  text-align: right;\n  white-space: pre-wrap;\n}\n</style>\n<small>shape: (15, 2)</small><table border=\"1\" class=\"dataframe\"><thead><tr><th>date</th><th>value</th></tr><tr><td>str</td><td>f64</td></tr></thead><tbody><tr><td>&quot;1947-01-01&quot;</td><td>21.48</td></tr><tr><td>&quot;1947-02-01&quot;</td><td>21.62</td></tr><tr><td>&quot;1947-03-01&quot;</td><td>22.0</td></tr><tr><td>&quot;1947-04-01&quot;</td><td>22.0</td></tr><tr><td>&quot;1947-05-01&quot;</td><td>21.95</td></tr><tr><td>&hellip;</td><td>&hellip;</td></tr><tr><td>&quot;1947-11-01&quot;</td><td>23.06</td></tr><tr><td>&quot;1947-12-01&quot;</td><td>23.41</td></tr><tr><td>&quot;1948-01-01&quot;</td><td>23.68</td></tr><tr><td>&quot;1948-02-01&quot;</td><td>23.67</td></tr><tr><td>&quot;1948-03-01&quot;</td><td>23.5</td></tr></tbody></table></div>"
     },
     "execution_count": 6,
     "metadata": {},
     "output_type": "execute_result"
    }
   ],
   "source": [
    "from safeds.data.tabular.containers import Table\n",
    "\n",
    "inflation = Table.from_csv_file(\"data/US_Inflation_rates.csv\")\n",
    "# For visualisation purposes we only print out the first 15 rows.\n",
    "inflation.slice_rows(0,15)"
   ],
   "metadata": {
    "collapsed": false,
    "pycharm": {
     "name": "#%%\n"
    },
    "ExecuteTime": {
     "end_time": "2024-05-24T11:08:36.741368600Z",
     "start_time": "2024-05-24T11:08:36.736190300Z"
    }
   }
  },
  {
   "cell_type": "markdown",
   "metadata": {
    "collapsed": false
   },
   "source": [
    "This dataset contains two columns: date and value. The date column is right now still a string type with a format like this: \"Year-Month-Day\". We can convert it into a temporal type column like this:"
   ]
  },
  {
   "cell_type": "code",
   "execution_count": 7,
   "metadata": {
    "collapsed": false,
    "ExecuteTime": {
     "end_time": "2024-05-24T11:08:41.028965600Z",
     "start_time": "2024-05-24T11:08:41.024454Z"
    }
   },
   "outputs": [
    {
     "data": {
      "text/plain": "+------------+----------+\n| date       |    value |\n| ---        |      --- |\n| date       |      f64 |\n+=======================+\n| 1947-01-01 | 21.48000 |\n| 1947-02-01 | 21.62000 |\n| 1947-03-01 | 22.00000 |\n| 1947-04-01 | 22.00000 |\n| 1947-05-01 | 21.95000 |\n| …          |        … |\n| 1947-11-01 | 23.06000 |\n| 1947-12-01 | 23.41000 |\n| 1948-01-01 | 23.68000 |\n| 1948-02-01 | 23.67000 |\n| 1948-03-01 | 23.50000 |\n+------------+----------+",
      "text/html": "<div><style>\n.dataframe > thead > tr,\n.dataframe > tbody > tr {\n  text-align: right;\n  white-space: pre-wrap;\n}\n</style>\n<small>shape: (15, 2)</small><table border=\"1\" class=\"dataframe\"><thead><tr><th>date</th><th>value</th></tr><tr><td>date</td><td>f64</td></tr></thead><tbody><tr><td>1947-01-01</td><td>21.48</td></tr><tr><td>1947-02-01</td><td>21.62</td></tr><tr><td>1947-03-01</td><td>22.0</td></tr><tr><td>1947-04-01</td><td>22.0</td></tr><tr><td>1947-05-01</td><td>21.95</td></tr><tr><td>&hellip;</td><td>&hellip;</td></tr><tr><td>1947-11-01</td><td>23.06</td></tr><tr><td>1947-12-01</td><td>23.41</td></tr><tr><td>1948-01-01</td><td>23.68</td></tr><tr><td>1948-02-01</td><td>23.67</td></tr><tr><td>1948-03-01</td><td>23.5</td></tr></tbody></table></div>"
     },
     "execution_count": 7,
     "metadata": {},
     "output_type": "execute_result"
    }
   ],
   "source": [
    "inflation = inflation.replace_column(\"date\", [inflation.get_column(\"date\").transform(lambda cell:cell.str.to_date())])\n",
    "inflation.slice_rows(0,15)"
   ]
  },
  {
   "cell_type": "markdown",
   "metadata": {
    "collapsed": false
   },
   "source": [
    "As we can see the date column is no longer in quotes."
   ]
  },
  {
   "cell_type": "markdown",
   "metadata": {
    "collapsed": false
   },
   "source": [
    "2. In the second step we prepare the data, to train our neural network. For that we need to normalize our data, because neural networks work better on values between 0 and 1. After that, we split the data into a training and test set.\n"
   ]
  },
  {
   "cell_type": "code",
   "execution_count": 8,
   "metadata": {
    "collapsed": false,
    "ExecuteTime": {
     "end_time": "2024-05-24T11:08:44.509629200Z",
     "start_time": "2024-05-24T11:08:44.505021300Z"
    }
   },
   "outputs": [
    {
     "data": {
      "text/plain": "+------------+---------+\n| date       |   value |\n| ---        |     --- |\n| date       |     f64 |\n+======================+\n| 1947-01-01 | 0.00000 |\n| 1947-02-01 | 0.00050 |\n| 1947-03-01 | 0.00184 |\n| 1947-04-01 | 0.00184 |\n| 1947-05-01 | 0.00166 |\n| …          |       … |\n| 2007-10-01 | 0.66479 |\n| 2007-11-01 | 0.67061 |\n| 2007-12-01 | 0.67277 |\n| 2008-01-01 | 0.67536 |\n| 2008-02-01 | 0.67717 |\n+------------+---------+",
      "text/html": "<div><style>\n.dataframe > thead > tr,\n.dataframe > tbody > tr {\n  text-align: right;\n  white-space: pre-wrap;\n}\n</style>\n<small>shape: (734, 2)</small><table border=\"1\" class=\"dataframe\"><thead><tr><th>date</th><th>value</th></tr><tr><td>date</td><td>f64</td></tr></thead><tbody><tr><td>1947-01-01</td><td>0.0</td></tr><tr><td>1947-02-01</td><td>0.000496</td></tr><tr><td>1947-03-01</td><td>0.001842</td></tr><tr><td>1947-04-01</td><td>0.001842</td></tr><tr><td>1947-05-01</td><td>0.001665</td></tr><tr><td>&hellip;</td><td>&hellip;</td></tr><tr><td>2007-10-01</td><td>0.664787</td></tr><tr><td>2007-11-01</td><td>0.67061</td></tr><tr><td>2007-12-01</td><td>0.672774</td></tr><tr><td>2008-01-01</td><td>0.675355</td></tr><tr><td>2008-02-01</td><td>0.677172</td></tr></tbody></table></div>"
     },
     "execution_count": 8,
     "metadata": {},
     "output_type": "execute_result"
    }
   ],
   "source": [
    "from safeds.data.tabular.transformation import RangeScaler\n",
    "\n",
    "scaler = RangeScaler()\n",
    "trained_scaler, inflation = scaler.fit_and_transform(inflation)\n",
    "train_set, test_set = inflation.split_rows(percentage_in_first=0.8, shuffle=False)\n",
    "train_set"
   ]
  },
  {
   "cell_type": "markdown",
   "metadata": {
    "collapsed": false
   },
   "source": [
    "3. To finish our data preparation we mark the datasets as time series, so they can be used in such context for the neural networks:"
   ]
  },
  {
   "cell_type": "markdown",
   "metadata": {
    "collapsed": false
   },
   "source": [
    "If we want to use a neural network to predict what the inflation will be next month, we have to provide it with a relevant chunk of past data that it can learn from. Think of it like looking at a series of snapshots from the past to guess what's going to happen next.\n",
    "\n",
    "Instead of feeding the entire history of inflation data to the neural network all at once, which could be overwhelming and not very helpful, we divide the historical data into smaller, more manageable parts. This technique is known as \"windowing.\"\n",
    "\n",
    "A \"window\" in this context is just a set portion of consecutive data points from the time series. By giving the neural network these windows, it can start to understand how the numbers in the past relate to future values.\n",
    "\n",
    "In our case, we want to look at the last 8 months of inflation data to make a guess about the inflation for the upcoming month. So, we choose a window size of 8. This window will slide across our time series data, providing the neural network with different 8-month segments to learn from.\n",
    "\n",
    "Finally, we tell our neural network that our forecast horizon is 1, meaning that we're interested in predicting the value for just one step ahead—the next month's inflation rate.\n",
    "\n",
    "So, simply put, we set up our neural network to take in 8-month chunks of inflation data to help it make a forecast about the inflation rate for the next month.\n",
    "\n"
   ]
  },
  {
   "cell_type": "code",
   "execution_count": 9,
   "metadata": {
    "collapsed": false,
    "ExecuteTime": {
     "end_time": "2024-05-24T11:08:58.776270800Z",
     "start_time": "2024-05-24T11:08:58.771884200Z"
    }
   },
   "outputs": [],
   "source": [
    "from safeds.ml.nn import NeuralNetworkRegressor\n",
    "\n",
    "from safeds.ml.nn.converters import (\n",
    "    InputConversionTimeSeries,\n",
    ")\n",
    "from safeds.ml.nn.layers import (\n",
    "    ForwardLayer,\n",
    "    LSTMLayer,\n",
    ")\n",
    "\n",
    "neural_network = NeuralNetworkRegressor(\n",
    "    InputConversionTimeSeries(),\n",
    "    [ForwardLayer(input_size=12, output_size=256), LSTMLayer(input_size=256, output_size=1)],\n",
    ")"
   ]
  },
  {
   "cell_type": "markdown",
   "metadata": {
    "collapsed": false
   },
   "source": [
    "5. Now that we defined and trained our model, we can start making predictions."
   ]
  },
  {
   "cell_type": "code",
   "outputs": [],
   "source": [
    "fitted_neural_network = neural_network.fit(train_set.to_time_series_dataset(\n",
    "    target_name=\"value\",\n",
    "    time_name=\"date\",\n",
    "    window_size=12,\n",
    "    forecast_horizon=1,\n",
    "    continuous=False,\n",
    "), epoch_size=5)"
   ],
   "metadata": {
    "collapsed": false,
    "ExecuteTime": {
     "end_time": "2024-05-24T11:09:08.783561400Z",
     "start_time": "2024-05-24T11:09:03.666396600Z"
    }
   },
   "execution_count": 10
  },
  {
   "cell_type": "code",
   "execution_count": 11,
   "metadata": {
    "collapsed": false,
    "ExecuteTime": {
     "end_time": "2024-05-24T11:09:15.429364100Z",
     "start_time": "2024-05-24T11:09:15.352036500Z"
    }
   },
   "outputs": [
    {
     "data": {
      "text/plain": "+------------+---------+\n| date       |   value |\n| ---        |     --- |\n| date       |     f64 |\n+======================+\n| 2009-04-01 | 0.59490 |\n| 2009-05-01 | 0.59414 |\n| 2009-06-01 | 0.59367 |\n| 2009-07-01 | 0.59384 |\n| 2009-08-01 | 0.59439 |\n| …          |       … |\n| 2010-02-01 | 0.59477 |\n| 2010-03-01 | 0.59453 |\n| 2010-04-01 | 0.59500 |\n| 2010-05-01 | 0.59518 |\n| 2010-06-01 | 0.59524 |\n+------------+---------+",
      "text/html": "<div><style>\n.dataframe > thead > tr,\n.dataframe > tbody > tr {\n  text-align: right;\n  white-space: pre-wrap;\n}\n</style>\n<small>shape: (15, 2)</small><table border=\"1\" class=\"dataframe\"><thead><tr><th>date</th><th>value</th></tr><tr><td>date</td><td>f64</td></tr></thead><tbody><tr><td>2009-04-01</td><td>0.594904</td></tr><tr><td>2009-05-01</td><td>0.594143</td></tr><tr><td>2009-06-01</td><td>0.593667</td></tr><tr><td>2009-07-01</td><td>0.593838</td></tr><tr><td>2009-08-01</td><td>0.594394</td></tr><tr><td>&hellip;</td><td>&hellip;</td></tr><tr><td>2010-02-01</td><td>0.594766</td></tr><tr><td>2010-03-01</td><td>0.594528</td></tr><tr><td>2010-04-01</td><td>0.595</td></tr><tr><td>2010-05-01</td><td>0.595178</td></tr><tr><td>2010-06-01</td><td>0.595243</td></tr></tbody></table></div>"
     },
     "execution_count": 11,
     "metadata": {},
     "output_type": "execute_result"
    }
   ],
   "source": [
    "prediction = fitted_neural_network.predict(\n",
    "    test_set.to_time_series_dataset(\n",
    "        target_name=\"value\",\n",
    "        time_name=\"date\",\n",
    "        window_size=10,\n",
    "        forecast_horizon=1,\n",
    "        continuous=False\n",
    "    )\n",
    ")\n",
    "prediction = prediction.to_table()\n",
    "# For visualisation purposes we only print out the first 15 rows.\n",
    "prediction.slice_rows(start=0, length=15)"
   ]
  },
  {
   "cell_type": "markdown",
   "metadata": {
    "collapsed": false
   },
   "source": [
    "6. Now we only need to inverse our predictions and we can start visualizing them:\n"
   ]
  },
  {
   "cell_type": "code",
   "execution_count": 12,
   "metadata": {
    "collapsed": false,
    "ExecuteTime": {
     "end_time": "2024-05-24T11:09:18.301626500Z",
     "start_time": "2024-05-24T11:09:18.297473Z"
    }
   },
   "outputs": [],
   "source": [
    "prediction = trained_scaler.inverse_transform(prediction)\n",
    "test_set = trained_scaler.inverse_transform(test_set)\n"
   ]
  },
  {
   "cell_type": "code",
   "outputs": [],
   "source": [
    "preds_with_test = prediction.add_columns([test_set.slice_rows(13).rename_column(\"value\",\"test_value\").get_column(\"test_value\")])"
   ],
   "metadata": {
    "collapsed": false,
    "ExecuteTime": {
     "end_time": "2024-05-24T11:09:20.445598800Z",
     "start_time": "2024-05-24T11:09:20.442088300Z"
    }
   },
   "execution_count": 13
  },
  {
   "cell_type": "code",
   "execution_count": 14,
   "metadata": {
    "collapsed": false,
    "ExecuteTime": {
     "end_time": "2024-05-24T11:09:21.283323800Z",
     "start_time": "2024-05-24T11:09:20.860706700Z"
    }
   },
   "outputs": [
    {
     "data": {
      "text/plain": "<safeds.data.image.containers._image.Image at 0x1d07323ce50>",
      "image/png": "[encoded data removed]"
     },
     "execution_count": 14,
     "metadata": {},
     "output_type": "execute_result"
    }
   ],
   "source": [
    "preds_with_test.plot.line_plot(\"date\", [\"value\", \"test_value\"])"
   ]
  },
  {
   "cell_type": "code",
   "outputs": [],
   "source": [],
   "metadata": {
    "collapsed": false,
    "ExecuteTime": {
     "start_time": "2024-05-24T11:08:34.599718600Z"
    }
   },
   "execution_count": null
  }
 ],
 "metadata": {
  "kernelspec": {
   "display_name": "Python 3 (ipykernel)",
   "language": "python",
   "name": "python3"
  },
  "language_info": {
   "codemirror_mode": {
    "name": "ipython",
    "version": 3
   },
   "file_extension": ".py",
   "mimetype": "text/x-python",
   "name": "python",
   "nbconvert_exporter": "python",
   "pygments_lexer": "ipython3",
   "version": "3.10.8"
  }
 },
 "nbformat": 4,
 "nbformat_minor": 4
}
