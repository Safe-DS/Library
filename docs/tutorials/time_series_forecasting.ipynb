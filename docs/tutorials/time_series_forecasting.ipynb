{
 "cells": [
  {
   "cell_type": "markdown",
   "metadata": {
    "collapsed": false,
    "jupyter": {
     "outputs_hidden": false
    }
   },
   "source": [
    "# Time series forecasting\n",
    "\n",
    "This tutorial uses safeds on **US inflation rates data** to predict future inflation with a recurrent neural network. The **US inflation rates data** is a time series. A time series, is a series with frequently measured values. This time series measures the inflation of the US every Month from January 1947 until June 2023.\n"
   ]
  },
  {
   "cell_type": "markdown",
   "metadata": {
    "collapsed": false,
    "jupyter": {
     "outputs_hidden": false
    }
   },
   "source": [
    "1. Load your data into a `Table`. The data is available under `docs/tutorials/data/US_Inflation_rates.csv`:\n"
   ]
  },
  {
   "cell_type": "code",
   "metadata": {
    "collapsed": false,
    "jupyter": {
     "is_executing": true,
     "outputs_hidden": false
    },
    "pycharm": {
     "name": "#%%\n"
    }
   },
   "source": [
    "from safeds.data.tabular.containers import Table\n",
    "\n",
    "inflation = Table.from_csv_file(\"data/US_Inflation_rates.csv\")\n",
    "# For visualisation purposes we only print out the first 15 rows.\n",
    "inflation.slice_rows(start=0,length=15)"
   ],
   "outputs": [],
   "execution_count": null
  },
  {
   "cell_type": "markdown",
   "metadata": {
    "collapsed": false,
    "jupyter": {
     "outputs_hidden": false
    }
   },
   "source": [
    "This dataset contains two columns: date and value. The date column is right now still a string type with a format like this: \"Year-Month-Day\". We can convert it into a temporal type column like this:"
   ]
  },
  {
   "cell_type": "code",
   "metadata": {
    "collapsed": false,
    "jupyter": {
     "outputs_hidden": false
    }
   },
   "source": [
    "inflation = inflation.replace_column(\"date\", [inflation.get_column(\"date\").transform(lambda cell:cell.str.to_date())])\n",
    "inflation.slice_rows(start=0,length=15)"
   ],
   "outputs": [],
   "execution_count": null
  },
  {
   "cell_type": "markdown",
   "metadata": {
    "collapsed": false,
    "jupyter": {
     "outputs_hidden": false
    }
   },
   "source": [
    "Let's have a look on the dataset."
   ]
  },
  {
   "cell_type": "code",
   "metadata": {
    "collapsed": false,
    "jupyter": {
     "outputs_hidden": false
    }
   },
   "source": [
    "inflation.plot.line_plot(x_name=\"date\", y_names=[\"value\"])"
   ],
   "outputs": [],
   "execution_count": null
  },
  {
   "cell_type": "markdown",
   "metadata": {
    "collapsed": false,
    "jupyter": {
     "outputs_hidden": false
    }
   },
   "source": [
    "2. In the second step we prepare the data, to train our neural network. For that we need to normalize our data, because neural networks work better on small values. After that, we split the data into a training and test set.\n"
   ]
  },
  {
   "cell_type": "code",
   "metadata": {
    "collapsed": false,
    "jupyter": {
     "outputs_hidden": false
    }
   },
   "source": [
    "from safeds.data.tabular.transformation import StandardScaler\n",
    "\n",
    "scaler = StandardScaler()\n",
    "trained_scaler, inflation_scaled = scaler.fit_and_transform(inflation)\n",
    "train_set, test_set = inflation_scaled.split_rows(percentage_in_first=0.9, shuffle=False)"
   ],
   "outputs": [],
   "execution_count": null
  },
  {
   "cell_type": "markdown",
   "metadata": {
    "collapsed": false,
    "jupyter": {
     "outputs_hidden": false
    }
   },
   "source": [
    "3. After the data preparation we can start defining our neural network. We do this by defining the different layers and their output size."
   ]
  },
  {
   "cell_type": "code",
   "metadata": {
    "collapsed": false,
    "jupyter": {
     "outputs_hidden": false
    }
   },
   "source": [
    "from safeds.ml.nn import NeuralNetworkRegressor\n",
    "\n",
    "from safeds.ml.nn.converters import (\n",
    "    InputConversionTimeSeries,\n",
    ")\n",
    "from safeds.ml.nn.layers import (\n",
    "    ForwardLayer,\n",
    "    LSTMLayer,\n",
    ")\n",
    "\n",
    "neural_network = NeuralNetworkRegressor(\n",
    "    InputConversionTimeSeries(),\n",
    "    [LSTMLayer(256), ForwardLayer(1, \"none\")],\n",
    ")"
   ],
   "outputs": [],
   "execution_count": null
  },
  {
   "cell_type": "markdown",
   "metadata": {
    "collapsed": false,
    "jupyter": {
     "outputs_hidden": false
    }
   },
   "source": [
    "4. When working with time series data, the data is segmented into windows prior to being fed into the neural network. Each window consists of a sequence of consecutive data points. Windowing data is beneficial for neural networks as it allows them to more effectively learn the relationships between data points. In Safe-DS, the windowing step is automated; users simply need to classify their dataset as a time series, as demonstrated below."
   ]
  },
  {
   "cell_type": "code",
   "metadata": {
    "collapsed": false,
    "jupyter": {
     "outputs_hidden": false
    }
   },
   "source": [
    "from safeds.data.labeled.containers import TimeSeriesDataset\n",
    "\n",
    "fitted_neural_network = neural_network.fit(\n",
    "    TimeSeriesDataset(\n",
    "        train_set,\n",
    "        \"value\",\n",
    "        window_size=12,\n",
    "        forecast_horizon=1,\n",
    "        continuous=False,\n",
    "        extra_names= [\"date\"]\n",
    "    ),\n",
    "    epoch_count=25\n",
    ")"
   ],
   "outputs": [],
   "execution_count": null
  },
  {
   "cell_type": "markdown",
   "metadata": {
    "collapsed": false,
    "jupyter": {
     "outputs_hidden": false
    }
   },
   "source": [
    "5. Now that we defined and trained our model, we can start making predictions."
   ]
  },
  {
   "cell_type": "code",
   "metadata": {
    "collapsed": false,
    "jupyter": {
     "outputs_hidden": false
    }
   },
   "source": [
    "\n",
    "prediction = fitted_neural_network.predict(test_set)\n",
    "prediction = prediction.to_table()"
   ],
   "outputs": [],
   "execution_count": null
  },
  {
   "cell_type": "markdown",
   "metadata": {
    "collapsed": false,
    "jupyter": {
     "outputs_hidden": false
    }
   },
   "source": [
    "6. Now we only need to inverse our predictions and we can start visualizing them:\n"
   ]
  },
  {
   "cell_type": "code",
   "metadata": {
    "collapsed": false,
    "jupyter": {
     "outputs_hidden": false
    }
   },
   "source": [
    "prediction = trained_scaler.inverse_transform(prediction)\n",
    "test_set = trained_scaler.inverse_transform(test_set)"
   ],
   "outputs": [],
   "execution_count": null
  },
  {
   "cell_type": "code",
   "metadata": {
    "collapsed": false,
    "jupyter": {
     "outputs_hidden": false
    }
   },
   "source": [
    "preds_with_test = prediction.add_columns([test_set.slice_rows(start=13).rename_column(\"value\",\"true_value\").get_column(\"true_value\")])"
   ],
   "outputs": [],
   "execution_count": null
  },
  {
   "cell_type": "code",
   "metadata": {
    "collapsed": false,
    "jupyter": {
     "outputs_hidden": false
    }
   },
   "source": [
    "preds_with_test.plot.line_plot(\"date\", [\"value\", \"true_value\"])"
   ],
   "outputs": [],
   "execution_count": null
  }
 ],
 "metadata": {
  "kernelspec": {
   "display_name": "Python 3 (ipykernel)",
   "language": "python",
   "name": "python3"
  },
  "language_info": {
   "codemirror_mode": {
    "name": "ipython",
    "version": 3
   },
   "file_extension": ".py",
   "mimetype": "text/x-python",
   "name": "python",
   "nbconvert_exporter": "python",
   "pygments_lexer": "ipython3",
   "version": "3.12.3"
  }
 },
 "nbformat": 4,
 "nbformat_minor": 4
}
