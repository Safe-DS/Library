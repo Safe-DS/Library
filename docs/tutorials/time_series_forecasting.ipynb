{
 "cells": [
  {
   "cell_type": "markdown",
   "metadata": {
    "collapsed": false
   },
   "source": [
    "# Time series forecasting\n",
    "\n",
    "This tutorial uses safeds on **US inflation rates data** to predict future inflation with a recurrent neural network. The **US inflation rates data** is a time series. A time series, is a series with frequently measured values. This time series measures the inflation of the US every Month from January 1947 until June 2023.\n"
   ]
  },
  {
   "cell_type": "markdown",
   "metadata": {
    "collapsed": false
   },
   "source": [
    "1. Load your data into a `Table`. The data is available under `docs/tutorials/data/US_Inflation_rates.csv`:\n"
   ]
  },
  {
   "cell_type": "code",
   "execution_count": 1,
   "outputs": [
    {
     "data": {
      "text/plain": "+------------+----------+\n| date       |    value |\n| ---        |      --- |\n| str        |      f64 |\n+=======================+\n| 1947-01-01 | 21.48000 |\n| 1947-02-01 | 21.62000 |\n| 1947-03-01 | 22.00000 |\n| 1947-04-01 | 22.00000 |\n| 1947-05-01 | 21.95000 |\n| …          |        … |\n| 1947-11-01 | 23.06000 |\n| 1947-12-01 | 23.41000 |\n| 1948-01-01 | 23.68000 |\n| 1948-02-01 | 23.67000 |\n| 1948-03-01 | 23.50000 |\n+------------+----------+",
      "text/html": "<div><style>\n.dataframe > thead > tr,\n.dataframe > tbody > tr {\n  text-align: right;\n  white-space: pre-wrap;\n}\n</style>\n<small>shape: (15, 2)</small><table border=\"1\" class=\"dataframe\"><thead><tr><th>date</th><th>value</th></tr><tr><td>str</td><td>f64</td></tr></thead><tbody><tr><td>&quot;1947-01-01&quot;</td><td>21.48</td></tr><tr><td>&quot;1947-02-01&quot;</td><td>21.62</td></tr><tr><td>&quot;1947-03-01&quot;</td><td>22.0</td></tr><tr><td>&quot;1947-04-01&quot;</td><td>22.0</td></tr><tr><td>&quot;1947-05-01&quot;</td><td>21.95</td></tr><tr><td>&hellip;</td><td>&hellip;</td></tr><tr><td>&quot;1947-11-01&quot;</td><td>23.06</td></tr><tr><td>&quot;1947-12-01&quot;</td><td>23.41</td></tr><tr><td>&quot;1948-01-01&quot;</td><td>23.68</td></tr><tr><td>&quot;1948-02-01&quot;</td><td>23.67</td></tr><tr><td>&quot;1948-03-01&quot;</td><td>23.5</td></tr></tbody></table></div>"
     },
     "execution_count": 1,
     "metadata": {},
     "output_type": "execute_result"
    }
   ],
   "source": [
    "from safeds.data.tabular.containers import Table\n",
    "\n",
    "inflation = Table.from_csv_file(\"data/US_Inflation_rates.csv\")\n",
    "# For visualisation purposes we only print out the first 15 rows.\n",
    "inflation.slice_rows(0,15)"
   ],
   "metadata": {
    "collapsed": false,
    "pycharm": {
     "name": "#%%\n"
    },
    "ExecuteTime": {
     "end_time": "2024-05-21T16:15:25.190591400Z",
     "start_time": "2024-05-21T16:15:25.114240800Z"
    }
   }
  },
  {
   "cell_type": "markdown",
   "metadata": {
    "collapsed": false
   },
   "source": [
    "This dataset contains two columns: date and value. The date column is right now still a string type with a format like this: \"Year-Month-Day\". We can convert it into a temporal type column like this:"
   ]
  },
  {
   "cell_type": "code",
   "execution_count": 2,
   "metadata": {
    "collapsed": false,
    "ExecuteTime": {
     "end_time": "2024-05-21T16:15:25.192600300Z",
     "start_time": "2024-05-21T16:15:25.186323200Z"
    }
   },
   "outputs": [
    {
     "data": {
      "text/plain": "+------------+----------+\n| date       |    value |\n| ---        |      --- |\n| date       |      f64 |\n+=======================+\n| 1947-01-01 | 21.48000 |\n| 1947-02-01 | 21.62000 |\n| 1947-03-01 | 22.00000 |\n| 1947-04-01 | 22.00000 |\n| 1947-05-01 | 21.95000 |\n| …          |        … |\n| 1947-11-01 | 23.06000 |\n| 1947-12-01 | 23.41000 |\n| 1948-01-01 | 23.68000 |\n| 1948-02-01 | 23.67000 |\n| 1948-03-01 | 23.50000 |\n+------------+----------+",
      "text/html": "<div><style>\n.dataframe > thead > tr,\n.dataframe > tbody > tr {\n  text-align: right;\n  white-space: pre-wrap;\n}\n</style>\n<small>shape: (15, 2)</small><table border=\"1\" class=\"dataframe\"><thead><tr><th>date</th><th>value</th></tr><tr><td>date</td><td>f64</td></tr></thead><tbody><tr><td>1947-01-01</td><td>21.48</td></tr><tr><td>1947-02-01</td><td>21.62</td></tr><tr><td>1947-03-01</td><td>22.0</td></tr><tr><td>1947-04-01</td><td>22.0</td></tr><tr><td>1947-05-01</td><td>21.95</td></tr><tr><td>&hellip;</td><td>&hellip;</td></tr><tr><td>1947-11-01</td><td>23.06</td></tr><tr><td>1947-12-01</td><td>23.41</td></tr><tr><td>1948-01-01</td><td>23.68</td></tr><tr><td>1948-02-01</td><td>23.67</td></tr><tr><td>1948-03-01</td><td>23.5</td></tr></tbody></table></div>"
     },
     "execution_count": 2,
     "metadata": {},
     "output_type": "execute_result"
    }
   ],
   "source": [
    "inflation = inflation.replace_column(\"date\", [inflation.get_column(\"date\").temporal.from_string(\"%Y-%m-%d\")])\n",
    "inflation.slice_rows(0,15)"
   ]
  },
  {
   "cell_type": "markdown",
   "metadata": {
    "collapsed": false
   },
   "source": [
    "As we can see the date column is no longer in quotes."
   ]
  },
  {
   "cell_type": "markdown",
   "metadata": {
    "collapsed": false
   },
   "source": [
    "2. In the second step we prepare the data, to train our neural network. For that we need to normalize our data, because neural networks work better on values between 0 and 1. After that, we split the data into a training and test set.\n"
   ]
  },
  {
   "cell_type": "code",
   "execution_count": 3,
   "metadata": {
    "collapsed": false,
    "ExecuteTime": {
     "end_time": "2024-05-21T16:15:25.204311600Z",
     "start_time": "2024-05-21T16:15:25.192600300Z"
    }
   },
   "outputs": [],
   "source": [
    "from safeds.data.tabular.transformation import RangeScaler\n",
    "\n",
    "scaler = RangeScaler()\n",
    "trained_scaler, inflation = scaler.fit_and_transform(inflation)\n",
    "train_set, test_set = inflation.split_rows(percentage_in_first=0.8, shuffle=False)"
   ]
  },
  {
   "cell_type": "markdown",
   "metadata": {
    "collapsed": false
   },
   "source": [
    "3. To finish our data preparation we mark the datasets as time series, so they can be used in such context for the neural networks:"
   ]
  },
  {
   "cell_type": "code",
   "execution_count": 4,
   "metadata": {
    "collapsed": false,
    "ExecuteTime": {
     "end_time": "2024-05-21T16:15:25.206318300Z",
     "start_time": "2024-05-21T16:15:25.199379500Z"
    }
   },
   "outputs": [],
   "source": [
    "train_time_series = train_set.to_time_series_dataset(target_name=\"value\", time_name=\"date\", window_size=12, forecast_horizon=1)\n",
    "test_time_series = test_set.to_time_series_dataset(target_name=\"value\", time_name=\"date\", window_size=12, forecast_horizon=1)\n"
   ]
  },
  {
   "cell_type": "markdown",
   "metadata": {
    "collapsed": false
   },
   "source": [
    "If we want to use a neural network to predict what the inflation will be next month, we have to provide it with a relevant chunk of past data that it can learn from. Think of it like looking at a series of snapshots from the past to guess what's going to happen next.\n",
    "\n",
    "Instead of feeding the entire history of inflation data to the neural network all at once, which could be overwhelming and not very helpful, we divide the historical data into smaller, more manageable parts. This technique is known as \"windowing.\"\n",
    "\n",
    "A \"window\" in this context is just a set portion of consecutive data points from the time series. By giving the neural network these windows, it can start to understand how the numbers in the past relate to future values.\n",
    "\n",
    "In our case, we want to look at the last 8 months of inflation data to make a guess about the inflation for the upcoming month. So, we choose a window size of 8. This window will slide across our time series data, providing the neural network with different 8-month segments to learn from.\n",
    "\n",
    "Finally, we tell our neural network that our forecast horizon is 1, meaning that we're interested in predicting the value for just one step ahead—the next month's inflation rate.\n",
    "\n",
    "So, simply put, we set up our neural network to take in 8-month chunks of inflation data to help it make a forecast about the inflation rate for the next month.\n",
    "\n"
   ]
  },
  {
   "cell_type": "code",
   "execution_count": 6,
   "metadata": {
    "collapsed": false,
    "ExecuteTime": {
     "end_time": "2024-05-21T16:16:13.520917300Z",
     "start_time": "2024-05-21T16:16:06.713927300Z"
    }
   },
   "outputs": [
    {
     "name": "stderr",
     "output_type": "stream",
     "text": [
      "C:\\Users\\ettel\\PycharmProjects\\Library\\venv\\Lib\\site-packages\\torch\\utils\\_device.py:78: UserWarning: Using a target size (torch.Size([1, 1, 1])) that is different to the input size (torch.Size([1, 1])). This will likely lead to incorrect results due to broadcasting. Please ensure they have the same size.\n",
      "  return func(*args, **kwargs)\n"
     ]
    }
   ],
   "source": [
    "from safeds.ml.nn import NeuralNetworkRegressor\n",
    "\n",
    "from safeds.ml.nn.converters import (\n",
    "    InputConversionTimeSeries,\n",
    ")\n",
    "from safeds.ml.nn.layers import (\n",
    "    ForwardLayer,\n",
    "    LSTMLayer,\n",
    ")\n",
    "\n",
    "neural_network = NeuralNetworkRegressor(\n",
    "    InputConversionTimeSeries(continuous=False),\n",
    "    [ForwardLayer(input_size=12, output_size=256), LSTMLayer(input_size=256, output_size=1)],\n",
    ")\n",
    "fitted_neural_network = neural_network.fit(train_time_series, epoch_size=5)"
   ]
  },
  {
   "cell_type": "markdown",
   "metadata": {
    "collapsed": false
   },
   "source": [
    "5. Now that we defined and trained our model, we can start making predictions."
   ]
  },
  {
   "cell_type": "code",
   "execution_count": 7,
   "metadata": {
    "collapsed": false,
    "ExecuteTime": {
     "end_time": "2024-05-21T16:16:17.769460600Z",
     "start_time": "2024-05-21T16:16:17.687503900Z"
    }
   },
   "outputs": [
    {
     "data": {
      "text/plain": "+------------+---------+\n| date       |   value |\n| ---        |     --- |\n| date       |     f64 |\n+======================+\n| 2009-04-01 | 0.60582 |\n| 2009-05-01 | 0.60486 |\n| 2009-06-01 | 0.60387 |\n| 2009-07-01 | 0.60183 |\n| 2009-08-01 | 0.59971 |\n| …          |       … |\n| 2010-02-01 | 0.60192 |\n| 2010-03-01 | 0.60304 |\n| 2010-04-01 | 0.60317 |\n| 2010-05-01 | 0.60340 |\n| 2010-06-01 | 0.60469 |\n+------------+---------+",
      "text/html": "<div><style>\n.dataframe > thead > tr,\n.dataframe > tbody > tr {\n  text-align: right;\n  white-space: pre-wrap;\n}\n</style>\n<small>shape: (15, 2)</small><table border=\"1\" class=\"dataframe\"><thead><tr><th>date</th><th>value</th></tr><tr><td>date</td><td>f64</td></tr></thead><tbody><tr><td>2009-04-01</td><td>0.605816</td></tr><tr><td>2009-05-01</td><td>0.60486</td></tr><tr><td>2009-06-01</td><td>0.603875</td></tr><tr><td>2009-07-01</td><td>0.60183</td></tr><tr><td>2009-08-01</td><td>0.599713</td></tr><tr><td>&hellip;</td><td>&hellip;</td></tr><tr><td>2010-02-01</td><td>0.601924</td></tr><tr><td>2010-03-01</td><td>0.603035</td></tr><tr><td>2010-04-01</td><td>0.603165</td></tr><tr><td>2010-05-01</td><td>0.6034</td></tr><tr><td>2010-06-01</td><td>0.60469</td></tr></tbody></table></div>"
     },
     "execution_count": 7,
     "metadata": {},
     "output_type": "execute_result"
    }
   ],
   "source": [
    "prediction = fitted_neural_network.predict(\n",
    "    test_time_series\n",
    ")\n",
    "prediction = prediction.to_table()\n",
    "# For visualisation purposes we only print out the first 15 rows.\n",
    "prediction.slice_rows(start=0, length=15)"
   ]
  },
  {
   "cell_type": "markdown",
   "metadata": {
    "collapsed": false
   },
   "source": [
    "6. Now we only need to inverse our predictions and we can start visualizing them:\n"
   ]
  },
  {
   "cell_type": "code",
   "execution_count": 8,
   "metadata": {
    "collapsed": false,
    "ExecuteTime": {
     "end_time": "2024-05-21T16:16:21.490347600Z",
     "start_time": "2024-05-21T16:16:21.487329600Z"
    }
   },
   "outputs": [],
   "source": [
    "prediction = trained_scaler.inverse_transform(prediction)\n",
    "test_set = trained_scaler.inverse_transform(test_set)\n"
   ]
  },
  {
   "cell_type": "code",
   "outputs": [],
   "source": [
    "preds_with_test = prediction.add_columns([test_set.slice_rows(13).rename_column(\"value\",\"test_value\").get_column(\"test_value\")])"
   ],
   "metadata": {
    "collapsed": false,
    "ExecuteTime": {
     "end_time": "2024-05-21T16:16:48.497620900Z",
     "start_time": "2024-05-21T16:16:48.492198900Z"
    }
   },
   "execution_count": 10
  },
  {
   "cell_type": "code",
   "execution_count": 13,
   "metadata": {
    "collapsed": false,
    "ExecuteTime": {
     "end_time": "2024-05-21T16:17:13.915484400Z",
     "start_time": "2024-05-21T16:17:12.826499200Z"
    }
   },
   "outputs": [
    {
     "data": {
      "text/plain": "<safeds.data.image.containers._image.Image at 0x291d1b5ac50>",
      "image/png": "[encoded data removed]"
     },
     "execution_count": 13,
     "metadata": {},
     "output_type": "execute_result"
    }
   ],
   "source": [
    "preds_with_test.plot.line_plot(\"date\", [\"value\", \"test_value\"])"
   ]
  }
 ],
 "metadata": {
  "kernelspec": {
   "display_name": "Python 3 (ipykernel)",
   "language": "python",
   "name": "python3"
  },
  "language_info": {
   "codemirror_mode": {
    "name": "ipython",
    "version": 3
   },
   "file_extension": ".py",
   "mimetype": "text/x-python",
   "name": "python",
   "nbconvert_exporter": "python",
   "pygments_lexer": "ipython3",
   "version": "3.10.8"
  }
 },
 "nbformat": 4,
 "nbformat_minor": 4
}
