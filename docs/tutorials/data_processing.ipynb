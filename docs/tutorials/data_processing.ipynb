{
 "cells": [
  {
   "cell_type": "markdown",
   "metadata": {
    "collapsed": false
   },
   "source": [
    "# Data Processing\n",
    "\n",
    "This tutorial explains how tabular data can be handled and transformed with the `Table` class.\n",
    "\n",
    "<div class=\"admonition note\">\n",
    "  <p class=\"admonition-title\">Note</p>\n",
    "  <p>\n",
    "    All operations on a <code>Table</code> return a new <code>Table</code>. The original <code>Table</code> will not be changed.\n",
    "  </p>\n",
    "</div>"
   ]
  },
  {
   "cell_type": "markdown",
   "metadata": {
    "collapsed": false
   },
   "source": [
    "### Create & Load data\n",
    "\n",
    "1. Load your data into a `Table`:"
   ]
  },
  {
   "cell_type": "code",
   "execution_count": 1,
   "metadata": {
    "ExecuteTime": {
     "end_time": "2024-05-24T11:02:33.418025600Z",
     "start_time": "2024-05-24T11:02:33.358365Z"
    },
    "collapsed": false
   },
   "outputs": [],
   "source": [
    "from safeds.data.tabular.containers import Table\n",
    "\n",
    "titanic = Table.from_csv_file(\"data/titanic.csv\")"
   ]
  },
  {
   "cell_type": "markdown",
   "metadata": {
    "collapsed": false
   },
   "source": [
    "2. Create a `Table` containing only the first 10 rows:"
   ]
  },
  {
   "cell_type": "code",
   "execution_count": 2,
   "metadata": {
    "ExecuteTime": {
     "end_time": "2024-05-24T11:02:33.426370200Z",
     "start_time": "2024-05-24T11:02:33.419030500Z"
    },
    "collapsed": false
   },
   "outputs": [
    {
     "data": {
      "text/html": [
       "<div><style>\n",
       ".dataframe > thead > tr,\n",
       ".dataframe > tbody > tr {\n",
       "  text-align: right;\n",
       "  white-space: pre-wrap;\n",
       "}\n",
       "</style>\n",
       "<small>shape: (10, 12)</small><table border=\"1\" class=\"dataframe\"><thead><tr><th>id</th><th>name</th><th>sex</th><th>age</th><th>siblings_spouses</th><th>parents_children</th><th>ticket</th><th>travel_class</th><th>fare</th><th>cabin</th><th>port_embarked</th><th>survived</th></tr><tr><td>i64</td><td>str</td><td>str</td><td>f64</td><td>i64</td><td>i64</td><td>str</td><td>i64</td><td>f64</td><td>str</td><td>str</td><td>i64</td></tr></thead><tbody><tr><td>0</td><td>&quot;Abbing, Mr. Anthony&quot;</td><td>&quot;male&quot;</td><td>42.0</td><td>0</td><td>0</td><td>&quot;C.A. 5547&quot;</td><td>3</td><td>7.55</td><td>null</td><td>&quot;Southampton&quot;</td><td>0</td></tr><tr><td>1</td><td>&quot;Abbott, Master. Eugene Joseph&quot;</td><td>&quot;male&quot;</td><td>13.0</td><td>0</td><td>2</td><td>&quot;C.A. 2673&quot;</td><td>3</td><td>20.25</td><td>null</td><td>&quot;Southampton&quot;</td><td>0</td></tr><tr><td>2</td><td>&quot;Abbott, Mr. Rossmore Edward&quot;</td><td>&quot;male&quot;</td><td>16.0</td><td>1</td><td>1</td><td>&quot;C.A. 2673&quot;</td><td>3</td><td>20.25</td><td>null</td><td>&quot;Southampton&quot;</td><td>0</td></tr><tr><td>3</td><td>&quot;Abbott, Mrs. Stanton (Rosa Hun…</td><td>&quot;female&quot;</td><td>35.0</td><td>1</td><td>1</td><td>&quot;C.A. 2673&quot;</td><td>3</td><td>20.25</td><td>null</td><td>&quot;Southampton&quot;</td><td>1</td></tr><tr><td>4</td><td>&quot;Abelseth, Miss. Karen Marie&quot;</td><td>&quot;female&quot;</td><td>16.0</td><td>0</td><td>0</td><td>&quot;348125&quot;</td><td>3</td><td>7.65</td><td>null</td><td>&quot;Southampton&quot;</td><td>1</td></tr><tr><td>5</td><td>&quot;Abelseth, Mr. Olaus Jorgensen&quot;</td><td>&quot;male&quot;</td><td>25.0</td><td>0</td><td>0</td><td>&quot;348122&quot;</td><td>3</td><td>7.65</td><td>&quot;F G63&quot;</td><td>&quot;Southampton&quot;</td><td>1</td></tr><tr><td>6</td><td>&quot;Abelson, Mr. Samuel&quot;</td><td>&quot;male&quot;</td><td>30.0</td><td>1</td><td>0</td><td>&quot;P/PP 3381&quot;</td><td>2</td><td>24.0</td><td>null</td><td>&quot;Cherbourg&quot;</td><td>0</td></tr><tr><td>7</td><td>&quot;Abelson, Mrs. Samuel (Hannah W…</td><td>&quot;female&quot;</td><td>28.0</td><td>1</td><td>0</td><td>&quot;P/PP 3381&quot;</td><td>2</td><td>24.0</td><td>null</td><td>&quot;Cherbourg&quot;</td><td>1</td></tr><tr><td>8</td><td>&quot;Abrahamsson, Mr. Abraham Augus…</td><td>&quot;male&quot;</td><td>20.0</td><td>0</td><td>0</td><td>&quot;SOTON/O2 3101284&quot;</td><td>3</td><td>7.925</td><td>null</td><td>&quot;Southampton&quot;</td><td>1</td></tr><tr><td>9</td><td>&quot;Abrahim, Mrs. Joseph (Sophie H…</td><td>&quot;female&quot;</td><td>18.0</td><td>0</td><td>0</td><td>&quot;2657&quot;</td><td>3</td><td>7.2292</td><td>null</td><td>&quot;Cherbourg&quot;</td><td>1</td></tr></tbody></table></div>"
      ],
      "text/plain": [
       "+-----+----------------------+--------+----------+---+----------+-------+---------------+----------+\n",
       "|  id | name                 | sex    |      age | … |     fare | cabin | port_embarked | survived |\n",
       "| --- | ---                  | ---    |      --- |   |      --- | ---   |           --- |      --- |\n",
       "| i64 | str                  | str    |      f64 |   |      f64 | str   |           str |      i64 |\n",
       "+==================================================================================================+\n",
       "|   0 | Abbing, Mr. Anthony  | male   | 42.00000 | … |  7.55000 | null  |   Southampton |        0 |\n",
       "|   1 | Abbott, Master.      | male   | 13.00000 | … | 20.25000 | null  |   Southampton |        0 |\n",
       "|     | Eugene Joseph        |        |          |   |          |       |               |          |\n",
       "|   2 | Abbott, Mr. Rossmore | male   | 16.00000 | … | 20.25000 | null  |   Southampton |        0 |\n",
       "|     | Edward               |        |          |   |          |       |               |          |\n",
       "|   3 | Abbott, Mrs. Stanton | female | 35.00000 | … | 20.25000 | null  |   Southampton |        1 |\n",
       "|     | (Rosa Hun…           |        |          |   |          |       |               |          |\n",
       "|   4 | Abelseth, Miss.      | female | 16.00000 | … |  7.65000 | null  |   Southampton |        1 |\n",
       "|     | Karen Marie          |        |          |   |          |       |               |          |\n",
       "|   5 | Abelseth, Mr. Olaus  | male   | 25.00000 | … |  7.65000 | F G63 |   Southampton |        1 |\n",
       "|     | Jorgensen            |        |          |   |          |       |               |          |\n",
       "|   6 | Abelson, Mr. Samuel  | male   | 30.00000 | … | 24.00000 | null  |     Cherbourg |        0 |\n",
       "|   7 | Abelson, Mrs. Samuel | female | 28.00000 | … | 24.00000 | null  |     Cherbourg |        1 |\n",
       "|     | (Hannah W…           |        |          |   |          |       |               |          |\n",
       "|   8 | Abrahamsson, Mr.     | male   | 20.00000 | … |  7.92500 | null  |   Southampton |        1 |\n",
       "|     | Abraham Augus…       |        |          |   |          |       |               |          |\n",
       "|   9 | Abrahim, Mrs. Joseph | female | 18.00000 | … |  7.22920 | null  |     Cherbourg |        1 |\n",
       "|     | (Sophie H…           |        |          |   |          |       |               |          |\n",
       "+-----+----------------------+--------+----------+---+----------+-------+---------------+----------+"
      ]
     },
     "execution_count": 2,
     "metadata": {},
     "output_type": "execute_result"
    }
   ],
   "source": [
    "titanic_slice = titanic.slice_rows(length=10)\n",
    "\n",
    "titanic_slice  # just to show the output"
   ]
  },
  {
   "cell_type": "markdown",
   "metadata": {
    "collapsed": false
   },
   "source": [
    "3. Extract a `Column` from your `Table`:"
   ]
  },
  {
   "cell_type": "code",
   "execution_count": 3,
   "metadata": {
    "ExecuteTime": {
     "end_time": "2024-05-24T11:02:33.431877400Z",
     "start_time": "2024-05-24T11:02:33.426370200Z"
    },
    "collapsed": false
   },
   "outputs": [
    {
     "data": {
      "text/html": [
       "<div><style>\n",
       ".dataframe > thead > tr,\n",
       ".dataframe > tbody > tr {\n",
       "  text-align: right;\n",
       "  white-space: pre-wrap;\n",
       "}\n",
       "</style>\n",
       "<small>shape: (10,)</small><table border=\"1\" class=\"dataframe\"><thead><tr><th>name</th></tr><tr><td>str</td></tr></thead><tbody><tr><td>&quot;Abbing, Mr. Anthony&quot;</td></tr><tr><td>&quot;Abbott, Master. Eugene Joseph&quot;</td></tr><tr><td>&quot;Abbott, Mr. Rossmore Edward&quot;</td></tr><tr><td>&quot;Abbott, Mrs. Stanton (Rosa Hun…</td></tr><tr><td>&quot;Abelseth, Miss. Karen Marie&quot;</td></tr><tr><td>&quot;Abelseth, Mr. Olaus Jorgensen&quot;</td></tr><tr><td>&quot;Abelson, Mr. Samuel&quot;</td></tr><tr><td>&quot;Abelson, Mrs. Samuel (Hannah W…</td></tr><tr><td>&quot;Abrahamsson, Mr. Abraham Augus…</td></tr><tr><td>&quot;Abrahim, Mrs. Joseph (Sophie H…</td></tr></tbody></table></div>"
      ],
      "text/plain": [
       "+---------------------------------+\n",
       "| name                            |\n",
       "| ---                             |\n",
       "| str                             |\n",
       "+=================================+\n",
       "| Abbing, Mr. Anthony             |\n",
       "| Abbott, Master. Eugene Joseph   |\n",
       "| Abbott, Mr. Rossmore Edward     |\n",
       "| Abbott, Mrs. Stanton (Rosa Hun… |\n",
       "| Abelseth, Miss. Karen Marie     |\n",
       "| Abelseth, Mr. Olaus Jorgensen   |\n",
       "| Abelson, Mr. Samuel             |\n",
       "| Abelson, Mrs. Samuel (Hannah W… |\n",
       "| Abrahamsson, Mr. Abraham Augus… |\n",
       "| Abrahim, Mrs. Joseph (Sophie H… |\n",
       "+---------------------------------+"
      ]
     },
     "execution_count": 3,
     "metadata": {},
     "output_type": "execute_result"
    }
   ],
   "source": [
    "titanic_slice.get_column(\"name\")"
   ]
  },
  {
   "cell_type": "markdown",
   "metadata": {
    "collapsed": false
   },
   "source": [
    "4. Combine a list of `Column`s to a `Table` (make sure the `Column`s have the same amount of rows):"
   ]
  },
  {
   "cell_type": "code",
   "execution_count": 4,
   "metadata": {
    "ExecuteTime": {
     "end_time": "2024-05-24T11:02:33.436929600Z",
     "start_time": "2024-05-24T11:02:33.430880700Z"
    },
    "collapsed": false
   },
   "outputs": [
    {
     "data": {
      "text/html": [
       "<div><style>\n",
       ".dataframe > thead > tr,\n",
       ".dataframe > tbody > tr {\n",
       "  text-align: right;\n",
       "  white-space: pre-wrap;\n",
       "}\n",
       "</style>\n",
       "<small>shape: (10, 2)</small><table border=\"1\" class=\"dataframe\"><thead><tr><th>name</th><th>age</th></tr><tr><td>str</td><td>f64</td></tr></thead><tbody><tr><td>&quot;Abbing, Mr. Anthony&quot;</td><td>42.0</td></tr><tr><td>&quot;Abbott, Master. Eugene Joseph&quot;</td><td>13.0</td></tr><tr><td>&quot;Abbott, Mr. Rossmore Edward&quot;</td><td>16.0</td></tr><tr><td>&quot;Abbott, Mrs. Stanton (Rosa Hun…</td><td>35.0</td></tr><tr><td>&quot;Abelseth, Miss. Karen Marie&quot;</td><td>16.0</td></tr><tr><td>&quot;Abelseth, Mr. Olaus Jorgensen&quot;</td><td>25.0</td></tr><tr><td>&quot;Abelson, Mr. Samuel&quot;</td><td>30.0</td></tr><tr><td>&quot;Abelson, Mrs. Samuel (Hannah W…</td><td>28.0</td></tr><tr><td>&quot;Abrahamsson, Mr. Abraham Augus…</td><td>20.0</td></tr><tr><td>&quot;Abrahim, Mrs. Joseph (Sophie H…</td><td>18.0</td></tr></tbody></table></div>"
      ],
      "text/plain": [
       "+---------------------------------+----------+\n",
       "| name                            |      age |\n",
       "| ---                             |      --- |\n",
       "| str                             |      f64 |\n",
       "+============================================+\n",
       "| Abbing, Mr. Anthony             | 42.00000 |\n",
       "| Abbott, Master. Eugene Joseph   | 13.00000 |\n",
       "| Abbott, Mr. Rossmore Edward     | 16.00000 |\n",
       "| Abbott, Mrs. Stanton (Rosa Hun… | 35.00000 |\n",
       "| Abelseth, Miss. Karen Marie     | 16.00000 |\n",
       "| Abelseth, Mr. Olaus Jorgensen   | 25.00000 |\n",
       "| Abelson, Mr. Samuel             | 30.00000 |\n",
       "| Abelson, Mrs. Samuel (Hannah W… | 28.00000 |\n",
       "| Abrahamsson, Mr. Abraham Augus… | 20.00000 |\n",
       "| Abrahim, Mrs. Joseph (Sophie H… | 18.00000 |\n",
       "+---------------------------------+----------+"
      ]
     },
     "execution_count": 4,
     "metadata": {},
     "output_type": "execute_result"
    }
   ],
   "source": [
    "Table.from_columns(\n",
    "    [\n",
    "        titanic_slice.get_column(\"name\"),\n",
    "        titanic_slice.get_column(\"age\"),\n",
    "    ],\n",
    ")"
   ]
  },
  {
   "cell_type": "markdown",
   "metadata": {
    "collapsed": false
   },
   "source": [
    "5. Drop columns from a `Table`:"
   ]
  },
  {
   "cell_type": "code",
   "execution_count": 5,
   "metadata": {
    "ExecuteTime": {
     "end_time": "2024-05-24T11:02:33.457085600Z",
     "start_time": "2024-05-24T11:02:33.436929600Z"
    },
    "collapsed": false
   },
   "outputs": [
    {
     "data": {
      "text/html": [
       "<div><style>\n",
       ".dataframe > thead > tr,\n",
       ".dataframe > tbody > tr {\n",
       "  text-align: right;\n",
       "  white-space: pre-wrap;\n",
       "}\n",
       "</style>\n",
       "<small>shape: (10, 6)</small><table border=\"1\" class=\"dataframe\"><thead><tr><th>sex</th><th>age</th><th>siblings_spouses</th><th>parents_children</th><th>travel_class</th><th>fare</th></tr><tr><td>str</td><td>f64</td><td>i64</td><td>i64</td><td>i64</td><td>f64</td></tr></thead><tbody><tr><td>&quot;male&quot;</td><td>42.0</td><td>0</td><td>0</td><td>3</td><td>7.55</td></tr><tr><td>&quot;male&quot;</td><td>13.0</td><td>0</td><td>2</td><td>3</td><td>20.25</td></tr><tr><td>&quot;male&quot;</td><td>16.0</td><td>1</td><td>1</td><td>3</td><td>20.25</td></tr><tr><td>&quot;female&quot;</td><td>35.0</td><td>1</td><td>1</td><td>3</td><td>20.25</td></tr><tr><td>&quot;female&quot;</td><td>16.0</td><td>0</td><td>0</td><td>3</td><td>7.65</td></tr><tr><td>&quot;male&quot;</td><td>25.0</td><td>0</td><td>0</td><td>3</td><td>7.65</td></tr><tr><td>&quot;male&quot;</td><td>30.0</td><td>1</td><td>0</td><td>2</td><td>24.0</td></tr><tr><td>&quot;female&quot;</td><td>28.0</td><td>1</td><td>0</td><td>2</td><td>24.0</td></tr><tr><td>&quot;male&quot;</td><td>20.0</td><td>0</td><td>0</td><td>3</td><td>7.925</td></tr><tr><td>&quot;female&quot;</td><td>18.0</td><td>0</td><td>0</td><td>3</td><td>7.2292</td></tr></tbody></table></div>"
      ],
      "text/plain": [
       "+--------+----------+------------------+------------------+--------------+----------+\n",
       "| sex    |      age | siblings_spouses | parents_children | travel_class |     fare |\n",
       "| ---    |      --- |              --- |              --- |          --- |      --- |\n",
       "| str    |      f64 |              i64 |              i64 |          i64 |      f64 |\n",
       "+===================================================================================+\n",
       "| male   | 42.00000 |                0 |                0 |            3 |  7.55000 |\n",
       "| male   | 13.00000 |                0 |                2 |            3 | 20.25000 |\n",
       "| male   | 16.00000 |                1 |                1 |            3 | 20.25000 |\n",
       "| female | 35.00000 |                1 |                1 |            3 | 20.25000 |\n",
       "| female | 16.00000 |                0 |                0 |            3 |  7.65000 |\n",
       "| male   | 25.00000 |                0 |                0 |            3 |  7.65000 |\n",
       "| male   | 30.00000 |                1 |                0 |            2 | 24.00000 |\n",
       "| female | 28.00000 |                1 |                0 |            2 | 24.00000 |\n",
       "| male   | 20.00000 |                0 |                0 |            3 |  7.92500 |\n",
       "| female | 18.00000 |                0 |                0 |            3 |  7.22920 |\n",
       "+--------+----------+------------------+------------------+--------------+----------+"
      ]
     },
     "execution_count": 5,
     "metadata": {},
     "output_type": "execute_result"
    }
   ],
   "source": [
    "titanic_slice.remove_columns(\n",
    "    [\n",
    "        \"id\",\n",
    "        \"name\",\n",
    "        \"ticket\",\n",
    "        \"cabin\",\n",
    "        \"port_embarked\",\n",
    "        \"survived\",\n",
    "    ],\n",
    ")"
   ]
  },
  {
   "cell_type": "markdown",
   "metadata": {
    "collapsed": false
   },
   "source": [
    "6. Keep only specified columns of a `Table`:"
   ]
  },
  {
   "cell_type": "code",
   "execution_count": 6,
   "metadata": {
    "ExecuteTime": {
     "end_time": "2024-05-24T11:02:33.458084900Z",
     "start_time": "2024-05-24T11:02:33.441438800Z"
    },
    "collapsed": false
   },
   "outputs": [
    {
     "data": {
      "text/html": [
       "<div><style>\n",
       ".dataframe > thead > tr,\n",
       ".dataframe > tbody > tr {\n",
       "  text-align: right;\n",
       "  white-space: pre-wrap;\n",
       "}\n",
       "</style>\n",
       "<small>shape: (10, 2)</small><table border=\"1\" class=\"dataframe\"><thead><tr><th>name</th><th>survived</th></tr><tr><td>str</td><td>i64</td></tr></thead><tbody><tr><td>&quot;Abbing, Mr. Anthony&quot;</td><td>0</td></tr><tr><td>&quot;Abbott, Master. Eugene Joseph&quot;</td><td>0</td></tr><tr><td>&quot;Abbott, Mr. Rossmore Edward&quot;</td><td>0</td></tr><tr><td>&quot;Abbott, Mrs. Stanton (Rosa Hun…</td><td>1</td></tr><tr><td>&quot;Abelseth, Miss. Karen Marie&quot;</td><td>1</td></tr><tr><td>&quot;Abelseth, Mr. Olaus Jorgensen&quot;</td><td>1</td></tr><tr><td>&quot;Abelson, Mr. Samuel&quot;</td><td>0</td></tr><tr><td>&quot;Abelson, Mrs. Samuel (Hannah W…</td><td>1</td></tr><tr><td>&quot;Abrahamsson, Mr. Abraham Augus…</td><td>1</td></tr><tr><td>&quot;Abrahim, Mrs. Joseph (Sophie H…</td><td>1</td></tr></tbody></table></div>"
      ],
      "text/plain": [
       "+---------------------------------+----------+\n",
       "| name                            | survived |\n",
       "| ---                             |      --- |\n",
       "| str                             |      i64 |\n",
       "+============================================+\n",
       "| Abbing, Mr. Anthony             |        0 |\n",
       "| Abbott, Master. Eugene Joseph   |        0 |\n",
       "| Abbott, Mr. Rossmore Edward     |        0 |\n",
       "| Abbott, Mrs. Stanton (Rosa Hun… |        1 |\n",
       "| Abelseth, Miss. Karen Marie     |        1 |\n",
       "| Abelseth, Mr. Olaus Jorgensen   |        1 |\n",
       "| Abelson, Mr. Samuel             |        0 |\n",
       "| Abelson, Mrs. Samuel (Hannah W… |        1 |\n",
       "| Abrahamsson, Mr. Abraham Augus… |        1 |\n",
       "| Abrahim, Mrs. Joseph (Sophie H… |        1 |\n",
       "+---------------------------------+----------+"
      ]
     },
     "execution_count": 6,
     "metadata": {},
     "output_type": "execute_result"
    }
   ],
   "source": [
    "titanic_slice.select_columns([\"name\", \"survived\"])"
   ]
  },
  {
   "cell_type": "markdown",
   "metadata": {
    "collapsed": false
   },
   "source": [
    "## Process data\n",
    "\n",
    "1. Filter rows with a given query:"
   ]
  },
  {
   "cell_type": "code",
   "execution_count": 7,
   "metadata": {
    "ExecuteTime": {
     "end_time": "2024-05-24T11:02:33.502602800Z",
     "start_time": "2024-05-24T11:02:33.446034800Z"
    },
    "collapsed": false
   },
   "outputs": [
    {
     "data": {
      "text/html": [
       "<div><style>\n",
       ".dataframe > thead > tr,\n",
       ".dataframe > tbody > tr {\n",
       "  text-align: right;\n",
       "  white-space: pre-wrap;\n",
       "}\n",
       "</style>\n",
       "<small>shape: (1_034, 12)</small><table border=\"1\" class=\"dataframe\"><thead><tr><th>id</th><th>name</th><th>sex</th><th>age</th><th>siblings_spouses</th><th>parents_children</th><th>ticket</th><th>travel_class</th><th>fare</th><th>cabin</th><th>port_embarked</th><th>survived</th></tr><tr><td>i64</td><td>str</td><td>str</td><td>f64</td><td>i64</td><td>i64</td><td>str</td><td>i64</td><td>f64</td><td>str</td><td>str</td><td>i64</td></tr></thead><tbody><tr><td>0</td><td>&quot;Abbing, Mr. Anthony&quot;</td><td>&quot;male&quot;</td><td>42.0</td><td>0</td><td>0</td><td>&quot;C.A. 5547&quot;</td><td>3</td><td>7.55</td><td>null</td><td>&quot;Southampton&quot;</td><td>0</td></tr><tr><td>1</td><td>&quot;Abbott, Master. Eugene Joseph&quot;</td><td>&quot;male&quot;</td><td>13.0</td><td>0</td><td>2</td><td>&quot;C.A. 2673&quot;</td><td>3</td><td>20.25</td><td>null</td><td>&quot;Southampton&quot;</td><td>0</td></tr><tr><td>2</td><td>&quot;Abbott, Mr. Rossmore Edward&quot;</td><td>&quot;male&quot;</td><td>16.0</td><td>1</td><td>1</td><td>&quot;C.A. 2673&quot;</td><td>3</td><td>20.25</td><td>null</td><td>&quot;Southampton&quot;</td><td>0</td></tr><tr><td>3</td><td>&quot;Abbott, Mrs. Stanton (Rosa Hun…</td><td>&quot;female&quot;</td><td>35.0</td><td>1</td><td>1</td><td>&quot;C.A. 2673&quot;</td><td>3</td><td>20.25</td><td>null</td><td>&quot;Southampton&quot;</td><td>1</td></tr><tr><td>4</td><td>&quot;Abelseth, Miss. Karen Marie&quot;</td><td>&quot;female&quot;</td><td>16.0</td><td>0</td><td>0</td><td>&quot;348125&quot;</td><td>3</td><td>7.65</td><td>null</td><td>&quot;Southampton&quot;</td><td>1</td></tr><tr><td>&hellip;</td><td>&hellip;</td><td>&hellip;</td><td>&hellip;</td><td>&hellip;</td><td>&hellip;</td><td>&hellip;</td><td>&hellip;</td><td>&hellip;</td><td>&hellip;</td><td>&hellip;</td><td>&hellip;</td></tr><tr><td>1303</td><td>&quot;Yrois, Miss. Henriette (&#x27;Mrs H…</td><td>&quot;female&quot;</td><td>24.0</td><td>0</td><td>0</td><td>&quot;248747&quot;</td><td>2</td><td>13.0</td><td>null</td><td>&quot;Southampton&quot;</td><td>0</td></tr><tr><td>1304</td><td>&quot;Zabour, Miss. Hileni&quot;</td><td>&quot;female&quot;</td><td>14.5</td><td>1</td><td>0</td><td>&quot;2665&quot;</td><td>3</td><td>14.4542</td><td>null</td><td>&quot;Cherbourg&quot;</td><td>0</td></tr><tr><td>1306</td><td>&quot;Zakarian, Mr. Mapriededer&quot;</td><td>&quot;male&quot;</td><td>26.5</td><td>0</td><td>0</td><td>&quot;2656&quot;</td><td>3</td><td>7.225</td><td>null</td><td>&quot;Cherbourg&quot;</td><td>0</td></tr><tr><td>1307</td><td>&quot;Zakarian, Mr. Ortin&quot;</td><td>&quot;male&quot;</td><td>27.0</td><td>0</td><td>0</td><td>&quot;2670&quot;</td><td>3</td><td>7.225</td><td>null</td><td>&quot;Cherbourg&quot;</td><td>0</td></tr><tr><td>1308</td><td>&quot;Zimmerman, Mr. Leo&quot;</td><td>&quot;male&quot;</td><td>29.0</td><td>0</td><td>0</td><td>&quot;315082&quot;</td><td>3</td><td>7.875</td><td>null</td><td>&quot;Southampton&quot;</td><td>0</td></tr></tbody></table></div>"
      ],
      "text/plain": [
       "+------+---------------------+--------+----------+---+----------+-------+---------------+----------+\n",
       "|   id | name                | sex    |      age | … |     fare | cabin | port_embarked | survived |\n",
       "|  --- | ---                 | ---    |      --- |   |      --- | ---   |           --- |      --- |\n",
       "|  i64 | str                 | str    |      f64 |   |      f64 | str   |           str |      i64 |\n",
       "+==================================================================================================+\n",
       "|    0 | Abbing, Mr. Anthony | male   | 42.00000 | … |  7.55000 | null  |   Southampton |        0 |\n",
       "|    1 | Abbott, Master.     | male   | 13.00000 | … | 20.25000 | null  |   Southampton |        0 |\n",
       "|      | Eugene Joseph       |        |          |   |          |       |               |          |\n",
       "|    2 | Abbott, Mr.         | male   | 16.00000 | … | 20.25000 | null  |   Southampton |        0 |\n",
       "|      | Rossmore Edward     |        |          |   |          |       |               |          |\n",
       "|    3 | Abbott, Mrs.        | female | 35.00000 | … | 20.25000 | null  |   Southampton |        1 |\n",
       "|      | Stanton (Rosa Hun…  |        |          |   |          |       |               |          |\n",
       "|    4 | Abelseth, Miss.     | female | 16.00000 | … |  7.65000 | null  |   Southampton |        1 |\n",
       "|      | Karen Marie         |        |          |   |          |       |               |          |\n",
       "|    … | …                   | …      |        … | … |        … | …     |             … |        … |\n",
       "| 1303 | Yrois, Miss.        | female | 24.00000 | … | 13.00000 | null  |   Southampton |        0 |\n",
       "|      | Henriette ('Mrs H…  |        |          |   |          |       |               |          |\n",
       "| 1304 | Zabour, Miss.       | female | 14.50000 | … | 14.45420 | null  |     Cherbourg |        0 |\n",
       "|      | Hileni              |        |          |   |          |       |               |          |\n",
       "| 1306 | Zakarian, Mr.       | male   | 26.50000 | … |  7.22500 | null  |     Cherbourg |        0 |\n",
       "|      | Mapriededer         |        |          |   |          |       |               |          |\n",
       "| 1307 | Zakarian, Mr. Ortin | male   | 27.00000 | … |  7.22500 | null  |     Cherbourg |        0 |\n",
       "| 1308 | Zimmerman, Mr. Leo  | male   | 29.00000 | … |  7.87500 | null  |   Southampton |        0 |\n",
       "+------+---------------------+--------+----------+---+----------+-------+---------------+----------+"
      ]
     },
     "execution_count": 7,
     "metadata": {},
     "output_type": "execute_result"
    }
   ],
   "source": [
    "titanic.remove_rows(\n",
    "    lambda row: row[\"age\"] < 1,\n",
    ")"
   ]
  },
  {
   "cell_type": "markdown",
   "metadata": {
    "collapsed": false
   },
   "source": [
    "## Transform table\n",
    "1. Transform table using `Imputer`. `Imputer`s replace missing values with other values (e.g. a constant, the mean or the median of the column etc.) depending on the chosen startegy, for example, the following `Imputer` will replace missing values in the given columns of the table with the constant 0:"
   ]
  },
  {
   "cell_type": "code",
   "execution_count": 8,
   "metadata": {
    "ExecuteTime": {
     "end_time": "2024-05-24T11:02:33.520628800Z",
     "start_time": "2024-05-24T11:02:33.453086900Z"
    },
    "collapsed": false
   },
   "outputs": [
    {
     "data": {
      "text/html": [
       "<div><style>\n",
       ".dataframe > thead > tr,\n",
       ".dataframe > tbody > tr {\n",
       "  text-align: right;\n",
       "  white-space: pre-wrap;\n",
       "}\n",
       "</style>\n",
       "<small>shape: (10, 12)</small><table border=\"1\" class=\"dataframe\"><thead><tr><th>id</th><th>name</th><th>sex</th><th>age</th><th>siblings_spouses</th><th>parents_children</th><th>ticket</th><th>travel_class</th><th>fare</th><th>cabin</th><th>port_embarked</th><th>survived</th></tr><tr><td>i64</td><td>str</td><td>str</td><td>f64</td><td>i64</td><td>i64</td><td>str</td><td>i64</td><td>f64</td><td>str</td><td>str</td><td>i64</td></tr></thead><tbody><tr><td>0</td><td>&quot;Abbing, Mr. Anthony&quot;</td><td>&quot;male&quot;</td><td>42.0</td><td>0</td><td>0</td><td>&quot;C.A. 5547&quot;</td><td>3</td><td>7.55</td><td>&quot;0&quot;</td><td>&quot;Southampton&quot;</td><td>0</td></tr><tr><td>1</td><td>&quot;Abbott, Master. Eugene Joseph&quot;</td><td>&quot;male&quot;</td><td>13.0</td><td>0</td><td>2</td><td>&quot;C.A. 2673&quot;</td><td>3</td><td>20.25</td><td>&quot;0&quot;</td><td>&quot;Southampton&quot;</td><td>0</td></tr><tr><td>2</td><td>&quot;Abbott, Mr. Rossmore Edward&quot;</td><td>&quot;male&quot;</td><td>16.0</td><td>1</td><td>1</td><td>&quot;C.A. 2673&quot;</td><td>3</td><td>20.25</td><td>&quot;0&quot;</td><td>&quot;Southampton&quot;</td><td>0</td></tr><tr><td>3</td><td>&quot;Abbott, Mrs. Stanton (Rosa Hun…</td><td>&quot;female&quot;</td><td>35.0</td><td>1</td><td>1</td><td>&quot;C.A. 2673&quot;</td><td>3</td><td>20.25</td><td>&quot;0&quot;</td><td>&quot;Southampton&quot;</td><td>1</td></tr><tr><td>4</td><td>&quot;Abelseth, Miss. Karen Marie&quot;</td><td>&quot;female&quot;</td><td>16.0</td><td>0</td><td>0</td><td>&quot;348125&quot;</td><td>3</td><td>7.65</td><td>&quot;0&quot;</td><td>&quot;Southampton&quot;</td><td>1</td></tr><tr><td>5</td><td>&quot;Abelseth, Mr. Olaus Jorgensen&quot;</td><td>&quot;male&quot;</td><td>25.0</td><td>0</td><td>0</td><td>&quot;348122&quot;</td><td>3</td><td>7.65</td><td>&quot;F G63&quot;</td><td>&quot;Southampton&quot;</td><td>1</td></tr><tr><td>6</td><td>&quot;Abelson, Mr. Samuel&quot;</td><td>&quot;male&quot;</td><td>30.0</td><td>1</td><td>0</td><td>&quot;P/PP 3381&quot;</td><td>2</td><td>24.0</td><td>&quot;0&quot;</td><td>&quot;Cherbourg&quot;</td><td>0</td></tr><tr><td>7</td><td>&quot;Abelson, Mrs. Samuel (Hannah W…</td><td>&quot;female&quot;</td><td>28.0</td><td>1</td><td>0</td><td>&quot;P/PP 3381&quot;</td><td>2</td><td>24.0</td><td>&quot;0&quot;</td><td>&quot;Cherbourg&quot;</td><td>1</td></tr><tr><td>8</td><td>&quot;Abrahamsson, Mr. Abraham Augus…</td><td>&quot;male&quot;</td><td>20.0</td><td>0</td><td>0</td><td>&quot;SOTON/O2 3101284&quot;</td><td>3</td><td>7.925</td><td>&quot;0&quot;</td><td>&quot;Southampton&quot;</td><td>1</td></tr><tr><td>9</td><td>&quot;Abrahim, Mrs. Joseph (Sophie H…</td><td>&quot;female&quot;</td><td>18.0</td><td>0</td><td>0</td><td>&quot;2657&quot;</td><td>3</td><td>7.2292</td><td>&quot;0&quot;</td><td>&quot;Cherbourg&quot;</td><td>1</td></tr></tbody></table></div>"
      ],
      "text/plain": [
       "+-----+----------------------+--------+----------+---+----------+-------+---------------+----------+\n",
       "|  id | name                 | sex    |      age | … |     fare | cabin | port_embarked | survived |\n",
       "| --- | ---                  | ---    |      --- |   |      --- | ---   |           --- |      --- |\n",
       "| i64 | str                  | str    |      f64 |   |      f64 | str   |           str |      i64 |\n",
       "+==================================================================================================+\n",
       "|   0 | Abbing, Mr. Anthony  | male   | 42.00000 | … |  7.55000 | 0     |   Southampton |        0 |\n",
       "|   1 | Abbott, Master.      | male   | 13.00000 | … | 20.25000 | 0     |   Southampton |        0 |\n",
       "|     | Eugene Joseph        |        |          |   |          |       |               |          |\n",
       "|   2 | Abbott, Mr. Rossmore | male   | 16.00000 | … | 20.25000 | 0     |   Southampton |        0 |\n",
       "|     | Edward               |        |          |   |          |       |               |          |\n",
       "|   3 | Abbott, Mrs. Stanton | female | 35.00000 | … | 20.25000 | 0     |   Southampton |        1 |\n",
       "|     | (Rosa Hun…           |        |          |   |          |       |               |          |\n",
       "|   4 | Abelseth, Miss.      | female | 16.00000 | … |  7.65000 | 0     |   Southampton |        1 |\n",
       "|     | Karen Marie          |        |          |   |          |       |               |          |\n",
       "|   5 | Abelseth, Mr. Olaus  | male   | 25.00000 | … |  7.65000 | F G63 |   Southampton |        1 |\n",
       "|     | Jorgensen            |        |          |   |          |       |               |          |\n",
       "|   6 | Abelson, Mr. Samuel  | male   | 30.00000 | … | 24.00000 | 0     |     Cherbourg |        0 |\n",
       "|   7 | Abelson, Mrs. Samuel | female | 28.00000 | … | 24.00000 | 0     |     Cherbourg |        1 |\n",
       "|     | (Hannah W…           |        |          |   |          |       |               |          |\n",
       "|   8 | Abrahamsson, Mr.     | male   | 20.00000 | … |  7.92500 | 0     |   Southampton |        1 |\n",
       "|     | Abraham Augus…       |        |          |   |          |       |               |          |\n",
       "|   9 | Abrahim, Mrs. Joseph | female | 18.00000 | … |  7.22920 | 0     |     Cherbourg |        1 |\n",
       "|     | (Sophie H…           |        |          |   |          |       |               |          |\n",
       "+-----+----------------------+--------+----------+---+----------+-------+---------------+----------+"
      ]
     },
     "execution_count": 8,
     "metadata": {},
     "output_type": "execute_result"
    }
   ],
   "source": [
    "from safeds.data.tabular.transformation import SimpleImputer\n",
    "\n",
    "imputer = SimpleImputer(SimpleImputer.Strategy.constant(0), column_names=[\"age\", \"fare\", \"cabin\", \"port_embarked\"]).fit(\n",
    "    titanic,\n",
    ")\n",
    "imputer.transform(titanic_slice)"
   ]
  },
  {
   "cell_type": "markdown",
   "metadata": {
    "collapsed": false
   },
   "source": [
    "2. Transform table using `LabelEncoder`, this will encode categorical features in the chosen `Column`s as integers:"
   ]
  },
  {
   "cell_type": "code",
   "execution_count": 9,
   "metadata": {
    "ExecuteTime": {
     "end_time": "2024-05-24T11:02:33.584654300Z",
     "start_time": "2024-05-24T11:02:33.461597400Z"
    },
    "collapsed": false
   },
   "outputs": [
    {
     "data": {
      "text/html": [
       "<div><style>\n",
       ".dataframe > thead > tr,\n",
       ".dataframe > tbody > tr {\n",
       "  text-align: right;\n",
       "  white-space: pre-wrap;\n",
       "}\n",
       "</style>\n",
       "<small>shape: (10, 12)</small><table border=\"1\" class=\"dataframe\"><thead><tr><th>id</th><th>name</th><th>sex</th><th>age</th><th>siblings_spouses</th><th>parents_children</th><th>ticket</th><th>travel_class</th><th>fare</th><th>cabin</th><th>port_embarked</th><th>survived</th></tr><tr><td>i64</td><td>str</td><td>u32</td><td>f64</td><td>i64</td><td>i64</td><td>str</td><td>i64</td><td>f64</td><td>str</td><td>u32</td><td>i64</td></tr></thead><tbody><tr><td>0</td><td>&quot;Abbing, Mr. Anthony&quot;</td><td>0</td><td>42.0</td><td>0</td><td>0</td><td>&quot;C.A. 5547&quot;</td><td>3</td><td>7.55</td><td>null</td><td>0</td><td>0</td></tr><tr><td>1</td><td>&quot;Abbott, Master. Eugene Joseph&quot;</td><td>0</td><td>13.0</td><td>0</td><td>2</td><td>&quot;C.A. 2673&quot;</td><td>3</td><td>20.25</td><td>null</td><td>0</td><td>0</td></tr><tr><td>2</td><td>&quot;Abbott, Mr. Rossmore Edward&quot;</td><td>0</td><td>16.0</td><td>1</td><td>1</td><td>&quot;C.A. 2673&quot;</td><td>3</td><td>20.25</td><td>null</td><td>0</td><td>0</td></tr><tr><td>3</td><td>&quot;Abbott, Mrs. Stanton (Rosa Hun…</td><td>1</td><td>35.0</td><td>1</td><td>1</td><td>&quot;C.A. 2673&quot;</td><td>3</td><td>20.25</td><td>null</td><td>0</td><td>1</td></tr><tr><td>4</td><td>&quot;Abelseth, Miss. Karen Marie&quot;</td><td>1</td><td>16.0</td><td>0</td><td>0</td><td>&quot;348125&quot;</td><td>3</td><td>7.65</td><td>null</td><td>0</td><td>1</td></tr><tr><td>5</td><td>&quot;Abelseth, Mr. Olaus Jorgensen&quot;</td><td>0</td><td>25.0</td><td>0</td><td>0</td><td>&quot;348122&quot;</td><td>3</td><td>7.65</td><td>&quot;F G63&quot;</td><td>0</td><td>1</td></tr><tr><td>6</td><td>&quot;Abelson, Mr. Samuel&quot;</td><td>0</td><td>30.0</td><td>1</td><td>0</td><td>&quot;P/PP 3381&quot;</td><td>2</td><td>24.0</td><td>null</td><td>1</td><td>0</td></tr><tr><td>7</td><td>&quot;Abelson, Mrs. Samuel (Hannah W…</td><td>1</td><td>28.0</td><td>1</td><td>0</td><td>&quot;P/PP 3381&quot;</td><td>2</td><td>24.0</td><td>null</td><td>1</td><td>1</td></tr><tr><td>8</td><td>&quot;Abrahamsson, Mr. Abraham Augus…</td><td>0</td><td>20.0</td><td>0</td><td>0</td><td>&quot;SOTON/O2 3101284&quot;</td><td>3</td><td>7.925</td><td>null</td><td>0</td><td>1</td></tr><tr><td>9</td><td>&quot;Abrahim, Mrs. Joseph (Sophie H…</td><td>1</td><td>18.0</td><td>0</td><td>0</td><td>&quot;2657&quot;</td><td>3</td><td>7.2292</td><td>null</td><td>1</td><td>1</td></tr></tbody></table></div>"
      ],
      "text/plain": [
       "+-----+-------------------------+-----+----------+---+----------+-------+---------------+----------+\n",
       "|  id | name                    | sex |      age | … |     fare | cabin | port_embarked | survived |\n",
       "| --- | ---                     | --- |      --- |   |      --- | ---   |           --- |      --- |\n",
       "| i64 | str                     | u32 |      f64 |   |      f64 | str   |           u32 |      i64 |\n",
       "+==================================================================================================+\n",
       "|   0 | Abbing, Mr. Anthony     |   0 | 42.00000 | … |  7.55000 | null  |             0 |        0 |\n",
       "|   1 | Abbott, Master. Eugene  |   0 | 13.00000 | … | 20.25000 | null  |             0 |        0 |\n",
       "|     | Joseph                  |     |          |   |          |       |               |          |\n",
       "|   2 | Abbott, Mr. Rossmore    |   0 | 16.00000 | … | 20.25000 | null  |             0 |        0 |\n",
       "|     | Edward                  |     |          |   |          |       |               |          |\n",
       "|   3 | Abbott, Mrs. Stanton    |   1 | 35.00000 | … | 20.25000 | null  |             0 |        1 |\n",
       "|     | (Rosa Hun…              |     |          |   |          |       |               |          |\n",
       "|   4 | Abelseth, Miss. Karen   |   1 | 16.00000 | … |  7.65000 | null  |             0 |        1 |\n",
       "|     | Marie                   |     |          |   |          |       |               |          |\n",
       "|   5 | Abelseth, Mr. Olaus     |   0 | 25.00000 | … |  7.65000 | F G63 |             0 |        1 |\n",
       "|     | Jorgensen               |     |          |   |          |       |               |          |\n",
       "|   6 | Abelson, Mr. Samuel     |   0 | 30.00000 | … | 24.00000 | null  |             1 |        0 |\n",
       "|   7 | Abelson, Mrs. Samuel    |   1 | 28.00000 | … | 24.00000 | null  |             1 |        1 |\n",
       "|     | (Hannah W…              |     |          |   |          |       |               |          |\n",
       "|   8 | Abrahamsson, Mr.        |   0 | 20.00000 | … |  7.92500 | null  |             0 |        1 |\n",
       "|     | Abraham Augus…          |     |          |   |          |       |               |          |\n",
       "|   9 | Abrahim, Mrs. Joseph    |   1 | 18.00000 | … |  7.22920 | null  |             1 |        1 |\n",
       "|     | (Sophie H…              |     |          |   |          |       |               |          |\n",
       "+-----+-------------------------+-----+----------+---+----------+-------+---------------+----------+"
      ]
     },
     "execution_count": 9,
     "metadata": {},
     "output_type": "execute_result"
    }
   ],
   "source": [
    "from safeds.data.tabular.transformation import LabelEncoder\n",
    "\n",
    "encoder = LabelEncoder(column_names=[\"sex\", \"port_embarked\"]).fit(titanic)\n",
    "encoder.transform(titanic_slice)"
   ]
  },
  {
   "cell_type": "markdown",
   "metadata": {
    "collapsed": false
   },
   "source": [
    "3. Transform table using `OneHotEncoder`, this will create new `Column`s based on unique values in each chosen `Column`:\n"
   ]
  },
  {
   "cell_type": "code",
   "execution_count": 10,
   "metadata": {
    "ExecuteTime": {
     "end_time": "2024-05-24T11:02:33.597162600Z",
     "start_time": "2024-05-24T11:02:33.472105400Z"
    },
    "collapsed": false
   },
   "outputs": [
    {
     "data": {
      "text/html": [
       "<div><style>\n",
       ".dataframe > thead > tr,\n",
       ".dataframe > tbody > tr {\n",
       "  text-align: right;\n",
       "  white-space: pre-wrap;\n",
       "}\n",
       "</style>\n",
       "<small>shape: (10, 15)</small><table border=\"1\" class=\"dataframe\"><thead><tr><th>id</th><th>name</th><th>age</th><th>siblings_spouses</th><th>parents_children</th><th>ticket</th><th>travel_class</th><th>fare</th><th>cabin</th><th>survived</th><th>sex__male</th><th>sex__female</th><th>port_embarked__Southampton</th><th>port_embarked__Cherbourg</th><th>port_embarked__Queenstown</th></tr><tr><td>i64</td><td>str</td><td>f64</td><td>i64</td><td>i64</td><td>str</td><td>i64</td><td>f64</td><td>str</td><td>i64</td><td>u8</td><td>u8</td><td>u8</td><td>u8</td><td>u8</td></tr></thead><tbody><tr><td>0</td><td>&quot;Abbing, Mr. Anthony&quot;</td><td>42.0</td><td>0</td><td>0</td><td>&quot;C.A. 5547&quot;</td><td>3</td><td>7.55</td><td>null</td><td>0</td><td>1</td><td>0</td><td>1</td><td>0</td><td>0</td></tr><tr><td>1</td><td>&quot;Abbott, Master. Eugene Joseph&quot;</td><td>13.0</td><td>0</td><td>2</td><td>&quot;C.A. 2673&quot;</td><td>3</td><td>20.25</td><td>null</td><td>0</td><td>1</td><td>0</td><td>1</td><td>0</td><td>0</td></tr><tr><td>2</td><td>&quot;Abbott, Mr. Rossmore Edward&quot;</td><td>16.0</td><td>1</td><td>1</td><td>&quot;C.A. 2673&quot;</td><td>3</td><td>20.25</td><td>null</td><td>0</td><td>1</td><td>0</td><td>1</td><td>0</td><td>0</td></tr><tr><td>3</td><td>&quot;Abbott, Mrs. Stanton (Rosa Hun…</td><td>35.0</td><td>1</td><td>1</td><td>&quot;C.A. 2673&quot;</td><td>3</td><td>20.25</td><td>null</td><td>1</td><td>0</td><td>1</td><td>1</td><td>0</td><td>0</td></tr><tr><td>4</td><td>&quot;Abelseth, Miss. Karen Marie&quot;</td><td>16.0</td><td>0</td><td>0</td><td>&quot;348125&quot;</td><td>3</td><td>7.65</td><td>null</td><td>1</td><td>0</td><td>1</td><td>1</td><td>0</td><td>0</td></tr><tr><td>5</td><td>&quot;Abelseth, Mr. Olaus Jorgensen&quot;</td><td>25.0</td><td>0</td><td>0</td><td>&quot;348122&quot;</td><td>3</td><td>7.65</td><td>&quot;F G63&quot;</td><td>1</td><td>1</td><td>0</td><td>1</td><td>0</td><td>0</td></tr><tr><td>6</td><td>&quot;Abelson, Mr. Samuel&quot;</td><td>30.0</td><td>1</td><td>0</td><td>&quot;P/PP 3381&quot;</td><td>2</td><td>24.0</td><td>null</td><td>0</td><td>1</td><td>0</td><td>0</td><td>1</td><td>0</td></tr><tr><td>7</td><td>&quot;Abelson, Mrs. Samuel (Hannah W…</td><td>28.0</td><td>1</td><td>0</td><td>&quot;P/PP 3381&quot;</td><td>2</td><td>24.0</td><td>null</td><td>1</td><td>0</td><td>1</td><td>0</td><td>1</td><td>0</td></tr><tr><td>8</td><td>&quot;Abrahamsson, Mr. Abraham Augus…</td><td>20.0</td><td>0</td><td>0</td><td>&quot;SOTON/O2 3101284&quot;</td><td>3</td><td>7.925</td><td>null</td><td>1</td><td>1</td><td>0</td><td>1</td><td>0</td><td>0</td></tr><tr><td>9</td><td>&quot;Abrahim, Mrs. Joseph (Sophie H…</td><td>18.0</td><td>0</td><td>0</td><td>&quot;2657&quot;</td><td>3</td><td>7.2292</td><td>null</td><td>1</td><td>0</td><td>1</td><td>0</td><td>1</td><td>0</td></tr></tbody></table></div>"
      ],
      "text/plain": [
       "+-----+------------+----------+------------+---+------------+------------+------------+------------+\n",
       "|  id | name       |      age | siblings_s | … | sex__femal | port_embar | port_embar | port_embar |\n",
       "| --- | ---        |      --- |     pouses |   | e          | ked__South | ked__Cherb | ked__Queen |\n",
       "| i64 | str        |      f64 |        --- |   | ---        |     ampton |       ourg | stown      |\n",
       "|     |            |          |        i64 |   | u8         |        --- |        --- | ---        |\n",
       "|     |            |          |            |   |            |         u8 |         u8 | u8         |\n",
       "+==================================================================================================+\n",
       "|   0 | Abbing,    | 42.00000 |          0 | … | 0          |          1 |          0 | 0          |\n",
       "|     | Mr.        |          |            |   |            |            |            |            |\n",
       "|     | Anthony    |          |            |   |            |            |            |            |\n",
       "|   1 | Abbott,    | 13.00000 |          0 | … | 0          |          1 |          0 | 0          |\n",
       "|     | Master.    |          |            |   |            |            |            |            |\n",
       "|     | Eugene     |          |            |   |            |            |            |            |\n",
       "|     | Joseph     |          |            |   |            |            |            |            |\n",
       "|   2 | Abbott,    | 16.00000 |          1 | … | 0          |          1 |          0 | 0          |\n",
       "|     | Mr.        |          |            |   |            |            |            |            |\n",
       "|     | Rossmore   |          |            |   |            |            |            |            |\n",
       "|     | Edward     |          |            |   |            |            |            |            |\n",
       "|   3 | Abbott,    | 35.00000 |          1 | … | 1          |          1 |          0 | 0          |\n",
       "|     | Mrs.       |          |            |   |            |            |            |            |\n",
       "|     | Stanton    |          |            |   |            |            |            |            |\n",
       "|     | (Rosa Hun… |          |            |   |            |            |            |            |\n",
       "|   4 | Abelseth,  | 16.00000 |          0 | … | 1          |          1 |          0 | 0          |\n",
       "|     | Miss.      |          |            |   |            |            |            |            |\n",
       "|     | Karen      |          |            |   |            |            |            |            |\n",
       "|     | Marie      |          |            |   |            |            |            |            |\n",
       "|   5 | Abelseth,  | 25.00000 |          0 | … | 0          |          1 |          0 | 0          |\n",
       "|     | Mr. Olaus  |          |            |   |            |            |            |            |\n",
       "|     | Jorgensen  |          |            |   |            |            |            |            |\n",
       "|   6 | Abelson,   | 30.00000 |          1 | … | 0          |          0 |          1 | 0          |\n",
       "|     | Mr. Samuel |          |            |   |            |            |            |            |\n",
       "|   7 | Abelson,   | 28.00000 |          1 | … | 1          |          0 |          1 | 0          |\n",
       "|     | Mrs.       |          |            |   |            |            |            |            |\n",
       "|     | Samuel     |          |            |   |            |            |            |            |\n",
       "|     | (Hannah W… |          |            |   |            |            |            |            |\n",
       "|   8 | Abrahamsso | 20.00000 |          0 | … | 0          |          1 |          0 | 0          |\n",
       "|     | n, Mr.     |          |            |   |            |            |            |            |\n",
       "|     | Abraham    |          |            |   |            |            |            |            |\n",
       "|     | Augus…     |          |            |   |            |            |            |            |\n",
       "|   9 | Abrahim,   | 18.00000 |          0 | … | 1          |          0 |          1 | 0          |\n",
       "|     | Mrs.       |          |            |   |            |            |            |            |\n",
       "|     | Joseph     |          |            |   |            |            |            |            |\n",
       "|     | (Sophie H… |          |            |   |            |            |            |            |\n",
       "+-----+------------+----------+------------+---+------------+------------+------------+------------+"
      ]
     },
     "execution_count": 10,
     "metadata": {},
     "output_type": "execute_result"
    }
   ],
   "source": [
    "from safeds.data.tabular.transformation import OneHotEncoder\n",
    "\n",
    "encoder = OneHotEncoder(column_names=[\"sex\", \"port_embarked\"]).fit(titanic)\n",
    "encoder.transform(titanic_slice)"
   ]
  },
  {
   "cell_type": "markdown",
   "metadata": {
    "collapsed": false
   },
   "source": [
    " 4. Transform table using `RangeScaler`, this will scale the values in the chosen `Column`s to a given range:"
   ]
  },
  {
   "cell_type": "code",
   "execution_count": 11,
   "metadata": {
    "ExecuteTime": {
     "end_time": "2024-05-24T11:02:33.599165800Z",
     "start_time": "2024-05-24T11:02:33.479893800Z"
    },
    "collapsed": false
   },
   "outputs": [
    {
     "data": {
      "text/html": [
       "<div><style>\n",
       ".dataframe > thead > tr,\n",
       ".dataframe > tbody > tr {\n",
       "  text-align: right;\n",
       "  white-space: pre-wrap;\n",
       "}\n",
       "</style>\n",
       "<small>shape: (10, 12)</small><table border=\"1\" class=\"dataframe\"><thead><tr><th>id</th><th>name</th><th>sex</th><th>age</th><th>siblings_spouses</th><th>parents_children</th><th>ticket</th><th>travel_class</th><th>fare</th><th>cabin</th><th>port_embarked</th><th>survived</th></tr><tr><td>i64</td><td>str</td><td>str</td><td>f64</td><td>i64</td><td>i64</td><td>str</td><td>i64</td><td>f64</td><td>str</td><td>str</td><td>i64</td></tr></thead><tbody><tr><td>0</td><td>&quot;Abbing, Mr. Anthony&quot;</td><td>&quot;male&quot;</td><td>0.524008</td><td>0</td><td>0</td><td>&quot;C.A. 5547&quot;</td><td>3</td><td>7.55</td><td>null</td><td>&quot;Southampton&quot;</td><td>0</td></tr><tr><td>1</td><td>&quot;Abbott, Master. Eugene Joseph&quot;</td><td>&quot;male&quot;</td><td>0.160751</td><td>0</td><td>2</td><td>&quot;C.A. 2673&quot;</td><td>3</td><td>20.25</td><td>null</td><td>&quot;Southampton&quot;</td><td>0</td></tr><tr><td>2</td><td>&quot;Abbott, Mr. Rossmore Edward&quot;</td><td>&quot;male&quot;</td><td>0.19833</td><td>1</td><td>1</td><td>&quot;C.A. 2673&quot;</td><td>3</td><td>20.25</td><td>null</td><td>&quot;Southampton&quot;</td><td>0</td></tr><tr><td>3</td><td>&quot;Abbott, Mrs. Stanton (Rosa Hun…</td><td>&quot;female&quot;</td><td>0.436325</td><td>1</td><td>1</td><td>&quot;C.A. 2673&quot;</td><td>3</td><td>20.25</td><td>null</td><td>&quot;Southampton&quot;</td><td>1</td></tr><tr><td>4</td><td>&quot;Abelseth, Miss. Karen Marie&quot;</td><td>&quot;female&quot;</td><td>0.19833</td><td>0</td><td>0</td><td>&quot;348125&quot;</td><td>3</td><td>7.65</td><td>null</td><td>&quot;Southampton&quot;</td><td>1</td></tr><tr><td>5</td><td>&quot;Abelseth, Mr. Olaus Jorgensen&quot;</td><td>&quot;male&quot;</td><td>0.311064</td><td>0</td><td>0</td><td>&quot;348122&quot;</td><td>3</td><td>7.65</td><td>&quot;F G63&quot;</td><td>&quot;Southampton&quot;</td><td>1</td></tr><tr><td>6</td><td>&quot;Abelson, Mr. Samuel&quot;</td><td>&quot;male&quot;</td><td>0.373695</td><td>1</td><td>0</td><td>&quot;P/PP 3381&quot;</td><td>2</td><td>24.0</td><td>null</td><td>&quot;Cherbourg&quot;</td><td>0</td></tr><tr><td>7</td><td>&quot;Abelson, Mrs. Samuel (Hannah W…</td><td>&quot;female&quot;</td><td>0.348643</td><td>1</td><td>0</td><td>&quot;P/PP 3381&quot;</td><td>2</td><td>24.0</td><td>null</td><td>&quot;Cherbourg&quot;</td><td>1</td></tr><tr><td>8</td><td>&quot;Abrahamsson, Mr. Abraham Augus…</td><td>&quot;male&quot;</td><td>0.248434</td><td>0</td><td>0</td><td>&quot;SOTON/O2 3101284&quot;</td><td>3</td><td>7.925</td><td>null</td><td>&quot;Southampton&quot;</td><td>1</td></tr><tr><td>9</td><td>&quot;Abrahim, Mrs. Joseph (Sophie H…</td><td>&quot;female&quot;</td><td>0.223382</td><td>0</td><td>0</td><td>&quot;2657&quot;</td><td>3</td><td>7.2292</td><td>null</td><td>&quot;Cherbourg&quot;</td><td>1</td></tr></tbody></table></div>"
      ],
      "text/plain": [
       "+-----+-----------------------+--------+---------+---+----------+-------+---------------+----------+\n",
       "|  id | name                  | sex    |     age | … |     fare | cabin | port_embarked | survived |\n",
       "| --- | ---                   | ---    |     --- |   |      --- | ---   |           --- |      --- |\n",
       "| i64 | str                   | str    |     f64 |   |      f64 | str   |           str |      i64 |\n",
       "+==================================================================================================+\n",
       "|   0 | Abbing, Mr. Anthony   | male   | 0.52401 | … |  7.55000 | null  |   Southampton |        0 |\n",
       "|   1 | Abbott, Master.       | male   | 0.16075 | … | 20.25000 | null  |   Southampton |        0 |\n",
       "|     | Eugene Joseph         |        |         |   |          |       |               |          |\n",
       "|   2 | Abbott, Mr. Rossmore  | male   | 0.19833 | … | 20.25000 | null  |   Southampton |        0 |\n",
       "|     | Edward                |        |         |   |          |       |               |          |\n",
       "|   3 | Abbott, Mrs. Stanton  | female | 0.43633 | … | 20.25000 | null  |   Southampton |        1 |\n",
       "|     | (Rosa Hun…            |        |         |   |          |       |               |          |\n",
       "|   4 | Abelseth, Miss. Karen | female | 0.19833 | … |  7.65000 | null  |   Southampton |        1 |\n",
       "|     | Marie                 |        |         |   |          |       |               |          |\n",
       "|   5 | Abelseth, Mr. Olaus   | male   | 0.31106 | … |  7.65000 | F G63 |   Southampton |        1 |\n",
       "|     | Jorgensen             |        |         |   |          |       |               |          |\n",
       "|   6 | Abelson, Mr. Samuel   | male   | 0.37369 | … | 24.00000 | null  |     Cherbourg |        0 |\n",
       "|   7 | Abelson, Mrs. Samuel  | female | 0.34864 | … | 24.00000 | null  |     Cherbourg |        1 |\n",
       "|     | (Hannah W…            |        |         |   |          |       |               |          |\n",
       "|   8 | Abrahamsson, Mr.      | male   | 0.24843 | … |  7.92500 | null  |   Southampton |        1 |\n",
       "|     | Abraham Augus…        |        |         |   |          |       |               |          |\n",
       "|   9 | Abrahim, Mrs. Joseph  | female | 0.22338 | … |  7.22920 | null  |     Cherbourg |        1 |\n",
       "|     | (Sophie H…            |        |         |   |          |       |               |          |\n",
       "+-----+-----------------------+--------+---------+---+----------+-------+---------------+----------+"
      ]
     },
     "execution_count": 11,
     "metadata": {},
     "output_type": "execute_result"
    }
   ],
   "source": [
    "from safeds.data.tabular.transformation import RangeScaler\n",
    "\n",
    "scaler = RangeScaler(column_names=\"age\", min_=0.0, max_=1.0).fit(titanic)\n",
    "scaler.transform(titanic_slice)"
   ]
  },
  {
   "cell_type": "markdown",
   "metadata": {
    "collapsed": false
   },
   "source": [
    "5. Transform table using `StandardScaler`, this will standardize values of chosen `Column`s:"
   ]
  },
  {
   "cell_type": "code",
   "execution_count": 12,
   "metadata": {
    "ExecuteTime": {
     "end_time": "2024-05-24T11:02:33.604030100Z",
     "start_time": "2024-05-24T11:02:33.486926500Z"
    },
    "collapsed": false
   },
   "outputs": [
    {
     "data": {
      "text/html": [
       "<div><style>\n",
       ".dataframe > thead > tr,\n",
       ".dataframe > tbody > tr {\n",
       "  text-align: right;\n",
       "  white-space: pre-wrap;\n",
       "}\n",
       "</style>\n",
       "<small>shape: (10, 12)</small><table border=\"1\" class=\"dataframe\"><thead><tr><th>id</th><th>name</th><th>sex</th><th>age</th><th>siblings_spouses</th><th>parents_children</th><th>ticket</th><th>travel_class</th><th>fare</th><th>cabin</th><th>port_embarked</th><th>survived</th></tr><tr><td>i64</td><td>str</td><td>str</td><td>f64</td><td>i64</td><td>i64</td><td>str</td><td>f64</td><td>f64</td><td>str</td><td>str</td><td>i64</td></tr></thead><tbody><tr><td>0</td><td>&quot;Abbing, Mr. Anthony&quot;</td><td>&quot;male&quot;</td><td>0.841202</td><td>0</td><td>0</td><td>&quot;C.A. 5547&quot;</td><td>0.841916</td><td>7.55</td><td>null</td><td>&quot;Southampton&quot;</td><td>0</td></tr><tr><td>1</td><td>&quot;Abbott, Master. Eugene Joseph&quot;</td><td>&quot;male&quot;</td><td>-1.171763</td><td>0</td><td>2</td><td>&quot;C.A. 2673&quot;</td><td>0.841916</td><td>20.25</td><td>null</td><td>&quot;Southampton&quot;</td><td>0</td></tr><tr><td>2</td><td>&quot;Abbott, Mr. Rossmore Edward&quot;</td><td>&quot;male&quot;</td><td>-0.963526</td><td>1</td><td>1</td><td>&quot;C.A. 2673&quot;</td><td>0.841916</td><td>20.25</td><td>null</td><td>&quot;Southampton&quot;</td><td>0</td></tr><tr><td>3</td><td>&quot;Abbott, Mrs. Stanton (Rosa Hun…</td><td>&quot;female&quot;</td><td>0.355314</td><td>1</td><td>1</td><td>&quot;C.A. 2673&quot;</td><td>0.841916</td><td>20.25</td><td>null</td><td>&quot;Southampton&quot;</td><td>1</td></tr><tr><td>4</td><td>&quot;Abelseth, Miss. Karen Marie&quot;</td><td>&quot;female&quot;</td><td>-0.963526</td><td>0</td><td>0</td><td>&quot;348125&quot;</td><td>0.841916</td><td>7.65</td><td>null</td><td>&quot;Southampton&quot;</td><td>1</td></tr><tr><td>5</td><td>&quot;Abelseth, Mr. Olaus Jorgensen&quot;</td><td>&quot;male&quot;</td><td>-0.338812</td><td>0</td><td>0</td><td>&quot;348122&quot;</td><td>0.841916</td><td>7.65</td><td>&quot;F G63&quot;</td><td>&quot;Southampton&quot;</td><td>1</td></tr><tr><td>6</td><td>&quot;Abelson, Mr. Samuel&quot;</td><td>&quot;male&quot;</td><td>0.008251</td><td>1</td><td>0</td><td>&quot;P/PP 3381&quot;</td><td>-0.352091</td><td>24.0</td><td>null</td><td>&quot;Cherbourg&quot;</td><td>0</td></tr><tr><td>7</td><td>&quot;Abelson, Mrs. Samuel (Hannah W…</td><td>&quot;female&quot;</td><td>-0.130574</td><td>1</td><td>0</td><td>&quot;P/PP 3381&quot;</td><td>-0.352091</td><td>24.0</td><td>null</td><td>&quot;Cherbourg&quot;</td><td>1</td></tr><tr><td>8</td><td>&quot;Abrahamsson, Mr. Abraham Augus…</td><td>&quot;male&quot;</td><td>-0.685875</td><td>0</td><td>0</td><td>&quot;SOTON/O2 3101284&quot;</td><td>0.841916</td><td>7.925</td><td>null</td><td>&quot;Southampton&quot;</td><td>1</td></tr><tr><td>9</td><td>&quot;Abrahim, Mrs. Joseph (Sophie H…</td><td>&quot;female&quot;</td><td>-0.8247</td><td>0</td><td>0</td><td>&quot;2657&quot;</td><td>0.841916</td><td>7.2292</td><td>null</td><td>&quot;Cherbourg&quot;</td><td>1</td></tr></tbody></table></div>"
      ],
      "text/plain": [
       "+-----+----------------------+--------+----------+---+----------+-------+---------------+----------+\n",
       "|  id | name                 | sex    |      age | … |     fare | cabin | port_embarked | survived |\n",
       "| --- | ---                  | ---    |      --- |   |      --- | ---   |           --- |      --- |\n",
       "| i64 | str                  | str    |      f64 |   |      f64 | str   |           str |      i64 |\n",
       "+==================================================================================================+\n",
       "|   0 | Abbing, Mr. Anthony  | male   |  0.84120 | … |  7.55000 | null  |   Southampton |        0 |\n",
       "|   1 | Abbott, Master.      | male   | -1.17176 | … | 20.25000 | null  |   Southampton |        0 |\n",
       "|     | Eugene Joseph        |        |          |   |          |       |               |          |\n",
       "|   2 | Abbott, Mr. Rossmore | male   | -0.96353 | … | 20.25000 | null  |   Southampton |        0 |\n",
       "|     | Edward               |        |          |   |          |       |               |          |\n",
       "|   3 | Abbott, Mrs. Stanton | female |  0.35531 | … | 20.25000 | null  |   Southampton |        1 |\n",
       "|     | (Rosa Hun…           |        |          |   |          |       |               |          |\n",
       "|   4 | Abelseth, Miss.      | female | -0.96353 | … |  7.65000 | null  |   Southampton |        1 |\n",
       "|     | Karen Marie          |        |          |   |          |       |               |          |\n",
       "|   5 | Abelseth, Mr. Olaus  | male   | -0.33881 | … |  7.65000 | F G63 |   Southampton |        1 |\n",
       "|     | Jorgensen            |        |          |   |          |       |               |          |\n",
       "|   6 | Abelson, Mr. Samuel  | male   |  0.00825 | … | 24.00000 | null  |     Cherbourg |        0 |\n",
       "|   7 | Abelson, Mrs. Samuel | female | -0.13057 | … | 24.00000 | null  |     Cherbourg |        1 |\n",
       "|     | (Hannah W…           |        |          |   |          |       |               |          |\n",
       "|   8 | Abrahamsson, Mr.     | male   | -0.68588 | … |  7.92500 | null  |   Southampton |        1 |\n",
       "|     | Abraham Augus…       |        |          |   |          |       |               |          |\n",
       "|   9 | Abrahim, Mrs. Joseph | female | -0.82470 | … |  7.22920 | null  |     Cherbourg |        1 |\n",
       "|     | (Sophie H…           |        |          |   |          |       |               |          |\n",
       "+-----+----------------------+--------+----------+---+----------+-------+---------------+----------+"
      ]
     },
     "execution_count": 12,
     "metadata": {},
     "output_type": "execute_result"
    }
   ],
   "source": [
    "from safeds.data.tabular.transformation import StandardScaler\n",
    "\n",
    "scaler = StandardScaler(column_names=[\"age\", \"travel_class\"]).fit(titanic)\n",
    "scaler.transform(titanic_slice)"
   ]
  },
  {
   "cell_type": "markdown",
   "metadata": {
    "collapsed": false
   },
   "source": [
    "## Transform column\n",
    "\n",
    "1. Transform values of \"parents_children\" `Column` into true or false, depending on whether passenger travelled with parents or children:"
   ]
  },
  {
   "cell_type": "code",
   "execution_count": 13,
   "metadata": {
    "ExecuteTime": {
     "end_time": "2024-05-24T11:02:33.615541800Z",
     "start_time": "2024-05-24T11:02:33.494976800Z"
    },
    "collapsed": false
   },
   "outputs": [
    {
     "data": {
      "text/html": [
       "<div><style>\n",
       ".dataframe > thead > tr,\n",
       ".dataframe > tbody > tr {\n",
       "  text-align: right;\n",
       "  white-space: pre-wrap;\n",
       "}\n",
       "</style>\n",
       "<small>shape: (10, 12)</small><table border=\"1\" class=\"dataframe\"><thead><tr><th>id</th><th>name</th><th>sex</th><th>age</th><th>siblings_spouses</th><th>parents_children</th><th>ticket</th><th>travel_class</th><th>fare</th><th>cabin</th><th>port_embarked</th><th>survived</th></tr><tr><td>i64</td><td>str</td><td>str</td><td>f64</td><td>i64</td><td>bool</td><td>str</td><td>i64</td><td>f64</td><td>str</td><td>str</td><td>i64</td></tr></thead><tbody><tr><td>0</td><td>&quot;Abbing, Mr. Anthony&quot;</td><td>&quot;male&quot;</td><td>42.0</td><td>0</td><td>false</td><td>&quot;C.A. 5547&quot;</td><td>3</td><td>7.55</td><td>null</td><td>&quot;Southampton&quot;</td><td>0</td></tr><tr><td>1</td><td>&quot;Abbott, Master. Eugene Joseph&quot;</td><td>&quot;male&quot;</td><td>13.0</td><td>0</td><td>true</td><td>&quot;C.A. 2673&quot;</td><td>3</td><td>20.25</td><td>null</td><td>&quot;Southampton&quot;</td><td>0</td></tr><tr><td>2</td><td>&quot;Abbott, Mr. Rossmore Edward&quot;</td><td>&quot;male&quot;</td><td>16.0</td><td>1</td><td>true</td><td>&quot;C.A. 2673&quot;</td><td>3</td><td>20.25</td><td>null</td><td>&quot;Southampton&quot;</td><td>0</td></tr><tr><td>3</td><td>&quot;Abbott, Mrs. Stanton (Rosa Hun…</td><td>&quot;female&quot;</td><td>35.0</td><td>1</td><td>true</td><td>&quot;C.A. 2673&quot;</td><td>3</td><td>20.25</td><td>null</td><td>&quot;Southampton&quot;</td><td>1</td></tr><tr><td>4</td><td>&quot;Abelseth, Miss. Karen Marie&quot;</td><td>&quot;female&quot;</td><td>16.0</td><td>0</td><td>false</td><td>&quot;348125&quot;</td><td>3</td><td>7.65</td><td>null</td><td>&quot;Southampton&quot;</td><td>1</td></tr><tr><td>5</td><td>&quot;Abelseth, Mr. Olaus Jorgensen&quot;</td><td>&quot;male&quot;</td><td>25.0</td><td>0</td><td>false</td><td>&quot;348122&quot;</td><td>3</td><td>7.65</td><td>&quot;F G63&quot;</td><td>&quot;Southampton&quot;</td><td>1</td></tr><tr><td>6</td><td>&quot;Abelson, Mr. Samuel&quot;</td><td>&quot;male&quot;</td><td>30.0</td><td>1</td><td>false</td><td>&quot;P/PP 3381&quot;</td><td>2</td><td>24.0</td><td>null</td><td>&quot;Cherbourg&quot;</td><td>0</td></tr><tr><td>7</td><td>&quot;Abelson, Mrs. Samuel (Hannah W…</td><td>&quot;female&quot;</td><td>28.0</td><td>1</td><td>false</td><td>&quot;P/PP 3381&quot;</td><td>2</td><td>24.0</td><td>null</td><td>&quot;Cherbourg&quot;</td><td>1</td></tr><tr><td>8</td><td>&quot;Abrahamsson, Mr. Abraham Augus…</td><td>&quot;male&quot;</td><td>20.0</td><td>0</td><td>false</td><td>&quot;SOTON/O2 3101284&quot;</td><td>3</td><td>7.925</td><td>null</td><td>&quot;Southampton&quot;</td><td>1</td></tr><tr><td>9</td><td>&quot;Abrahim, Mrs. Joseph (Sophie H…</td><td>&quot;female&quot;</td><td>18.0</td><td>0</td><td>false</td><td>&quot;2657&quot;</td><td>3</td><td>7.2292</td><td>null</td><td>&quot;Cherbourg&quot;</td><td>1</td></tr></tbody></table></div>"
      ],
      "text/plain": [
       "+-----+----------------------+--------+----------+---+----------+-------+---------------+----------+\n",
       "|  id | name                 | sex    |      age | … | fare     | cabin | port_embarked | survived |\n",
       "| --- | ---                  | ---    |      --- |   | ---      | ---   |           --- |      --- |\n",
       "| i64 | str                  | str    |      f64 |   | f64      | str   |           str |      i64 |\n",
       "+==================================================================================================+\n",
       "|   0 | Abbing, Mr. Anthony  | male   | 42.00000 | … | 7.55000  | null  |   Southampton |        0 |\n",
       "|   1 | Abbott, Master.      | male   | 13.00000 | … | 20.25000 | null  |   Southampton |        0 |\n",
       "|     | Eugene Joseph        |        |          |   |          |       |               |          |\n",
       "|   2 | Abbott, Mr. Rossmore | male   | 16.00000 | … | 20.25000 | null  |   Southampton |        0 |\n",
       "|     | Edward               |        |          |   |          |       |               |          |\n",
       "|   3 | Abbott, Mrs. Stanton | female | 35.00000 | … | 20.25000 | null  |   Southampton |        1 |\n",
       "|     | (Rosa Hun…           |        |          |   |          |       |               |          |\n",
       "|   4 | Abelseth, Miss.      | female | 16.00000 | … | 7.65000  | null  |   Southampton |        1 |\n",
       "|     | Karen Marie          |        |          |   |          |       |               |          |\n",
       "|   5 | Abelseth, Mr. Olaus  | male   | 25.00000 | … | 7.65000  | F G63 |   Southampton |        1 |\n",
       "|     | Jorgensen            |        |          |   |          |       |               |          |\n",
       "|   6 | Abelson, Mr. Samuel  | male   | 30.00000 | … | 24.00000 | null  |     Cherbourg |        0 |\n",
       "|   7 | Abelson, Mrs. Samuel | female | 28.00000 | … | 24.00000 | null  |     Cherbourg |        1 |\n",
       "|     | (Hannah W…           |        |          |   |          |       |               |          |\n",
       "|   8 | Abrahamsson, Mr.     | male   | 20.00000 | … | 7.92500  | null  |   Southampton |        1 |\n",
       "|     | Abraham Augus…       |        |          |   |          |       |               |          |\n",
       "|   9 | Abrahim, Mrs. Joseph | female | 18.00000 | … | 7.22920  | null  |     Cherbourg |        1 |\n",
       "|     | (Sophie H…           |        |          |   |          |       |               |          |\n",
       "+-----+----------------------+--------+----------+---+----------+-------+---------------+----------+"
      ]
     },
     "execution_count": 13,
     "metadata": {},
     "output_type": "execute_result"
    }
   ],
   "source": "titanic_slice.transform_columns(\"parents_children\", lambda cell: cell > 0)"
  }
 ],
 "metadata": {
  "kernelspec": {
   "display_name": "Python 3",
   "language": "python",
   "name": "python3"
  },
  "language_info": {
   "codemirror_mode": {
    "name": "ipython",
    "version": 2
   },
   "file_extension": ".py",
   "mimetype": "text/x-python",
   "name": "python",
   "nbconvert_exporter": "python",
   "pygments_lexer": "ipython2",
   "version": "2.7.6"
  }
 },
 "nbformat": 4,
 "nbformat_minor": 0
}
