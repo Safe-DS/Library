{
 "cells": [
  {
   "cell_type": "markdown",
   "source": [
    "# Data Processing\n",
    "\n",
    "This tutorial explains how tabular data can be handled and transformed with the `Table` class.\n",
    "\n",
    "<div class=\"admonition note\">\n",
    "  <p class=\"admonition-title\">Note</p>\n",
    "  <p>\n",
    "    All operations on a <code>Table</code> return a new <code>Table</code>. The original <code>Table</code> will not be changed.\n",
    "  </p>\n",
    "</div>"
   ],
   "metadata": {
    "collapsed": false
   }
  },
  {
   "cell_type": "markdown",
   "source": [
    "### Create & Load data\n",
    "\n",
    "1. Load your data into a `Table`:"
   ],
   "metadata": {
    "collapsed": false
   }
  },
  {
   "cell_type": "code",
   "execution_count": null,
   "source": [
    "from safeds.data.tabular.containers import Table\n",
    "\n",
    "titanic = Table.from_csv_file(\"data/titanic.csv\")"
   ],
   "metadata": {
    "collapsed": false
   },
   "outputs": []
  },
  {
   "cell_type": "markdown",
   "source": [
    "2. Create a `Table` containing only the first 10 rows:"
   ],
   "metadata": {
    "collapsed": false
   }
  },
  {
   "cell_type": "code",
   "execution_count": null,
   "source": [
    "titanic_slice = titanic.slice_rows(end=10)\n",
    "\n",
    "titanic_slice # just to show the output"
   ],
   "metadata": {
    "collapsed": false
   },
   "outputs": []
  },
  {
   "cell_type": "markdown",
   "source": [
    "3. Extract a `Row` from your `Table`:"
   ],
   "metadata": {
    "collapsed": false
   }
  },
  {
   "cell_type": "code",
   "execution_count": null,
   "source": [
    "titanic_slice.get_row(0)"
   ],
   "metadata": {
    "collapsed": false
   },
   "outputs": []
  },
  {
   "cell_type": "markdown",
   "source": [
    "4. Extract a `Column` from your `Table`:"
   ],
   "metadata": {
    "collapsed": false
   }
  },
  {
   "cell_type": "code",
   "execution_count": null,
   "source": [
    "titanic_slice.get_column(\"name\")"
   ],
   "metadata": {
    "collapsed": false
   },
   "outputs": []
  },
  {
   "cell_type": "markdown",
   "source": [
    "5. Combine a list of `Row`s to a `Table` (make sure the `Row`s have the same columns):"
   ],
   "metadata": {
    "collapsed": false
   }
  },
  {
   "cell_type": "code",
   "execution_count": null,
   "source": [
    "Table.from_rows([\n",
    "    titanic_slice.get_row(0),\n",
    "    titanic_slice.get_row(1)\n",
    "])"
   ],
   "metadata": {
    "collapsed": false
   },
   "outputs": []
  },
  {
   "cell_type": "markdown",
   "source": [
    "6. Combine a list of `Column`s to a `Table` (make sure the `Column`s have the same amount of rows):"
   ],
   "metadata": {
    "collapsed": false
   }
  },
  {
   "cell_type": "code",
   "execution_count": null,
   "source": [
    "Table.from_columns([\n",
    "    titanic_slice.get_column(\"name\"),\n",
    "    titanic_slice.get_column(\"age\")\n",
    "])"
   ],
   "metadata": {
    "collapsed": false
   },
   "outputs": []
  },
  {
   "cell_type": "markdown",
   "source": [
    "7. Drop columns from a `Table`:"
   ],
   "metadata": {
    "collapsed": false
   }
  },
  {
   "cell_type": "code",
   "execution_count": null,
   "source": [
    "titanic_slice.remove_columns([\n",
    "    \"id\",\n",
    "    \"name\",\n",
    "    \"ticket\",\n",
    "    \"cabin\",\n",
    "    \"port_embarked\",\n",
    "    \"survived\"\n",
    "])"
   ],
   "metadata": {
    "collapsed": false
   },
   "outputs": []
  },
  {
   "cell_type": "markdown",
   "source": [
    "8. Keep only specified columns of a `Table`:"
   ],
   "metadata": {
    "collapsed": false
   }
  },
  {
   "cell_type": "code",
   "execution_count": null,
   "source": [
    "titanic_slice.keep_only_columns([\"name\", \"survived\"])"
   ],
   "metadata": {
    "collapsed": false
   },
   "outputs": []
  },
  {
   "cell_type": "markdown",
   "source": [
    "## Process data\n",
    "\n",
    "1. Sort _columns_ by their name:"
   ],
   "metadata": {
    "collapsed": false
   }
  },
  {
   "cell_type": "code",
   "execution_count": null,
   "source": [
    "titanic_slice.sort_columns()"
   ],
   "metadata": {
    "collapsed": false
   },
   "outputs": []
  },
  {
   "cell_type": "markdown",
   "source": [
    "2. Sort _columns_ with a custom comparator:"
   ],
   "metadata": {
    "collapsed": false
   }
  },
  {
   "cell_type": "code",
   "execution_count": null,
   "source": [
    "titanic_slice.sort_columns(\n",
    "    lambda column1, column2:\n",
    "        (column1.name < column2.name) - (column1.name > column2.name)\n",
    ")"
   ],
   "metadata": {
    "collapsed": false
   },
   "outputs": []
  },
  {
   "cell_type": "markdown",
   "source": [
    "3. Filter rows with a given query:"
   ],
   "metadata": {
    "collapsed": false
   }
  },
  {
   "cell_type": "code",
   "execution_count": null,
   "source": [
    "titanic.filter_rows(\n",
    "    lambda row:\n",
    "        \"van\" in row.get_value(\"name\")\n",
    ")\n"
   ],
   "metadata": {
    "collapsed": false
   },
   "outputs": []
  },
  {
   "cell_type": "markdown",
   "source": [
    "## Transform table\n",
    "1. Transform table using `Imputer`. `Imputer`s replace missing values with other values (e.g. a constant, the mean or the median of the column etc.) depending on the chosen startegy, for example, the following `Imputer` will replace missing values in the given columns of the table with the constant 0:"
   ],
   "metadata": {
    "collapsed": false
   }
  },
  {
   "cell_type": "code",
   "execution_count": null,
   "source": [
    "from safeds.data.tabular.transformation import Imputer\n",
    "\n",
    "imputer = Imputer(Imputer.Strategy.Constant(0)).fit(titanic, [\"age\", \"fare\", \"cabin\", \"port_embarked\"])\n",
    "imputer.transform(titanic_slice)"
   ],
   "metadata": {
    "collapsed": false
   },
   "outputs": []
  },
  {
   "cell_type": "markdown",
   "source": [
    "2. Transform table using `LabelEncoder`, this will encode categorical features in the chosen `Column`s as integers:"
   ],
   "metadata": {
    "collapsed": false
   }
  },
  {
   "cell_type": "code",
   "execution_count": null,
   "source": [
    "from safeds.data.tabular.transformation import LabelEncoder\n",
    "\n",
    "encoder = LabelEncoder().fit(titanic, [\"sex\", \"port_embarked\"])\n",
    "encoder.transform(titanic_slice)"
   ],
   "metadata": {
    "collapsed": false
   },
   "outputs": []
  },
  {
   "cell_type": "markdown",
   "source": [
    "3. Transform table using `OneHotEncoder`, this will create new `Column`s based on unique values in each chosen `Column`:\n"
   ],
   "metadata": {
    "collapsed": false
   }
  },
  {
   "cell_type": "code",
   "execution_count": null,
   "source": [
    "from safeds.data.tabular.transformation import OneHotEncoder\n",
    "\n",
    "encoder = OneHotEncoder().fit(titanic, [\"sex\", \"port_embarked\"])\n",
    "encoder.transform(titanic_slice)"
   ],
   "metadata": {
    "collapsed": false
   },
   "outputs": []
  },
  {
   "cell_type": "markdown",
   "source": [
    " 4. Transform table using `RangeScaler`, this will scale the values in the chosen `Column`s to a given range:"
   ],
   "metadata": {
    "collapsed": false
   }
  },
  {
   "cell_type": "code",
   "execution_count": null,
   "source": [
    "from safeds.data.tabular.transformation import RangeScaler\n",
    "\n",
    "scaler = RangeScaler(0.0, 1.0).fit(titanic, [\"age\"])\n",
    "scaler.transform(titanic_slice)"
   ],
   "metadata": {
    "collapsed": false
   },
   "outputs": []
  },
  {
   "cell_type": "markdown",
   "source": [
    "5. Transform table using `StandardScaler`, this will standardize values of chosen `Column`s:"
   ],
   "metadata": {
    "collapsed": false
   }
  },
  {
   "cell_type": "code",
   "execution_count": null,
   "source": [
    "from safeds.data.tabular.transformation import StandardScaler\n",
    "\n",
    "scaler = StandardScaler().fit(titanic, [\"age\", \"travel_class\"])\n",
    "scaler.transform(titanic_slice)"
   ],
   "metadata": {
    "collapsed": false
   },
   "outputs": []
  },
  {
   "cell_type": "markdown",
   "source": [
    "## Transform column\n",
    "1. Transform \"sex\" `Column` by labeling female values with 1 and male with 0:\n"
   ],
   "metadata": {
    "collapsed": false
   }
  },
  {
   "cell_type": "code",
   "execution_count": null,
   "source": [
    "titanic_slice.transform_column(\"sex\", lambda row: 1 if row.get_value(\"sex\") == \"female\" else 0)\n"
   ],
   "metadata": {
    "collapsed": false
   },
   "outputs": []
  },
  {
   "cell_type": "markdown",
   "source": [
    "2. Transform values of \"parents_children\" `Column` into yes or no, depending on whether passenger has children:\n"
   ],
   "metadata": {
    "collapsed": false
   }
  },
  {
   "cell_type": "code",
   "execution_count": null,
   "source": [
    "titanic_slice.transform_column(\"parents_children\", lambda row: \"No\" if row.get_value(\"parents_children\") == 0 else \"Yes\")\n"
   ],
   "metadata": {
    "collapsed": false
   },
   "outputs": []
  }
 ],
 "metadata": {
  "kernelspec": {
   "display_name": "Python 3",
   "language": "python",
   "name": "python3"
  },
  "language_info": {
   "codemirror_mode": {
    "name": "ipython",
    "version": 2
   },
   "file_extension": ".py",
   "mimetype": "text/x-python",
   "name": "python",
   "nbconvert_exporter": "python",
   "pygments_lexer": "ipython2",
   "version": "2.7.6"
  }
 },
 "nbformat": 4,
 "nbformat_minor": 0
}
