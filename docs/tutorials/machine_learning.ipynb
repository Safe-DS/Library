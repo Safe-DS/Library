{
 "cells": [
  {
   "cell_type": "markdown",
   "source": [
    "# Machine Learning\n",
    "\n",
    "This tutorial explains how to train a machine learning model in Safe-DS and use it to make predictions.\n",
    "\n",
    "## Create a `TaggedTable`\n",
    "\n",
    "First, we need to create a `TaggedTable` from the training data. `TaggedTable`s are used to train supervised machine learning models, because they keep track of the target\n",
    "column. A `TaggedTable` can be created from a `Table` by\n",
    "specifying the target column in the `Table`."
   ],
   "metadata": {
    "collapsed": false
   }
  },
  {
   "cell_type": "code",
   "execution_count": null,
   "outputs": [],
   "source": [
    "from safeds.data.tabular.containers import TaggedTable\n",
    "from safeds.data.tabular.containers import Table\n",
    "\n",
    "training_set = Table({\n",
    "    \"a\":      [3, 4,  8,  6, 5],\n",
    "    \"b\":      [2, 2,  1,  6, 3],\n",
    "    \"c\":      [1, 1,  1,  1, 1],\n",
    "    \"result\": [6, 7, 10, 13, 9]\n",
    "})\n",
    "\n",
    "tagged_table = TaggedTable(\n",
    "    training_set,\n",
    "    target_column=\"result\"\n",
    ")"
   ],
   "metadata": {
    "collapsed": false
   }
  },
  {
   "cell_type": "markdown",
   "source": [
    "## Create and train model\n",
    "\n",
    "In this example, we want to predict the column `result`, which is the sum of `a`, `b`, and `c`. We will train a linear regression model with this training data. In Safe-DS, machine learning models are modeled as classes. First, their constructor must be called to configure hyperparameters, which returns a model object. Then, training is started by calling the `fit` method on the model object and passing the training data:"
   ],
   "metadata": {
    "collapsed": false
   }
  },
  {
   "cell_type": "code",
   "execution_count": null,
   "outputs": [],
   "source": [
    "from safeds.ml.regression import LinearRegression\n",
    "\n",
    "model = LinearRegression()\n",
    "model.fit(tagged_table)"
   ],
   "metadata": {
    "collapsed": false
   }
  },
  {
   "cell_type": "markdown",
   "source": [
    "## Predicting new values\n",
    "\n",
    "The `fit` method trains the model in place. This means that the model object is modified and can be used to make predictions. Predictions are made by calling the `predict` method on the model object. The `predict` method takes a `Table` as input and returns a `Table` with the predictions:"
   ],
   "metadata": {
    "collapsed": false
   }
  },
  {
   "cell_type": "code",
   "execution_count": null,
   "outputs": [],
   "source": [
    "test_set = Table({\n",
    "    \"a\": [1, 1, 0, 2, 4],\n",
    "    \"b\": [2, 0, 5, 2, 7],\n",
    "    \"c\": [1, 4, 3, 2, 1]})\n",
    "\n",
    "model.predict(dataset=test_set)\n"
   ],
   "metadata": {
    "collapsed": false
   }
  }
 ],
 "metadata": {
  "kernelspec": {
   "display_name": "Python 3",
   "language": "python",
   "name": "python3"
  },
  "language_info": {
   "codemirror_mode": {
    "name": "ipython",
    "version": 2
   },
   "file_extension": ".py",
   "mimetype": "text/x-python",
   "name": "python",
   "nbconvert_exporter": "python",
   "pygments_lexer": "ipython2",
   "version": "2.7.6"
  }
 },
 "nbformat": 4,
 "nbformat_minor": 0
}
