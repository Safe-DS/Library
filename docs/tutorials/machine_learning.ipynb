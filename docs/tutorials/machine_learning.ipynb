{
 "cells": [
  {
   "cell_type": "markdown",
   "source": [
    "# Machine Learning\n",
    "\n",
    "This tutorial explains how to train a machine learning model in Safe-DS and use it to make predictions.\n",
    "\n",
    "## Create a `TabularDataset`\n",
    "\n",
    "First, we need to create a `TabularDataset` from the training data. `TabularDataset`s are used to train supervised machine learning models, because they keep track of the target\n",
    "column. A `TabularDataset` can be created from a `Table` by calling the `to_tabular_dataset` method:"
   ],
   "metadata": {
    "collapsed": false
   }
  },
  {
   "cell_type": "code",
   "execution_count": null,
   "outputs": [],
   "source": [
    "from safeds.data.tabular.containers import Table\n",
    "\n",
    "training_set = Table({\n",
    "    \"a\":      [3, 4,  8,  6, 5],\n",
    "    \"b\":      [2, 2,  1,  6, 3],\n",
    "    \"c\":      [1, 1,  1,  1, 1],\n",
    "    \"result\": [6, 7, 10, 13, 9]\n",
    "})\n",
    "\n",
    "tabular_dataset = training_set.to_tabular_dataset(\n",
    "    target_name=\"result\"\n",
    ")"
   ],
   "metadata": {
    "collapsed": false
   }
  },
  {
   "cell_type": "markdown",
   "source": [
    "## Create and train model\n",
    "\n",
    "In this example, we want to predict the column `result`, which is the sum of `a`, `b`, and `c`. We will train a linear regression model with this training data. In Safe-DS, machine learning models are modeled as classes. First, their constructor must be called to configure hyperparameters, which returns a model object. Then, training is started by calling the `fit` method on the model object and passing the training data:"
   ],
   "metadata": {
    "collapsed": false
   }
  },
  {
   "cell_type": "code",
   "execution_count": null,
   "outputs": [],
   "source": [
    "from safeds.ml.classical.regression import LinearRegressionRegressor\n",
    "\n",
    "model = LinearRegressionRegressor()\n",
    "fitted_model = model.fit(tabular_dataset)"
   ],
   "metadata": {
    "collapsed": false
   }
  },
  {
   "cell_type": "markdown",
   "source": [
    "## Predicting new values\n",
    "\n",
    "The `fit` method returns the fitted model, the original model is **not** changed. Predictions are made by calling the `predict` method on the fitted model. The `predict` method takes a `Table` as input and returns a `Table` with the predictions:"
   ],
   "metadata": {
    "collapsed": false
   }
  },
  {
   "cell_type": "code",
   "execution_count": null,
   "outputs": [],
   "source": [
    "test_set = Table({\n",
    "    \"a\": [1, 1, 0, 2, 4],\n",
    "    \"b\": [2, 0, 5, 2, 7],\n",
    "    \"c\": [1, 4, 3, 2, 1]})\n",
    "\n",
    "fitted_model.predict(dataset=test_set)\n"
   ],
   "metadata": {
    "collapsed": false
   }
  },
  {
   "cell_type": "markdown",
   "source": [
    "## Metrics\n",
    "\n",
    "A machine learning metric, also known as an evaluation metric, is a measure used to assess the performance of a machine learning model on a test set or is used during cross-validation to gain insights about performance and compare different models or parameter settings.\n",
    "In `Safe-DS`, the available metrics are: `Accuracy`, `Confusion Matrix`, `F1-Score`, `Precision`, and `Recall`. Before we go through each of these in detail, we need an understanding of the different `components of evaluation metrics`.\n"
   ],
   "metadata": {
    "collapsed": false
   }
  },
  {
   "cell_type": "markdown",
   "source": [
    "## Components of evaluation metrics\n",
    "\n",
    "These are distinct elements or parts that contribute to the overall assessment of an evaluation measure.\n",
    "* `True positives` TP: the positive tuples that the classifier correctly labeled.\n",
    "* `False positives` FP : the negative tuples that were falsely labeled as positive.\n",
    "* `True negatives` TN: the negative tuples that the classifier correctly labeled.\n",
    "* `False negatives` FN: the positive tuples that were falsely labeled as negative.\n"
   ],
   "metadata": {
    "collapsed": false
   }
  },
  {
   "cell_type": "markdown",
   "source": [
    "## Confusion Matrix\n",
    "A confusion matrix is a table that is used to define the performance of a classification algorithm. It classifies the predictions to be either true positive, true negative, false positive or false negative. It has no Formula.\n",
    "* It is useful for evaluating the performance of a classification model, allowing you to assess its accuracy, precision, recall, and other metrics derived from it.\n",
    "\n",
    "Let's consider a 2x2 confusion matrix made of two classes (0 and 1):"
   ],
   "metadata": {
    "collapsed": false
   }
  },
  {
   "cell_type": "code",
   "execution_count": null,
   "outputs": [],
   "source": [
    "from sklearn.metrics import confusion_matrix\n",
    "\n",
    "y_true = [0, 1, 1, 0, 1]\n",
    "y_pred = [0, 1, 1, 1, 0]\n",
    "\n",
    "matrix = confusion_matrix(y_true, y_pred)\n",
    "print(\"Confusion Matrix:\")\n",
    "print(matrix)"
   ],
   "metadata": {
    "collapsed": false
   }
  },
  {
   "cell_type": "markdown",
   "source": [
    "The confusion matrix is divided into four cells, representing different combinations of predicted and true labels:\n",
    "* The top-left cell represents the `True Negatives`. The value 1 in this cell indicates that one instance was correctly predicted as the negative class (0).\n",
    "* The top-right cell represents the `False Positives`. The value 1 in this cell indicates that one instance was incorrectly predicted as the positive class (1) while the true label is negative (0).\n",
    "* The bottom-left cell represents the `False Negatives`. The value 1 in this cell indicates that one instance was incorrectly predicted as the negative class (0) while the true label is positive (1).\n",
    "* The bottom-right cell represents the `True Positives`. The value 2 in this cell indicates that two instances were correctly predicted as the positive class (1)."
   ],
   "metadata": {
    "collapsed": false
   }
  },
  {
   "cell_type": "markdown",
   "source": [
    "## Accuracy\n",
    "Accuracy, also known as `classification rate`, can be defined as the proportion of correctly classified instances out of the total number of instances. That is, it provides a measure of how well a classification model performs overall.\n",
    "* Formula: $ Accuracy = \\frac{TP+TN}{TP+FP+TN+FN} $\n",
    "\n",
    "Let's consider the same dataset used for deriving the confusion matrix to get the accuracy:"
   ],
   "metadata": {
    "collapsed": false
   }
  },
  {
   "cell_type": "code",
   "execution_count": null,
   "outputs": [],
   "source": [
    "from sklearn.metrics import accuracy_score\n",
    "\n",
    "y_true = [0, 1, 1, 0, 1]\n",
    "y_pred = [0, 1, 1, 1, 0]\n",
    "\n",
    "accuracy = accuracy_score(y_true, y_pred)\n",
    "print(\"Accuracy:\", accuracy)"
   ],
   "metadata": {
    "collapsed": false
   }
  },
  {
   "cell_type": "markdown",
   "source": [
    "The accuracy score 0.6 is calculated as the ratio of the number of correct predictions (3) to the total number of instances (5).\n",
    "* `Accuracy` is suitable when the classes are balanced and there is no significant class imbalance. However, accuracy alone may not always provide a complete picture of a model's performance, especially when dealing with imbalanced datasets. In such cases, other metrics like precision and recall may provide a more comprehensive evaluation of the model's performance."
   ],
   "metadata": {
    "collapsed": false
   }
  },
  {
   "cell_type": "markdown",
   "source": [
    "## F1-Score\n",
    "The F1-Score is the harmonic mean of precision and recall. That is, it combines precision and recall into a single value.\n",
    "* Formula: $ F1-Score = \\frac{2PR}{P+R} $\n",
    "\n",
    "Let's consider the following dataset to get a better understanding:"
   ],
   "metadata": {
    "collapsed": false
   }
  },
  {
   "cell_type": "code",
   "execution_count": null,
   "outputs": [],
   "source": [
    "from sklearn.metrics import f1_score\n",
    "\n",
    "y_true = [0, 1, 1, 0, 1]\n",
    "y_pred = [0, 1, 1, 1, 0]\n",
    "\n",
    "f1 = f1_score(y_true, y_pred)\n",
    "print(\"F1 Score:\", f1)"
   ],
   "metadata": {
    "collapsed": false
   }
  },
  {
   "cell_type": "markdown",
   "source": [
    "Out of the 5 instances in the dataset, 3 have been correctly predicted. However, there is one false positive (4th instance) and one false negative (5th instance). The harmonic mean of precision and recall in this dataset has an f1-score of approximately 0.67.\n",
    "* The `F1-score` is suitable when there is an imbalance between the classes, especially when the values of the false positives and false negatives differs.\n"
   ],
   "metadata": {
    "collapsed": false
   }
  },
  {
   "cell_type": "markdown",
   "source": [
    "## Precision\n",
    "The ability of a classification model to identify only the relevant data points. It measures the proportion of correctly predicted positive instances (true positives) out of all instances predicted as positive (both true positives and false positives).\n",
    "* Formula: $ P = \\frac{TP}{TP+FP} $\n",
    "\n",
    "Let's consider the following dataset to get a clearer picture of Precision:"
   ],
   "metadata": {
    "collapsed": false
   }
  },
  {
   "cell_type": "code",
   "execution_count": null,
   "outputs": [],
   "source": [
    "from sklearn.metrics import precision_score\n",
    "\n",
    "y_true = [0, 1, 1, 0, 1]\n",
    "y_pred = [0, 1, 1, 1, 0]\n",
    "\n",
    "precision = precision_score(y_true, y_pred)\n",
    "print(\"Precision:\", precision)"
   ],
   "metadata": {
    "collapsed": false
   }
  },
  {
   "cell_type": "markdown",
   "source": [
    "The classifier correctly predicts 2 true positive and 1 true negative. However, it also has one false positive, predicting a negative instance as positive. Using the above precision formular, we get a precision score of approximately 0.67. A precision score of 1 indicates that all positive predictions made by the model are correct, while a lower score suggests a higher proportion of false positives.\n",
    "* Precision is useful when the focus is on minimizing the negative tuples that were falsely labeled as positive."
   ],
   "metadata": {
    "collapsed": false
   }
  },
  {
   "cell_type": "markdown",
   "source": [
    "## Recall\n",
    "Also known as `sensitivity` or `true positive rate`, is the ability of a classification model to identify all the relevant data points.\n",
    "* Formula: $ R = \\frac{TP}{TP + FN} $\n",
    "\n",
    "Considering the same dataset used so far, let's calculate the recall score to understand it better:"
   ],
   "metadata": {
    "collapsed": false
   }
  },
  {
   "cell_type": "code",
   "execution_count": null,
   "outputs": [],
   "source": [
    "from sklearn.metrics import recall_score\n",
    "\n",
    "y_true = [0, 1, 1, 0, 1]\n",
    "y_pred = [0, 1, 1, 1, 0]\n",
    "\n",
    "recall = recall_score(y_true, y_pred)\n",
    "print(\"Recall:\", recall)\n"
   ],
   "metadata": {
    "collapsed": false
   }
  },
  {
   "cell_type": "markdown",
   "source": [
    "The classifier misses one positive instance, resulting in one false negative, where a positive instance is incorrectly classified as negative. Using the above recall formular, we get a recall score of approximately 0.67. A recall score of 1 indicates that all positive instances in the dataset are correctly identified by the model, while a lower score suggests a higher proportion of false negatives.\n",
    "* Recall is useful when the focus is on minimizing the positive tuples that were falsely labeled as negative.\n"
   ],
   "metadata": {
    "collapsed": false
   }
  }
 ],
 "metadata": {
  "kernelspec": {
   "display_name": "Python 3",
   "language": "python",
   "name": "python3"
  },
  "language_info": {
   "codemirror_mode": {
    "name": "ipython",
    "version": 2
   },
   "file_extension": ".py",
   "mimetype": "text/x-python",
   "name": "python",
   "nbconvert_exporter": "python",
   "pygments_lexer": "ipython2",
   "version": "2.7.6"
  }
 },
 "nbformat": 4,
 "nbformat_minor": 0
}
