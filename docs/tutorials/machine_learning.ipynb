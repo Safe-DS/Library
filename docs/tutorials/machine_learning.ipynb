{
 "cells": [
  {
   "cell_type": "markdown",
   "source": [
    "# Machine Learning\n",
    "\n",
    "This tutorial explains how to train a machine learning model in Safe-DS and use it to make predictions.\n",
    "\n",
    "## Create a `TaggedTable`\n",
    "\n",
    "First, we need to create a `TaggedTable` from the training data. `TaggedTable`s are used to train supervised machine learning models, because they keep track of the target\n",
    "column. A `TaggedTable` can be created from a `Table` by calling the `tag_columns` method:"
   ],
   "metadata": {
    "collapsed": false
   }
  },
  {
   "cell_type": "code",
   "execution_count": 10,
   "outputs": [],
   "source": [
    "from safeds.data.tabular.containers import Table\n",
    "\n",
    "training_set = Table({\n",
    "    \"a\":      [3, 4,  8,  6, 5],\n",
    "    \"b\":      [2, 2,  1,  6, 3],\n",
    "    \"c\":      [1, 1,  1,  1, 1],\n",
    "    \"result\": [6, 7, 10, 13, 9]\n",
    "})\n",
    "\n",
    "tagged_table = training_set.tag_columns(\n",
    "    target_name=\"result\"\n",
    ")"
   ],
   "metadata": {
    "collapsed": false,
    "ExecuteTime": {
     "start_time": "2023-06-16T08:16:32.087401Z",
     "end_time": "2023-06-16T08:16:32.113299Z"
    }
   }
  },
  {
   "cell_type": "markdown",
   "source": [
    "## Create and train model\n",
    "\n",
    "In this example, we want to predict the column `result`, which is the sum of `a`, `b`, and `c`. We will train a linear regression model with this training data. In Safe-DS, machine learning models are modeled as classes. First, their constructor must be called to configure hyperparameters, which returns a model object. Then, training is started by calling the `fit` method on the model object and passing the training data:"
   ],
   "metadata": {
    "collapsed": false
   }
  },
  {
   "cell_type": "code",
   "execution_count": 11,
   "outputs": [],
   "source": [
    "from safeds.ml.classical.regression import LinearRegression\n",
    "\n",
    "model = LinearRegression()\n",
    "fitted_model = model.fit(tagged_table)"
   ],
   "metadata": {
    "collapsed": false,
    "ExecuteTime": {
     "start_time": "2023-06-16T08:16:32.099979Z",
     "end_time": "2023-06-16T08:16:32.132401Z"
    }
   }
  },
  {
   "cell_type": "markdown",
   "source": [
    "## Predicting new values\n",
    "\n",
    "The `fit` method returns the fitted model, the original model is **not** changed. Predictions are made by calling the `predict` method on the fitted model. The `predict` method takes a `Table` as input and returns a `Table` with the predictions:"
   ],
   "metadata": {
    "collapsed": false
   }
  },
  {
   "cell_type": "code",
   "execution_count": 12,
   "outputs": [
    {
     "data": {
      "text/plain": "   a  b  c  result\n0  1  2  1     4.0\n1  1  0  4     2.0\n2  0  5  3     6.0\n3  2  2  2     5.0\n4  4  7  1    12.0",
      "text/html": "<div>\n<style scoped>\n    .dataframe tbody tr th:only-of-type {\n        vertical-align: middle;\n    }\n\n    .dataframe tbody tr th {\n        vertical-align: top;\n    }\n\n    .dataframe thead th {\n        text-align: right;\n    }\n</style>\n<table border=\"1\" class=\"dataframe\">\n  <thead>\n    <tr style=\"text-align: right;\">\n      <th></th>\n      <th>a</th>\n      <th>b</th>\n      <th>c</th>\n      <th>result</th>\n    </tr>\n  </thead>\n  <tbody>\n    <tr>\n      <th>0</th>\n      <td>1</td>\n      <td>2</td>\n      <td>1</td>\n      <td>4.0</td>\n    </tr>\n    <tr>\n      <th>1</th>\n      <td>1</td>\n      <td>0</td>\n      <td>4</td>\n      <td>2.0</td>\n    </tr>\n    <tr>\n      <th>2</th>\n      <td>0</td>\n      <td>5</td>\n      <td>3</td>\n      <td>6.0</td>\n    </tr>\n    <tr>\n      <th>3</th>\n      <td>2</td>\n      <td>2</td>\n      <td>2</td>\n      <td>5.0</td>\n    </tr>\n    <tr>\n      <th>4</th>\n      <td>4</td>\n      <td>7</td>\n      <td>1</td>\n      <td>12.0</td>\n    </tr>\n  </tbody>\n</table>\n</div>"
     },
     "execution_count": 12,
     "metadata": {},
     "output_type": "execute_result"
    }
   ],
   "source": [
    "test_set = Table({\n",
    "    \"a\": [1, 1, 0, 2, 4],\n",
    "    \"b\": [2, 0, 5, 2, 7],\n",
    "    \"c\": [1, 4, 3, 2, 1]})\n",
    "\n",
    "fitted_model.predict(dataset=test_set)\n"
   ],
   "metadata": {
    "collapsed": false,
    "ExecuteTime": {
     "start_time": "2023-06-16T08:16:32.117246Z",
     "end_time": "2023-06-16T08:16:32.135057Z"
    }
   }
  },
  {
   "cell_type": "markdown",
   "source": [
    "## Metrics\n",
    "\n",
    "A machine learning metric, also known as an evaluation metric, is a measure used to assess the performance of a machine learning model on a test set or is used during cross-validation to gain insights about performance and compare different models or parameter settings.\n",
    "In `Safe-DS`, the available metrics are: `Accuracy`, `Confusion Matrix`, `F1-Score`, `Precision`, and Recall. Before we go through each of these in detail, we need an understanding of the different `components of evaluation metrics`.\n"
   ],
   "metadata": {
    "collapsed": false
   }
  },
  {
   "cell_type": "markdown",
   "source": [
    "## Components of evaluation metrics\n",
    "\n",
    "These are distinct elements or parts that contribute to the overall assessment of an evaluation measure.\n",
    "* `True positives` TP: the positive tuples that the classifier correctly labeled.\n",
    "* `False positives` FP : the negative tuples that were falsely labeled as positive.\n",
    "* `True negatives` TN: the negative tuples that the classifier correctly labeled.\n",
    "* `False negatives` FN: the positive tuples that were falsely labeled as negative.\n"
   ],
   "metadata": {
    "collapsed": false
   }
  },
  {
   "cell_type": "markdown",
   "source": [
    "## Accuracy\n",
    "Accuracy, also known as `classification rate`, can be defined as the proportion of correctly classified instances out of the total number of instances. Formula: `Accuracy = (TP+TN)/(TP+FP+TN+FN)`.\n",
    "* Accuracy is suitable when the classes are balanced and there is no significant class imbalance.\n",
    "## Confusion Matrix\n",
    "A confusion matrix is a table that is used to define the performance of a classification algorithm.It classifies the predictions to be either true positive, true negative, false positive or false negative.It has no Formula.\n",
    "* It is useful for evaluating the performance of a classification model and understanding the types of errors it makes.\n",
    "## F1-Score\n",
    "The F1-Score is the harmonic mean of precision and recall. Formula: `F1-Score = 2PR/(P+R)`.\n",
    "* The `F1-score` is suitable when there is an imbalance between the classes, especially when the values of the false positives and false negatives differs.\n",
    "## Precision\n",
    "The ability of a classification model to identify only the relevant data points.Formula: `P = TP / (TP+FP)`.\n",
    "* Precision is useful when the focus is on minimizing the negative tuples that were falsely labeled as positive.\n",
    "## Recall\n",
    "Also known as `sensitivity` or `true positive rate`, is the ability of a classification model to identify all the relevant data points.Formula: `R = TP / (TP + FN)`.\n",
    "* Recall is useful when the focus is on minimizing the positive tuples that were falsely labeled as negative..\n"
   ],
   "metadata": {
    "collapsed": false
   }
  },
  {
   "cell_type": "code",
   "execution_count": 12,
   "outputs": [],
   "source": [],
   "metadata": {
    "collapsed": false,
    "ExecuteTime": {
     "start_time": "2023-06-16T08:16:32.125749Z",
     "end_time": "2023-06-16T08:16:32.142861Z"
    }
   }
  }
 ],
 "metadata": {
  "kernelspec": {
   "display_name": "Python 3",
   "language": "python",
   "name": "python3"
  },
  "language_info": {
   "codemirror_mode": {
    "name": "ipython",
    "version": 2
   },
   "file_extension": ".py",
   "mimetype": "text/x-python",
   "name": "python",
   "nbconvert_exporter": "python",
   "pygments_lexer": "ipython2",
   "version": "2.7.6"
  }
 },
 "nbformat": 4,
 "nbformat_minor": 0
}
