{
 "cells": [
  {
   "cell_type": "markdown",
   "metadata": {
    "collapsed": false
   },
   "source": [
    "In this tutorial, we use `safeds` on **Titanic passenger data** to predict who will survive and who will not."
   ]
  },
  {
   "cell_type": "markdown",
   "metadata": {
    "collapsed": false
   },
   "source": [
    "### Load your data into a `Table`\n",
    "- The data is available under `docs/tutorials/data/titanic.csv`:\n"
   ]
  },
  {
   "cell_type": "code",
   "execution_count": 1,
   "metadata": {
    "collapsed": false
   },
   "outputs": [
    {
     "data": {
      "text/html": [
       "<div><style>\n",
       ".dataframe > thead > tr,\n",
       ".dataframe > tbody > tr {\n",
       "  text-align: right;\n",
       "  white-space: pre-wrap;\n",
       "}\n",
       "</style>\n",
       "<small>shape: (5, 12)</small><table border=\"1\" class=\"dataframe\"><thead><tr><th>id</th><th>name</th><th>sex</th><th>age</th><th>siblings_spouses</th><th>parents_children</th><th>ticket</th><th>travel_class</th><th>fare</th><th>cabin</th><th>port_embarked</th><th>survived</th></tr><tr><td>i64</td><td>str</td><td>str</td><td>f64</td><td>i64</td><td>i64</td><td>str</td><td>i64</td><td>f64</td><td>str</td><td>str</td><td>i64</td></tr></thead><tbody><tr><td>0</td><td>&quot;Abbing, Mr. Anthony&quot;</td><td>&quot;male&quot;</td><td>42.0</td><td>0</td><td>0</td><td>&quot;C.A. 5547&quot;</td><td>3</td><td>7.55</td><td>null</td><td>&quot;Southampton&quot;</td><td>0</td></tr><tr><td>1</td><td>&quot;Abbott, Master. Eugene Joseph&quot;</td><td>&quot;male&quot;</td><td>13.0</td><td>0</td><td>2</td><td>&quot;C.A. 2673&quot;</td><td>3</td><td>20.25</td><td>null</td><td>&quot;Southampton&quot;</td><td>0</td></tr><tr><td>2</td><td>&quot;Abbott, Mr. Rossmore Edward&quot;</td><td>&quot;male&quot;</td><td>16.0</td><td>1</td><td>1</td><td>&quot;C.A. 2673&quot;</td><td>3</td><td>20.25</td><td>null</td><td>&quot;Southampton&quot;</td><td>0</td></tr><tr><td>3</td><td>&quot;Abbott, Mrs. Stanton (Rosa Hun…</td><td>&quot;female&quot;</td><td>35.0</td><td>1</td><td>1</td><td>&quot;C.A. 2673&quot;</td><td>3</td><td>20.25</td><td>null</td><td>&quot;Southampton&quot;</td><td>1</td></tr><tr><td>4</td><td>&quot;Abelseth, Miss. Karen Marie&quot;</td><td>&quot;female&quot;</td><td>16.0</td><td>0</td><td>0</td><td>&quot;348125&quot;</td><td>3</td><td>7.65</td><td>null</td><td>&quot;Southampton&quot;</td><td>1</td></tr></tbody></table></div>"
      ],
      "text/plain": [
       "+-----+----------------------+--------+----------+---+----------+-------+---------------+----------+\n",
       "|  id | name                 | sex    |      age | … |     fare | cabin | port_embarked | survived |\n",
       "| --- | ---                  | ---    |      --- |   |      --- | ---   |           --- |      --- |\n",
       "| i64 | str                  | str    |      f64 |   |      f64 | str   |           str |      i64 |\n",
       "+==================================================================================================+\n",
       "|   0 | Abbing, Mr. Anthony  | male   | 42.00000 | … |  7.55000 | null  |   Southampton |        0 |\n",
       "|   1 | Abbott, Master.      | male   | 13.00000 | … | 20.25000 | null  |   Southampton |        0 |\n",
       "|     | Eugene Joseph        |        |          |   |          |       |               |          |\n",
       "|   2 | Abbott, Mr. Rossmore | male   | 16.00000 | … | 20.25000 | null  |   Southampton |        0 |\n",
       "|     | Edward               |        |          |   |          |       |               |          |\n",
       "|   3 | Abbott, Mrs. Stanton | female | 35.00000 | … | 20.25000 | null  |   Southampton |        1 |\n",
       "|     | (Rosa Hun…           |        |          |   |          |       |               |          |\n",
       "|   4 | Abelseth, Miss.      | female | 16.00000 | … |  7.65000 | null  |   Southampton |        1 |\n",
       "|     | Karen Marie          |        |          |   |          |       |               |          |\n",
       "+-----+----------------------+--------+----------+---+----------+-------+---------------+----------+"
      ]
     },
     "execution_count": 1,
     "metadata": {},
     "output_type": "execute_result"
    }
   ],
   "source": [
    "from safeds.data.tabular.containers import Table\n",
    "\n",
    "raw_data = Table.from_csv_file(\"data/titanic.csv\")\n",
    "#For visualisation purposes we only print out the first 15 rows.\n",
    "raw_data.slice_rows(0, 5)"
   ]
  },
  {
   "cell_type": "markdown",
   "metadata": {},
   "source": [
    "### Removing olumns with high idness / stability / missing value ratio"
   ]
  },
  {
   "cell_type": "code",
   "execution_count": 2,
   "metadata": {},
   "outputs": [
    {
     "data": {
      "text/html": [
       "<div><style>\n",
       ".dataframe > thead > tr,\n",
       ".dataframe > tbody > tr {\n",
       "  text-align: right;\n",
       "  white-space: pre-wrap;\n",
       "}\n",
       "</style>\n",
       "<small>shape: (9, 13)</small><table border=\"1\" class=\"dataframe\"><thead><tr><th>metric</th><th>id</th><th>name</th><th>sex</th><th>age</th><th>siblings_spouses</th><th>parents_children</th><th>ticket</th><th>travel_class</th><th>fare</th><th>cabin</th><th>port_embarked</th><th>survived</th></tr><tr><td>str</td><td>f64</td><td>str</td><td>str</td><td>f64</td><td>f64</td><td>f64</td><td>str</td><td>f64</td><td>f64</td><td>str</td><td>str</td><td>f64</td></tr></thead><tbody><tr><td>&quot;min&quot;</td><td>0.0</td><td>&quot;Abbing, Mr. Anthony&quot;</td><td>&quot;female&quot;</td><td>0.1667</td><td>0.0</td><td>0.0</td><td>&quot;110152&quot;</td><td>1.0</td><td>0.0</td><td>&quot;A10&quot;</td><td>&quot;Cherbourg&quot;</td><td>0.0</td></tr><tr><td>&quot;max&quot;</td><td>1308.0</td><td>&quot;van Melkebeke, Mr. Philemon&quot;</td><td>&quot;male&quot;</td><td>80.0</td><td>8.0</td><td>9.0</td><td>&quot;WE/P 5735&quot;</td><td>3.0</td><td>512.3292</td><td>&quot;T&quot;</td><td>&quot;Southampton&quot;</td><td>1.0</td></tr><tr><td>&quot;mean&quot;</td><td>654.0</td><td>&quot;-&quot;</td><td>&quot;-&quot;</td><td>29.881135</td><td>0.498854</td><td>0.385027</td><td>&quot;-&quot;</td><td>2.294882</td><td>33.295479</td><td>&quot;-&quot;</td><td>&quot;-&quot;</td><td>0.381971</td></tr><tr><td>&quot;median&quot;</td><td>654.0</td><td>&quot;-&quot;</td><td>&quot;-&quot;</td><td>28.0</td><td>0.0</td><td>0.0</td><td>&quot;-&quot;</td><td>3.0</td><td>14.4542</td><td>&quot;-&quot;</td><td>&quot;-&quot;</td><td>0.0</td></tr><tr><td>&quot;standard deviation&quot;</td><td>378.020061</td><td>&quot;-&quot;</td><td>&quot;-&quot;</td><td>14.4135</td><td>1.041658</td><td>0.86556</td><td>&quot;-&quot;</td><td>0.837836</td><td>51.758668</td><td>&quot;-&quot;</td><td>&quot;-&quot;</td><td>0.486055</td></tr><tr><td>&quot;distinct value count&quot;</td><td>1309.0</td><td>&quot;1307&quot;</td><td>&quot;2&quot;</td><td>98.0</td><td>7.0</td><td>8.0</td><td>&quot;929&quot;</td><td>3.0</td><td>281.0</td><td>&quot;186&quot;</td><td>&quot;3&quot;</td><td>2.0</td></tr><tr><td>&quot;idness&quot;</td><td>1.0</td><td>&quot;0.998472116119175&quot;</td><td>&quot;0.0015278838808250573&quot;</td><td>0.07563</td><td>0.005348</td><td>0.006112</td><td>&quot;0.7097020626432391&quot;</td><td>0.002292</td><td>0.215432</td><td>&quot;0.14285714285714285&quot;</td><td>&quot;0.0030557677616501145&quot;</td><td>0.001528</td></tr><tr><td>&quot;missing value ratio&quot;</td><td>0.0</td><td>&quot;0.0&quot;</td><td>&quot;0.0&quot;</td><td>0.200917</td><td>0.0</td><td>0.0</td><td>&quot;0.0&quot;</td><td>0.0</td><td>0.000764</td><td>&quot;0.774637127578304&quot;</td><td>&quot;0.0015278838808250573&quot;</td><td>0.0</td></tr><tr><td>&quot;stability&quot;</td><td>0.000764</td><td>&quot;0.0015278838808250573&quot;</td><td>&quot;0.6440030557677616&quot;</td><td>0.044933</td><td>0.680672</td><td>0.76547</td><td>&quot;0.008403361344537815&quot;</td><td>0.541635</td><td>0.045872</td><td>&quot;0.020338983050847456&quot;</td><td>&quot;0.6993114001530222&quot;</td><td>0.618029</td></tr></tbody></table></div>"
      ],
      "text/plain": [
       "+-----------+-----------+-----------+-----------+---+-----------+-----------+-----------+----------+\n",
       "| metric    |        id | name      | sex       | … |      fare |     cabin | port_emba | survived |\n",
       "| ---       |       --- | ---       | ---       |   |       --- |       --- | rked      |      --- |\n",
       "| str       |       f64 | str       | str       |   |       f64 |       str | ---       |      f64 |\n",
       "|           |           |           |           |   |           |           | str       |          |\n",
       "+==================================================================================================+\n",
       "| min       |   0.00000 | Abbing,   | female    | … |   0.00000 |       A10 | Cherbourg |  0.00000 |\n",
       "|           |           | Mr.       |           |   |           |           |           |          |\n",
       "|           |           | Anthony   |           |   |           |           |           |          |\n",
       "| max       | 1308.0000 | van Melke | male      | … | 512.32920 |         T | Southampt |  1.00000 |\n",
       "|           |         0 | beke, Mr. |           |   |           |           | on        |          |\n",
       "|           |           | Philemon  |           |   |           |           |           |          |\n",
       "| mean      | 654.00000 | -         | -         | … |  33.29548 |         - | -         |  0.38197 |\n",
       "| median    | 654.00000 | -         | -         | … |  14.45420 |         - | -         |  0.00000 |\n",
       "| standard  | 378.02006 | -         | -         | … |  51.75867 |         - | -         |  0.48606 |\n",
       "| deviation |           |           |           |   |           |           |           |          |\n",
       "| distinct  | 1309.0000 | 1307      | 2         | … | 281.00000 |       186 | 3         |  2.00000 |\n",
       "| value     |         0 |           |           |   |           |           |           |          |\n",
       "| count     |           |           |           |   |           |           |           |          |\n",
       "| idness    |   1.00000 | 0.9984721 | 0.0015278 | … |   0.21543 | 0.1428571 | 0.0030557 |  0.00153 |\n",
       "|           |           | 16119175  | 838808250 |   |           | 428571428 | 677616501 |          |\n",
       "|           |           |           | 573       |   |           |         5 | 145       |          |\n",
       "| missing   |   0.00000 | 0.0       | 0.0       | … |   0.00076 | 0.7746371 | 0.0015278 |  0.00000 |\n",
       "| value     |           |           |           |   |           |  27578304 | 838808250 |          |\n",
       "| ratio     |           |           |           |   |           |           | 573       |          |\n",
       "| stability |   0.00076 | 0.0015278 | 0.6440030 | … |   0.04587 | 0.0203389 | 0.6993114 |  0.61803 |\n",
       "|           |           | 838808250 | 557677616 |   |           | 830508474 | 001530222 |          |\n",
       "|           |           | 573       |           |   |           |        56 |           |          |\n",
       "+-----------+-----------+-----------+-----------+---+-----------+-----------+-----------+----------+"
      ]
     },
     "execution_count": 2,
     "metadata": {},
     "output_type": "execute_result"
    }
   ],
   "source": [
    "raw_data.summarize_statistics()"
   ]
  },
  {
   "cell_type": "markdown",
   "metadata": {},
   "source": [
    "We remove certain columns for the following reasons:\n",
    "1. **high idness**: `name`, `id` , `ticket`\n",
    "2. **high stability**: `parents_children` \n",
    "3. **high missing value ratio**: `cabin`"
   ]
  },
  {
   "cell_type": "code",
   "execution_count": 3,
   "metadata": {},
   "outputs": [],
   "source": [
    "raw_data = raw_data.remove_columns([\"name\",\"id\",\"ticket\", \"parents_children\", \"cabin\"])"
   ]
  },
  {
   "cell_type": "markdown",
   "metadata": {},
   "source": [
    "### Imputing columns `age` and `fare`\n",
    "We fill in missing values in the `age` and `fare` columns with the mean of each column\n"
   ]
  },
  {
   "cell_type": "code",
   "execution_count": 4,
   "metadata": {},
   "outputs": [],
   "source": [
    "from safeds.data.tabular.transformation import SimpleImputer\n",
    "\n",
    "simple_transformer = SimpleImputer(column_names=[\"age\",\"fare\"],strategy=SimpleImputer.Strategy.mean())\n",
    "_, transformed_raw_data = simple_transformer.fit_and_transform(raw_data)"
   ]
  },
  {
   "cell_type": "markdown",
   "metadata": {
    "collapsed": false
   },
   "source": [
    "### Using `OneHotEncoder` to create an encoder and fit and transform the table\n",
    "We use `OneHotEncoder` to transform categorical, non-numerical values into numerical representations with values of zero or one. In this example, we will transform the values of the `sex` column, so they can be used in the model to predict passenger survival.\n",
    "- Use the `fit_and_transform` function of the `OneHotEncoder` to pass the table and the column names to be used as features for the prediction."
   ]
  },
  {
   "cell_type": "code",
   "execution_count": 5,
   "metadata": {
    "collapsed": false
   },
   "outputs": [],
   "source": [
    "from safeds.data.tabular.transformation import OneHotEncoder\n",
    "\n",
    "one_hot_encoder = OneHotEncoder(column_names=[\"sex\", \"port_embarked\"])\n",
    "transformer_one_hot_encoder, transformed_raw_data = one_hot_encoder.fit_and_transform(transformed_raw_data)"
   ]
  },
  {
   "cell_type": "markdown",
   "metadata": {},
   "source": [
    "### Reverse transforming `transformed_raw_data`"
   ]
  },
  {
   "cell_type": "code",
   "execution_count": 6,
   "metadata": {},
   "outputs": [],
   "source": [
    "reverse_transfromed_raw_data = transformed_raw_data.inverse_transform_table(transformer_one_hot_encoder)"
   ]
  },
  {
   "cell_type": "markdown",
   "metadata": {},
   "source": [
    "### Satistics after imputing / removing / encoding\n",
    "Check the data after cleaning and transformation to ensure the changes were made correctly.\n"
   ]
  },
  {
   "cell_type": "code",
   "execution_count": 7,
   "metadata": {},
   "outputs": [
    {
     "data": {
      "text/html": [
       "<div><style>\n",
       ".dataframe > thead > tr,\n",
       ".dataframe > tbody > tr {\n",
       "  text-align: right;\n",
       "  white-space: pre-wrap;\n",
       "}\n",
       "</style>\n",
       "<small>shape: (9, 11)</small><table border=\"1\" class=\"dataframe\"><thead><tr><th>metric</th><th>age</th><th>siblings_spouses</th><th>travel_class</th><th>fare</th><th>survived</th><th>sex__male</th><th>sex__female</th><th>port_embarked__Southampton</th><th>port_embarked__Cherbourg</th><th>port_embarked__Queenstown</th></tr><tr><td>str</td><td>f64</td><td>f64</td><td>f64</td><td>f64</td><td>f64</td><td>f64</td><td>f64</td><td>f64</td><td>f64</td><td>f64</td></tr></thead><tbody><tr><td>&quot;min&quot;</td><td>0.1667</td><td>0.0</td><td>1.0</td><td>0.0</td><td>0.0</td><td>0.0</td><td>0.0</td><td>0.0</td><td>0.0</td><td>0.0</td></tr><tr><td>&quot;max&quot;</td><td>80.0</td><td>8.0</td><td>3.0</td><td>512.3292</td><td>1.0</td><td>1.0</td><td>1.0</td><td>1.0</td><td>1.0</td><td>1.0</td></tr><tr><td>&quot;mean&quot;</td><td>29.881135</td><td>0.498854</td><td>2.294882</td><td>33.295479</td><td>0.381971</td><td>0.644003</td><td>0.355997</td><td>0.698243</td><td>0.206264</td><td>0.093965</td></tr><tr><td>&quot;median&quot;</td><td>29.881135</td><td>0.0</td><td>3.0</td><td>14.4542</td><td>0.0</td><td>1.0</td><td>0.0</td><td>1.0</td><td>0.0</td><td>0.0</td></tr><tr><td>&quot;standard deviation&quot;</td><td>12.883199</td><td>1.041658</td><td>0.837836</td><td>51.738879</td><td>0.486055</td><td>0.478997</td><td>0.478997</td><td>0.459196</td><td>0.404777</td><td>0.291891</td></tr><tr><td>&quot;distinct value count&quot;</td><td>99.0</td><td>7.0</td><td>3.0</td><td>282.0</td><td>2.0</td><td>2.0</td><td>2.0</td><td>2.0</td><td>2.0</td><td>2.0</td></tr><tr><td>&quot;idness&quot;</td><td>0.07563</td><td>0.005348</td><td>0.002292</td><td>0.215432</td><td>0.001528</td><td>0.001528</td><td>0.001528</td><td>0.001528</td><td>0.001528</td><td>0.001528</td></tr><tr><td>&quot;missing value ratio&quot;</td><td>0.0</td><td>0.0</td><td>0.0</td><td>0.0</td><td>0.0</td><td>0.0</td><td>0.0</td><td>0.0</td><td>0.0</td><td>0.0</td></tr><tr><td>&quot;stability&quot;</td><td>0.200917</td><td>0.680672</td><td>0.541635</td><td>0.045837</td><td>0.618029</td><td>0.644003</td><td>0.644003</td><td>0.698243</td><td>0.793736</td><td>0.906035</td></tr></tbody></table></div>"
      ],
      "text/plain": [
       "+-----------+----------+-----------+-----------+---+-----------+-----------+-----------+-----------+\n",
       "| metric    |      age | siblings_ | travel_cl | … | sex__fema | port_emba | port_emba | port_emba |\n",
       "| ---       |      --- |   spouses |       ass |   |        le | rked__Sou | rked__Che | rked__Que |\n",
       "| str       |      f64 |       --- |       --- |   |       --- |  thampton |    rbourg |   enstown |\n",
       "|           |          |       f64 |       f64 |   |       f64 |       --- |       --- |       --- |\n",
       "|           |          |           |           |   |           |       f64 |       f64 |       f64 |\n",
       "+==================================================================================================+\n",
       "| min       |  0.16670 |   0.00000 |   1.00000 | … |   0.00000 |   0.00000 |   0.00000 |   0.00000 |\n",
       "| max       | 80.00000 |   8.00000 |   3.00000 | … |   1.00000 |   1.00000 |   1.00000 |   1.00000 |\n",
       "| mean      | 29.88113 |   0.49885 |   2.29488 | … |   0.35600 |   0.69824 |   0.20626 |   0.09396 |\n",
       "| median    | 29.88113 |   0.00000 |   3.00000 | … |   0.00000 |   1.00000 |   0.00000 |   0.00000 |\n",
       "| standard  | 12.88320 |   1.04166 |   0.83784 | … |   0.47900 |   0.45920 |   0.40478 |   0.29189 |\n",
       "| deviation |          |           |           |   |           |           |           |           |\n",
       "| distinct  | 99.00000 |   7.00000 |   3.00000 | … |   2.00000 |   2.00000 |   2.00000 |   2.00000 |\n",
       "| value     |          |           |           |   |           |           |           |           |\n",
       "| count     |          |           |           |   |           |           |           |           |\n",
       "| idness    |  0.07563 |   0.00535 |   0.00229 | … |   0.00153 |   0.00153 |   0.00153 |   0.00153 |\n",
       "| missing   |  0.00000 |   0.00000 |   0.00000 | … |   0.00000 |   0.00000 |   0.00000 |   0.00000 |\n",
       "| value     |          |           |           |   |           |           |           |           |\n",
       "| ratio     |          |           |           |   |           |           |           |           |\n",
       "| stability |  0.20092 |   0.68067 |   0.54163 | … |   0.64400 |   0.69824 |   0.79374 |   0.90604 |\n",
       "+-----------+----------+-----------+-----------+---+-----------+-----------+-----------+-----------+"
      ]
     },
     "execution_count": 7,
     "metadata": {},
     "output_type": "execute_result"
    }
   ],
   "source": [
    "transformed_raw_data.summarize_statistics()"
   ]
  },
  {
   "cell_type": "markdown",
   "metadata": {},
   "source": [
    "### Spliting the `raw_data` into train and test sets\n",
    "- **Training set**: Contains 60% of the data and will be used to train the model.\n",
    "- **Testing set**: Contains 40% of the data and will be used to test the model's accuracy."
   ]
  },
  {
   "cell_type": "code",
   "execution_count": 8,
   "metadata": {},
   "outputs": [],
   "source": [
    "train_table, test_table = transformed_raw_data.shuffle_rows().split_rows(0.6)"
   ]
  },
  {
   "cell_type": "markdown",
   "metadata": {
    "collapsed": false
   },
   "source": [
    "### Mark the `survived` column as the target variable to be predicted"
   ]
  },
  {
   "cell_type": "code",
   "execution_count": 9,
   "metadata": {
    "collapsed": false
   },
   "outputs": [],
   "source": [
    "tagged_train_table = train_table.to_tabular_dataset(\"survived\")"
   ]
  },
  {
   "cell_type": "markdown",
   "metadata": {
    "collapsed": false
   },
   "source": [
    "## Using `RandomForest` classifier as a model for classification\n",
    "We use the `RandomForest` classifier as our model and pass the training dataset to the model's `fit` function to train it."
   ]
  },
  {
   "cell_type": "code",
   "execution_count": 10,
   "metadata": {
    "collapsed": false
   },
   "outputs": [],
   "source": [
    "from safeds.ml.classical.classification import RandomForestClassifier\n",
    "\n",
    "classifier = RandomForestClassifier()\n",
    "fitted_classifier= classifier.fit(tagged_train_table)"
   ]
  },
  {
   "cell_type": "markdown",
   "metadata": {
    "collapsed": false
   },
   "source": [
    "### Using the trained random forest model to predict survival\n",
    "Use the trained `RandomForest` model to predict the survival rate of passengers in the test dataset.\n",
    "Pass the `test_table` into the `predict` function, which uses our trained model for prediction."
   ]
  },
  {
   "cell_type": "code",
   "execution_count": 11,
   "metadata": {
    "collapsed": false
   },
   "outputs": [
    {
     "data": {
      "text/html": [
       "<div><style>\n",
       ".dataframe > thead > tr,\n",
       ".dataframe > tbody > tr {\n",
       "  text-align: right;\n",
       "  white-space: pre-wrap;\n",
       "}\n",
       "</style>\n",
       "<small>shape: (15, 10)</small><table border=\"1\" class=\"dataframe\"><thead><tr><th>age</th><th>siblings_spouses</th><th>travel_class</th><th>fare</th><th>sex__male</th><th>sex__female</th><th>port_embarked__Southampton</th><th>port_embarked__Cherbourg</th><th>port_embarked__Queenstown</th><th>survived</th></tr><tr><td>f64</td><td>i64</td><td>i64</td><td>f64</td><td>u8</td><td>u8</td><td>u8</td><td>u8</td><td>u8</td><td>i64</td></tr></thead><tbody><tr><td>45.0</td><td>0</td><td>2</td><td>30.0</td><td>0</td><td>1</td><td>1</td><td>0</td><td>0</td><td>1</td></tr><tr><td>29.881135</td><td>0</td><td>3</td><td>7.8958</td><td>1</td><td>0</td><td>0</td><td>1</td><td>0</td><td>0</td></tr><tr><td>29.881135</td><td>0</td><td>3</td><td>8.05</td><td>1</td><td>0</td><td>1</td><td>0</td><td>0</td><td>0</td></tr><tr><td>29.881135</td><td>0</td><td>3</td><td>7.75</td><td>1</td><td>0</td><td>0</td><td>0</td><td>1</td><td>0</td></tr><tr><td>4.0</td><td>0</td><td>3</td><td>22.025</td><td>0</td><td>1</td><td>1</td><td>0</td><td>0</td><td>0</td></tr><tr><td>&hellip;</td><td>&hellip;</td><td>&hellip;</td><td>&hellip;</td><td>&hellip;</td><td>&hellip;</td><td>&hellip;</td><td>&hellip;</td><td>&hellip;</td><td>&hellip;</td></tr><tr><td>29.0</td><td>0</td><td>3</td><td>7.875</td><td>1</td><td>0</td><td>1</td><td>0</td><td>0</td><td>0</td></tr><tr><td>44.0</td><td>0</td><td>3</td><td>8.05</td><td>1</td><td>0</td><td>1</td><td>0</td><td>0</td><td>0</td></tr><tr><td>48.0</td><td>0</td><td>3</td><td>7.8542</td><td>1</td><td>0</td><td>1</td><td>0</td><td>0</td><td>0</td></tr><tr><td>21.0</td><td>0</td><td>1</td><td>77.2875</td><td>1</td><td>0</td><td>1</td><td>0</td><td>0</td><td>0</td></tr><tr><td>56.0</td><td>0</td><td>1</td><td>30.6958</td><td>1</td><td>0</td><td>0</td><td>1</td><td>0</td><td>0</td></tr></tbody></table></div>"
      ],
      "text/plain": [
       "+----------+------------+------------+----------+---+-----------+-----------+-----------+----------+\n",
       "|      age | siblings_s | travel_cla |     fare | … | port_emba | port_emba | port_emba | survived |\n",
       "|      --- |     pouses |         ss |      --- |   | rked__Sou | rked__Che | rked__Que |      --- |\n",
       "|      f64 |        --- |        --- |      f64 |   |  thampton |    rbourg |   enstown |      i64 |\n",
       "|          |        i64 |        i64 |          |   |       --- |       --- |       --- |          |\n",
       "|          |            |            |          |   |        u8 |        u8 |        u8 |          |\n",
       "+==================================================================================================+\n",
       "| 45.00000 |          0 |          2 | 30.00000 | … |         1 |         0 |         0 |        1 |\n",
       "| 29.88113 |          0 |          3 |  7.89580 | … |         0 |         1 |         0 |        0 |\n",
       "| 29.88113 |          0 |          3 |  8.05000 | … |         1 |         0 |         0 |        0 |\n",
       "| 29.88113 |          0 |          3 |  7.75000 | … |         0 |         0 |         1 |        0 |\n",
       "|  4.00000 |          0 |          3 | 22.02500 | … |         1 |         0 |         0 |        0 |\n",
       "|        … |          … |          … |        … | … |         … |         … |         … |        … |\n",
       "| 29.00000 |          0 |          3 |  7.87500 | … |         1 |         0 |         0 |        0 |\n",
       "| 44.00000 |          0 |          3 |  8.05000 | … |         1 |         0 |         0 |        0 |\n",
       "| 48.00000 |          0 |          3 |  7.85420 | … |         1 |         0 |         0 |        0 |\n",
       "| 21.00000 |          0 |          1 | 77.28750 | … |         1 |         0 |         0 |        0 |\n",
       "| 56.00000 |          0 |          1 | 30.69580 | … |         0 |         1 |         0 |        0 |\n",
       "+----------+------------+------------+----------+---+-----------+-----------+-----------+----------+"
      ]
     },
     "execution_count": 11,
     "metadata": {},
     "output_type": "execute_result"
    }
   ],
   "source": [
    "prediction = fitted_classifier.predict(test_table)\n",
    "#For visualisation purposes we only print out the first 15 rows.\n",
    "prediction.to_table().slice_rows(start=0, length=15)"
   ]
  },
  {
   "cell_type": "markdown",
   "metadata": {
    "collapsed": false
   },
   "source": [
    "### Testing the accuracy of the model"
   ]
  },
  {
   "cell_type": "code",
   "execution_count": 12,
   "metadata": {
    "collapsed": false
   },
   "outputs": [
    {
     "data": {
      "text/plain": [
       "0.7938931297709924"
      ]
     },
     "execution_count": 12,
     "metadata": {},
     "output_type": "execute_result"
    }
   ],
   "source": [
    "test_tabular_dataset = test_table.to_tabular_dataset(\"survived\")\n",
    "fitted_classifier.accuracy(test_tabular_dataset)"
   ]
  }
 ],
 "metadata": {
  "kernelspec": {
   "display_name": "Python 3",
   "language": "python",
   "name": "python3"
  },
  "language_info": {
   "codemirror_mode": {
    "name": "ipython",
    "version": 3
   },
   "file_extension": ".py",
   "mimetype": "text/x-python",
   "name": "python",
   "nbconvert_exporter": "python",
   "pygments_lexer": "ipython3",
   "version": "3.12.3"
  }
 },
 "nbformat": 4,
 "nbformat_minor": 0
}
