{
 "cells": [
  {
   "cell_type": "markdown",
   "source": [
    "# Classification\n",
    "\n",
    "This tutorial uses safeds on **titanic passenger data** to predict who will survive and who will not, using sex as a feature for the prediction.\n"
   ],
   "metadata": {
    "collapsed": false
   }
  },
  {
   "cell_type": "markdown",
   "source": [
    "1. Load your data into a `Table`, the data is available under `docs/tutorials/data/titanic.csv`:\n"
   ],
   "metadata": {
    "collapsed": false
   }
  },
  {
   "cell_type": "code",
   "execution_count": null,
   "outputs": [],
   "source": [
    "from safeds.data.tabular.containers import Table\n",
    "\n",
    "titanic = Table.from_csv_file(\"data/titanic.csv\")\n",
    "#For visualisation purposes we only print out the first 15 rows.\n",
    "titanic.slice_rows(0, 15)"
   ],
   "metadata": {
    "collapsed": false
   }
  },
  {
   "cell_type": "markdown",
   "source": [
    "2. Split the titanic dataset into two tables. A training set, that we will use later to implement a training model to predict the survival of passengers, containing 60% of the data, and a testing set containing the rest of the data.\n",
    "Delete the column `survived` from the test set, to be able to predict it later:"
   ],
   "metadata": {
    "collapsed": false
   }
  },
  {
   "cell_type": "code",
   "execution_count": null,
   "outputs": [],
   "source": [
    "train_table, testing_table = titanic.split_rows(0.6)\n",
    "\n",
    "test_table = testing_table.remove_columns([\"survived\"]).shuffle_rows()"
   ],
   "metadata": {
    "collapsed": false
   }
  },
  {
   "cell_type": "markdown",
   "source": [
    "3. Use `OneHotEncoder` to create an encoder, that will be used later to transform the training table.\n",
    "* We use `OneHotEncoder` to transform non-numerical categorical values into numerical representations with values of zero or one. In this example we will transform the values of the sex column, hence they will be used in the model for predicting the surviving of passengers.\n",
    "* Use the `fit` function of the `OneHotEncoder` to pass the table and the column names, that will be used as features to predict who will survive to the encoder.\n",
    "* The names of the column before transformation need to be saved, because `OneHotEncoder` changes the names of the fitted `Column`s:\n"
   ],
   "metadata": {
    "collapsed": false
   }
  },
  {
   "cell_type": "code",
   "execution_count": null,
   "outputs": [],
   "source": [
    "from safeds.data.tabular.transformation import OneHotEncoder\n",
    "\n",
    "encoder = OneHotEncoder().fit(train_table, [\"sex\"])"
   ],
   "metadata": {
    "collapsed": false
   }
  },
  {
   "cell_type": "markdown",
   "source": [
    "4. Transform the training table using the fitted encoder, and create a set with the new names of the fitted `Column`s:\n"
   ],
   "metadata": {
    "collapsed": false
   }
  },
  {
   "cell_type": "code",
   "execution_count": null,
   "outputs": [],
   "source": "transformed_table = encoder.transform(train_table)",
   "metadata": {
    "collapsed": false
   }
  },
  {
   "cell_type": "markdown",
   "source": "5. Mark the `survived` `Column` as the target variable to be predicted. Include some columns only as extra columns, which are completely ignored by the model:",
   "metadata": {
    "collapsed": false
   }
  },
  {
   "cell_type": "code",
   "execution_count": null,
   "outputs": [],
   "source": [
    "extra_names = [\"id\", \"name\", \"ticket\", \"cabin\", \"port_embarked\", \"age\", \"fare\"]\n",
    "\n",
    "train_tabular_dataset = transformed_table.to_tabular_dataset(\"survived\", extra_names)"
   ],
   "metadata": {
    "collapsed": false
   }
  },
  {
   "cell_type": "markdown",
   "source": "6. Use `RandomForest` classifier as a model for the classification. Pass the \"train_tabular_dataset\" table to the fit function of the model:",
   "metadata": {
    "collapsed": false
   }
  },
  {
   "cell_type": "code",
   "execution_count": null,
   "outputs": [],
   "source": [
    "from safeds.ml.classical.classification import RandomForestClassifier\n",
    "\n",
    "model = RandomForestClassifier()\n",
    "fitted_model= model.fit(train_tabular_dataset)"
   ],
   "metadata": {
    "collapsed": false
   }
  },
  {
   "cell_type": "markdown",
   "source": [
    "7. Use the fitted random forest model, that we trained on the training dataset to predict the survival rate of passengers in the test dataset.\n",
    "Transform the test data with `OneHotEncoder` first, to be able to pass it to the predict function, that uses our fitted random forest model for prediction:"
   ],
   "metadata": {
    "collapsed": false
   }
  },
  {
   "cell_type": "code",
   "execution_count": null,
   "outputs": [],
   "source": [
    "encoder = OneHotEncoder().fit(test_table, [\"sex\"])\n",
    "transformed_test_table = encoder.transform(test_table)\n",
    "\n",
    "prediction = fitted_model.predict(\n",
    "    transformed_test_table\n",
    ")\n",
    "#For visualisation purposes we only print out the first 15 rows.\n",
    "prediction.to_table().slice_rows(start=0, end=15)"
   ],
   "metadata": {
    "collapsed": false
   }
  },
  {
   "cell_type": "markdown",
   "source": [
    "8. You can test the accuracy of that model with the initial testing_table as follows:"
   ],
   "metadata": {
    "collapsed": false
   }
  },
  {
   "cell_type": "code",
   "execution_count": null,
   "outputs": [],
   "source": [
    "encoder = OneHotEncoder().fit(test_table, [\"sex\"])\n",
    "testing_table = encoder.transform(testing_table)\n",
    "\n",
    "test_tabular_dataset = testing_table.to_tabular_dataset(\"survived\", extra_names)\n",
    "fitted_model.accuracy(test_tabular_dataset)\n"
   ],
   "metadata": {
    "collapsed": false
   }
  }
 ],
 "metadata": {
  "kernelspec": {
   "display_name": "Python 3",
   "language": "python",
   "name": "python3"
  },
  "language_info": {
   "codemirror_mode": {
    "name": "ipython",
    "version": 2
   },
   "file_extension": ".py",
   "mimetype": "text/x-python",
   "name": "python",
   "nbconvert_exporter": "python",
   "pygments_lexer": "ipython2",
   "version": "2.7.6"
  }
 },
 "nbformat": 4,
 "nbformat_minor": 0
}
