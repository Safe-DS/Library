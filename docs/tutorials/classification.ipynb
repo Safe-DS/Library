{
 "cells": [
  {
   "cell_type": "markdown",
   "metadata": {
    "collapsed": false
   },
   "source": [
    "# Classification\n",
    "\n",
    "This tutorial uses safeds on **titanic passenger data** to predict who will survive and who will not, using sex as a feature for the prediction.\n"
   ]
  },
  {
   "cell_type": "markdown",
   "metadata": {
    "collapsed": false
   },
   "source": [
    "1. Load your data into a `Table`, the data is available under `docs/tutorials/data/titanic.csv`:\n"
   ]
  },
  {
   "cell_type": "code",
   "execution_count": 71,
   "metadata": {
    "collapsed": false
   },
   "outputs": [
    {
     "data": {
      "text/html": [
       "<div><style>\n",
       ".dataframe > thead > tr,\n",
       ".dataframe > tbody > tr {\n",
       "  text-align: right;\n",
       "  white-space: pre-wrap;\n",
       "}\n",
       "</style>\n",
       "<small>shape: (15, 12)</small><table border=\"1\" class=\"dataframe\"><thead><tr><th>id</th><th>name</th><th>sex</th><th>age</th><th>siblings_spouses</th><th>parents_children</th><th>ticket</th><th>travel_class</th><th>fare</th><th>cabin</th><th>port_embarked</th><th>survived</th></tr><tr><td>i64</td><td>str</td><td>str</td><td>f64</td><td>i64</td><td>i64</td><td>str</td><td>i64</td><td>f64</td><td>str</td><td>str</td><td>i64</td></tr></thead><tbody><tr><td>0</td><td>&quot;Abbing, Mr. Anthony&quot;</td><td>&quot;male&quot;</td><td>42.0</td><td>0</td><td>0</td><td>&quot;C.A. 5547&quot;</td><td>3</td><td>7.55</td><td>null</td><td>&quot;Southampton&quot;</td><td>0</td></tr><tr><td>1</td><td>&quot;Abbott, Master. Eugene Joseph&quot;</td><td>&quot;male&quot;</td><td>13.0</td><td>0</td><td>2</td><td>&quot;C.A. 2673&quot;</td><td>3</td><td>20.25</td><td>null</td><td>&quot;Southampton&quot;</td><td>0</td></tr><tr><td>2</td><td>&quot;Abbott, Mr. Rossmore Edward&quot;</td><td>&quot;male&quot;</td><td>16.0</td><td>1</td><td>1</td><td>&quot;C.A. 2673&quot;</td><td>3</td><td>20.25</td><td>null</td><td>&quot;Southampton&quot;</td><td>0</td></tr><tr><td>3</td><td>&quot;Abbott, Mrs. Stanton (Rosa Hun…</td><td>&quot;female&quot;</td><td>35.0</td><td>1</td><td>1</td><td>&quot;C.A. 2673&quot;</td><td>3</td><td>20.25</td><td>null</td><td>&quot;Southampton&quot;</td><td>1</td></tr><tr><td>4</td><td>&quot;Abelseth, Miss. Karen Marie&quot;</td><td>&quot;female&quot;</td><td>16.0</td><td>0</td><td>0</td><td>&quot;348125&quot;</td><td>3</td><td>7.65</td><td>null</td><td>&quot;Southampton&quot;</td><td>1</td></tr><tr><td>&hellip;</td><td>&hellip;</td><td>&hellip;</td><td>&hellip;</td><td>&hellip;</td><td>&hellip;</td><td>&hellip;</td><td>&hellip;</td><td>&hellip;</td><td>&hellip;</td><td>&hellip;</td><td>&hellip;</td></tr><tr><td>10</td><td>&quot;Adahl, Mr. Mauritz Nils Martin&quot;</td><td>&quot;male&quot;</td><td>30.0</td><td>0</td><td>0</td><td>&quot;C 7076&quot;</td><td>3</td><td>7.25</td><td>null</td><td>&quot;Southampton&quot;</td><td>0</td></tr><tr><td>11</td><td>&quot;Adams, Mr. John&quot;</td><td>&quot;male&quot;</td><td>26.0</td><td>0</td><td>0</td><td>&quot;341826&quot;</td><td>3</td><td>8.05</td><td>null</td><td>&quot;Southampton&quot;</td><td>0</td></tr><tr><td>12</td><td>&quot;Ahlin, Mrs. Johan (Johanna Per…</td><td>&quot;female&quot;</td><td>40.0</td><td>1</td><td>0</td><td>&quot;7546&quot;</td><td>3</td><td>9.475</td><td>null</td><td>&quot;Southampton&quot;</td><td>0</td></tr><tr><td>13</td><td>&quot;Aks, Master. Philip Frank&quot;</td><td>&quot;male&quot;</td><td>0.8333</td><td>0</td><td>1</td><td>&quot;392091&quot;</td><td>3</td><td>9.35</td><td>null</td><td>&quot;Southampton&quot;</td><td>1</td></tr><tr><td>14</td><td>&quot;Aks, Mrs. Sam (Leah Rosen)&quot;</td><td>&quot;female&quot;</td><td>18.0</td><td>0</td><td>1</td><td>&quot;392091&quot;</td><td>3</td><td>9.35</td><td>null</td><td>&quot;Southampton&quot;</td><td>1</td></tr></tbody></table></div>"
      ],
      "text/plain": [
       "+-----+----------------------+--------+----------+---+----------+-------+---------------+----------+\n",
       "|  id | name                 | sex    |      age | … |     fare | cabin | port_embarked | survived |\n",
       "| --- | ---                  | ---    |      --- |   |      --- | ---   |           --- |      --- |\n",
       "| i64 | str                  | str    |      f64 |   |      f64 | str   |           str |      i64 |\n",
       "+==================================================================================================+\n",
       "|   0 | Abbing, Mr. Anthony  | male   | 42.00000 | … |  7.55000 | null  |   Southampton |        0 |\n",
       "|   1 | Abbott, Master.      | male   | 13.00000 | … | 20.25000 | null  |   Southampton |        0 |\n",
       "|     | Eugene Joseph        |        |          |   |          |       |               |          |\n",
       "|   2 | Abbott, Mr. Rossmore | male   | 16.00000 | … | 20.25000 | null  |   Southampton |        0 |\n",
       "|     | Edward               |        |          |   |          |       |               |          |\n",
       "|   3 | Abbott, Mrs. Stanton | female | 35.00000 | … | 20.25000 | null  |   Southampton |        1 |\n",
       "|     | (Rosa Hun…           |        |          |   |          |       |               |          |\n",
       "|   4 | Abelseth, Miss.      | female | 16.00000 | … |  7.65000 | null  |   Southampton |        1 |\n",
       "|     | Karen Marie          |        |          |   |          |       |               |          |\n",
       "|   … | …                    | …      |        … | … |        … | …     |             … |        … |\n",
       "|  10 | Adahl, Mr. Mauritz   | male   | 30.00000 | … |  7.25000 | null  |   Southampton |        0 |\n",
       "|     | Nils Martin          |        |          |   |          |       |               |          |\n",
       "|  11 | Adams, Mr. John      | male   | 26.00000 | … |  8.05000 | null  |   Southampton |        0 |\n",
       "|  12 | Ahlin, Mrs. Johan    | female | 40.00000 | … |  9.47500 | null  |   Southampton |        0 |\n",
       "|     | (Johanna Per…        |        |          |   |          |       |               |          |\n",
       "|  13 | Aks, Master. Philip  | male   |  0.83330 | … |  9.35000 | null  |   Southampton |        1 |\n",
       "|     | Frank                |        |          |   |          |       |               |          |\n",
       "|  14 | Aks, Mrs. Sam (Leah  | female | 18.00000 | … |  9.35000 | null  |   Southampton |        1 |\n",
       "|     | Rosen)               |        |          |   |          |       |               |          |\n",
       "+-----+----------------------+--------+----------+---+----------+-------+---------------+----------+"
      ]
     },
     "execution_count": 71,
     "metadata": {},
     "output_type": "execute_result"
    }
   ],
   "source": [
    "from safeds.data.tabular.containers import Table\n",
    "\n",
    "titanic = Table.from_csv_file(\"data/titanic.csv\")\n",
    "#For visualisation purposes we only print out the first 15 rows.\n",
    "titanic.slice_rows(0, 15)"
   ]
  },
  {
   "cell_type": "markdown",
   "metadata": {
    "collapsed": false
   },
   "source": [
    "2. Split the titanic dataset into two tables. A training set, that we will use later to implement a training model to predict the survival of passengers, containing 60% of the data, and a testing set containing the rest of the data.\n",
    "Delete the column `survived` from the test set, to be able to predict it later:"
   ]
  },
  {
   "cell_type": "code",
   "execution_count": 72,
   "metadata": {
    "collapsed": false
   },
   "outputs": [],
   "source": [
    "train_table, testing_table = titanic.split_rows(0.6)\n",
    "\n",
    "test_table = testing_table.remove_columns([\"fare\"]).shuffle_rows()"
   ]
  },
  {
   "cell_type": "markdown",
   "metadata": {
    "collapsed": false
   },
   "source": [
    "3. Use `OneHotEncoder` to create an encoder, that will be used later to transform the training table.\n",
    "* We use `OneHotEncoder` to transform non-numerical categorical values into numerical representations with values of zero or one. In this example we will transform the values of the sex column, hence they will be used in the model for predicting the surviving of passengers.\n",
    "* Use the `fit` function of the `OneHotEncoder` to pass the table and the column names, that will be used as features to predict who will survive to the encoder.\n",
    "* The names of the column before transformation need to be saved, because `OneHotEncoder` changes the names of the fitted `Column`s:\n"
   ]
  },
  {
   "cell_type": "code",
   "execution_count": 73,
   "metadata": {
    "collapsed": false
   },
   "outputs": [],
   "source": [
    "from safeds.data.tabular.transformation import OneHotEncoder\n",
    "\n",
    "encoder = OneHotEncoder(column_names=\"sex\").fit(train_table)"
   ]
  },
  {
   "cell_type": "markdown",
   "metadata": {
    "collapsed": false
   },
   "source": [
    "4. Transform the training table using the fitted encoder, and create a set with the new names of the fitted `Column`s:\n"
   ]
  },
  {
   "cell_type": "code",
   "execution_count": 74,
   "metadata": {
    "collapsed": false
   },
   "outputs": [],
   "source": [
    "transformed_table = encoder.transform(train_table)"
   ]
  },
  {
   "cell_type": "markdown",
   "metadata": {
    "collapsed": false
   },
   "source": [
    "5. Mark the `survived` `Column` as the target variable to be predicted. Include some columns only as extra columns, which are completely ignored by the model:"
   ]
  },
  {
   "cell_type": "code",
   "execution_count": 75,
   "metadata": {
    "collapsed": false
   },
   "outputs": [],
   "source": [
    "extra_names = [\"id\", \"name\", \"ticket\", \"cabin\", \"port_embarked\", \"age\", \"fare\"]\n",
    "\n",
    "train_tabular_dataset = transformed_table.to_tabular_dataset(\"survived\", extra_names=extra_names)"
   ]
  },
  {
   "cell_type": "markdown",
   "metadata": {
    "collapsed": false
   },
   "source": [
    "6. Use `RandomForest` classifier as a model for the classification. Pass the \"train_tabular_dataset\" table to the fit function of the model:"
   ]
  },
  {
   "cell_type": "code",
   "execution_count": 76,
   "metadata": {
    "collapsed": false
   },
   "outputs": [],
   "source": [
    "from safeds.ml.classical.classification import RandomForestClassifier\n",
    "\n",
    "model = RandomForestClassifier()\n",
    "fitted_model= model.fit(train_tabular_dataset)"
   ]
  },
  {
   "cell_type": "markdown",
   "metadata": {
    "collapsed": false
   },
   "source": [
    "7. Use the fitted random forest model, that we trained on the training dataset to predict the survival rate of passengers in the test dataset.\n",
    "Transform the test data with `OneHotEncoder` first, to be able to pass it to the predict function, that uses our fitted random forest model for prediction:"
   ]
  },
  {
   "cell_type": "code",
   "execution_count": 77,
   "metadata": {
    "collapsed": false
   },
   "outputs": [
    {
     "data": {
      "text/html": [
       "<div><style>\n",
       ".dataframe > thead > tr,\n",
       ".dataframe > tbody > tr {\n",
       "  text-align: right;\n",
       "  white-space: pre-wrap;\n",
       "}\n",
       "</style>\n",
       "<small>shape: (15, 12)</small><table border=\"1\" class=\"dataframe\"><thead><tr><th>id</th><th>name</th><th>age</th><th>siblings_spouses</th><th>parents_children</th><th>ticket</th><th>travel_class</th><th>cabin</th><th>port_embarked</th><th>sex__female</th><th>sex__male</th><th>survived</th></tr><tr><td>i64</td><td>str</td><td>f64</td><td>i64</td><td>i64</td><td>str</td><td>i64</td><td>str</td><td>str</td><td>u8</td><td>u8</td><td>i64</td></tr></thead><tbody><tr><td>301</td><td>&quot;Danoff, Mr. Yoto&quot;</td><td>27.0</td><td>0</td><td>0</td><td>&quot;349219&quot;</td><td>3</td><td>null</td><td>&quot;Southampton&quot;</td><td>0</td><td>1</td><td>0</td></tr><tr><td>477</td><td>&quot;Greenfield, Mr. William Bertra…</td><td>23.0</td><td>0</td><td>1</td><td>&quot;PC 17759&quot;</td><td>1</td><td>&quot;D10 D12&quot;</td><td>&quot;Cherbourg&quot;</td><td>0</td><td>1</td><td>0</td></tr><tr><td>386</td><td>&quot;Farrell, Mr. James&quot;</td><td>40.5</td><td>0</td><td>0</td><td>&quot;367232&quot;</td><td>3</td><td>null</td><td>&quot;Queenstown&quot;</td><td>0</td><td>1</td><td>0</td></tr><tr><td>864</td><td>&quot;Newell, Miss. Madeleine&quot;</td><td>31.0</td><td>1</td><td>0</td><td>&quot;35273&quot;</td><td>1</td><td>&quot;D36&quot;</td><td>&quot;Cherbourg&quot;</td><td>1</td><td>0</td><td>1</td></tr><tr><td>267</td><td>&quot;Cor, Mr. Ivan&quot;</td><td>27.0</td><td>0</td><td>0</td><td>&quot;349229&quot;</td><td>3</td><td>null</td><td>&quot;Southampton&quot;</td><td>0</td><td>1</td><td>0</td></tr><tr><td>&hellip;</td><td>&hellip;</td><td>&hellip;</td><td>&hellip;</td><td>&hellip;</td><td>&hellip;</td><td>&hellip;</td><td>&hellip;</td><td>&hellip;</td><td>&hellip;</td><td>&hellip;</td><td>&hellip;</td></tr><tr><td>1044</td><td>&quot;Ryerson, Master. John Borie&quot;</td><td>13.0</td><td>2</td><td>2</td><td>&quot;PC 17608&quot;</td><td>1</td><td>&quot;B57 B59 B63 B66&quot;</td><td>&quot;Cherbourg&quot;</td><td>0</td><td>1</td><td>1</td></tr><tr><td>641</td><td>&quot;Keane, Mr. Daniel&quot;</td><td>35.0</td><td>0</td><td>0</td><td>&quot;233734&quot;</td><td>2</td><td>null</td><td>&quot;Queenstown&quot;</td><td>0</td><td>1</td><td>0</td></tr><tr><td>222</td><td>&quot;Chambers, Mrs. Norman Campbell…</td><td>33.0</td><td>1</td><td>0</td><td>&quot;113806&quot;</td><td>1</td><td>&quot;E8&quot;</td><td>&quot;Southampton&quot;</td><td>1</td><td>0</td><td>1</td></tr><tr><td>926</td><td>&quot;Palsson, Miss. Torborg Danira&quot;</td><td>8.0</td><td>3</td><td>1</td><td>&quot;349909&quot;</td><td>3</td><td>null</td><td>&quot;Southampton&quot;</td><td>1</td><td>0</td><td>0</td></tr><tr><td>171</td><td>&quot;Burns, Miss. Elizabeth Margare…</td><td>41.0</td><td>0</td><td>0</td><td>&quot;16966&quot;</td><td>1</td><td>&quot;E40&quot;</td><td>&quot;Cherbourg&quot;</td><td>1</td><td>0</td><td>1</td></tr></tbody></table></div>"
      ],
      "text/plain": [
       "+------+-------------+----------+-------------+---+------------+------------+-----------+----------+\n",
       "|   id | name        |      age | siblings_sp | … | port_embar | sex__femal | sex__male | survived |\n",
       "|  --- | ---         |      --- |       ouses |   | ked        |          e | ---       | ---      |\n",
       "|  i64 | str         |      f64 |         --- |   | ---        |        --- | u8        | i64      |\n",
       "|      |             |          |         i64 |   | str        |         u8 |           |          |\n",
       "+==================================================================================================+\n",
       "|  301 | Danoff, Mr. | 27.00000 |           0 | … | Southampto |          0 | 1         | 0        |\n",
       "|      | Yoto        |          |             |   | n          |            |           |          |\n",
       "|  477 | Greenfield, | 23.00000 |           0 | … | Cherbourg  |          0 | 1         | 0        |\n",
       "|      | Mr. William |          |             |   |            |            |           |          |\n",
       "|      | Bertra…     |          |             |   |            |            |           |          |\n",
       "|  386 | Farrell,    | 40.50000 |           0 | … | Queenstown |          0 | 1         | 0        |\n",
       "|      | Mr. James   |          |             |   |            |            |           |          |\n",
       "|  864 | Newell,     | 31.00000 |           1 | … | Cherbourg  |          1 | 0         | 1        |\n",
       "|      | Miss.       |          |             |   |            |            |           |          |\n",
       "|      | Madeleine   |          |             |   |            |            |           |          |\n",
       "|  267 | Cor, Mr.    | 27.00000 |           0 | … | Southampto |          0 | 1         | 0        |\n",
       "|      | Ivan        |          |             |   | n          |            |           |          |\n",
       "|    … | …           |        … |           … | … | …          |          … | …         | …        |\n",
       "| 1044 | Ryerson,    | 13.00000 |           2 | … | Cherbourg  |          0 | 1         | 1        |\n",
       "|      | Master.     |          |             |   |            |            |           |          |\n",
       "|      | John Borie  |          |             |   |            |            |           |          |\n",
       "|  641 | Keane, Mr.  | 35.00000 |           0 | … | Queenstown |          0 | 1         | 0        |\n",
       "|      | Daniel      |          |             |   |            |            |           |          |\n",
       "|  222 | Chambers,   | 33.00000 |           1 | … | Southampto |          1 | 0         | 1        |\n",
       "|      | Mrs. Norman |          |             |   | n          |            |           |          |\n",
       "|      | Campbell…   |          |             |   |            |            |           |          |\n",
       "|  926 | Palsson,    |  8.00000 |           3 | … | Southampto |          1 | 0         | 0        |\n",
       "|      | Miss.       |          |             |   | n          |            |           |          |\n",
       "|      | Torborg     |          |             |   |            |            |           |          |\n",
       "|      | Danira      |          |             |   |            |            |           |          |\n",
       "|  171 | Burns,      | 41.00000 |           0 | … | Cherbourg  |          1 | 0         | 1        |\n",
       "|      | Miss.       |          |             |   |            |            |           |          |\n",
       "|      | Elizabeth   |          |             |   |            |            |           |          |\n",
       "|      | Margare…    |          |             |   |            |            |           |          |\n",
       "+------+-------------+----------+-------------+---+------------+------------+-----------+----------+"
      ]
     },
     "execution_count": 77,
     "metadata": {},
     "output_type": "execute_result"
    }
   ],
   "source": [
    "transformed_test_table = encoder.transform(test_table)\n",
    "\n",
    "prediction = fitted_model.predict(\n",
    "    transformed_test_table\n",
    ")\n",
    "\n",
    "\n",
    "#For visualisation purposes we only print out the first 15 rows.\n",
    "prediction.to_table().slice_rows(start=0, length=15)"
   ]
  },
  {
   "cell_type": "markdown",
   "metadata": {
    "collapsed": false
   },
   "source": [
    "8. You can test the accuracy of that model with the initial testing_table as follows:"
   ]
  },
  {
   "cell_type": "code",
   "execution_count": 78,
   "metadata": {
    "collapsed": false
   },
   "outputs": [
    {
     "data": {
      "text/plain": [
       "0.7614503816793893"
      ]
     },
     "execution_count": 78,
     "metadata": {},
     "output_type": "execute_result"
    }
   ],
   "source": [
    "testing_table = encoder.transform(testing_table)\n",
    "\n",
    "test_tabular_dataset = testing_table.to_tabular_dataset(\"survived\", extra_names=extra_names)\n",
    "fitted_model.accuracy(test_tabular_dataset)\n"
   ]
  }
 ],
 "metadata": {
  "kernelspec": {
   "display_name": "Python 3",
   "language": "python",
   "name": "python3"
  },
  "language_info": {
   "codemirror_mode": {
    "name": "ipython",
    "version": 3
   },
   "file_extension": ".py",
   "mimetype": "text/x-python",
   "name": "python",
   "nbconvert_exporter": "python",
   "pygments_lexer": "ipython3",
   "version": "3.12.3"
  }
 },
 "nbformat": 4,
 "nbformat_minor": 0
}
