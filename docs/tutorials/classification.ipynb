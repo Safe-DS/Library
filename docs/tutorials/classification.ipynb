{
 "cells": [
  {
   "cell_type": "markdown",
   "metadata": {
    "collapsed": false
   },
   "source": [
    "In this tutorial, we use `safeds` on **Titanic passenger data** to predict who will survive and who will not."
   ]
  },
  {
   "cell_type": "markdown",
   "metadata": {
    "collapsed": false
   },
   "source": [
    "### Loading Data\n",
    "The data is available under [Titanic - Machine Learning from Disaster](https://www.kaggle.com/c/titanic/data):\n"
   ]
  },
  {
   "cell_type": "code",
   "execution_count": 1,
   "metadata": {
    "collapsed": false
   },
   "outputs": [
    {
     "data": {
      "text/html": [
       "<div><style>\n",
       ".dataframe > thead > tr,\n",
       ".dataframe > tbody > tr {\n",
       "  text-align: right;\n",
       "  white-space: pre-wrap;\n",
       "}\n",
       "</style>\n",
       "<small>shape: (15, 12)</small><table border=\"1\" class=\"dataframe\"><thead><tr><th>id</th><th>name</th><th>sex</th><th>age</th><th>siblings_spouses</th><th>parents_children</th><th>ticket</th><th>travel_class</th><th>fare</th><th>cabin</th><th>port_embarked</th><th>survived</th></tr><tr><td>i64</td><td>str</td><td>str</td><td>f64</td><td>i64</td><td>i64</td><td>str</td><td>i64</td><td>f64</td><td>str</td><td>str</td><td>i64</td></tr></thead><tbody><tr><td>0</td><td>&quot;Abbing, Mr. Anthony&quot;</td><td>&quot;male&quot;</td><td>42.0</td><td>0</td><td>0</td><td>&quot;C.A. 5547&quot;</td><td>3</td><td>7.55</td><td>null</td><td>&quot;Southampton&quot;</td><td>0</td></tr><tr><td>1</td><td>&quot;Abbott, Master. Eugene Joseph&quot;</td><td>&quot;male&quot;</td><td>13.0</td><td>0</td><td>2</td><td>&quot;C.A. 2673&quot;</td><td>3</td><td>20.25</td><td>null</td><td>&quot;Southampton&quot;</td><td>0</td></tr><tr><td>2</td><td>&quot;Abbott, Mr. Rossmore Edward&quot;</td><td>&quot;male&quot;</td><td>16.0</td><td>1</td><td>1</td><td>&quot;C.A. 2673&quot;</td><td>3</td><td>20.25</td><td>null</td><td>&quot;Southampton&quot;</td><td>0</td></tr><tr><td>3</td><td>&quot;Abbott, Mrs. Stanton (Rosa Hun…</td><td>&quot;female&quot;</td><td>35.0</td><td>1</td><td>1</td><td>&quot;C.A. 2673&quot;</td><td>3</td><td>20.25</td><td>null</td><td>&quot;Southampton&quot;</td><td>1</td></tr><tr><td>4</td><td>&quot;Abelseth, Miss. Karen Marie&quot;</td><td>&quot;female&quot;</td><td>16.0</td><td>0</td><td>0</td><td>&quot;348125&quot;</td><td>3</td><td>7.65</td><td>null</td><td>&quot;Southampton&quot;</td><td>1</td></tr><tr><td>&hellip;</td><td>&hellip;</td><td>&hellip;</td><td>&hellip;</td><td>&hellip;</td><td>&hellip;</td><td>&hellip;</td><td>&hellip;</td><td>&hellip;</td><td>&hellip;</td><td>&hellip;</td><td>&hellip;</td></tr><tr><td>10</td><td>&quot;Adahl, Mr. Mauritz Nils Martin&quot;</td><td>&quot;male&quot;</td><td>30.0</td><td>0</td><td>0</td><td>&quot;C 7076&quot;</td><td>3</td><td>7.25</td><td>null</td><td>&quot;Southampton&quot;</td><td>0</td></tr><tr><td>11</td><td>&quot;Adams, Mr. John&quot;</td><td>&quot;male&quot;</td><td>26.0</td><td>0</td><td>0</td><td>&quot;341826&quot;</td><td>3</td><td>8.05</td><td>null</td><td>&quot;Southampton&quot;</td><td>0</td></tr><tr><td>12</td><td>&quot;Ahlin, Mrs. Johan (Johanna Per…</td><td>&quot;female&quot;</td><td>40.0</td><td>1</td><td>0</td><td>&quot;7546&quot;</td><td>3</td><td>9.475</td><td>null</td><td>&quot;Southampton&quot;</td><td>0</td></tr><tr><td>13</td><td>&quot;Aks, Master. Philip Frank&quot;</td><td>&quot;male&quot;</td><td>0.8333</td><td>0</td><td>1</td><td>&quot;392091&quot;</td><td>3</td><td>9.35</td><td>null</td><td>&quot;Southampton&quot;</td><td>1</td></tr><tr><td>14</td><td>&quot;Aks, Mrs. Sam (Leah Rosen)&quot;</td><td>&quot;female&quot;</td><td>18.0</td><td>0</td><td>1</td><td>&quot;392091&quot;</td><td>3</td><td>9.35</td><td>null</td><td>&quot;Southampton&quot;</td><td>1</td></tr></tbody></table></div>"
      ],
      "text/plain": [
       "+-----+----------------------+--------+----------+---+----------+-------+---------------+----------+\n",
       "|  id | name                 | sex    |      age | … |     fare | cabin | port_embarked | survived |\n",
       "| --- | ---                  | ---    |      --- |   |      --- | ---   |           --- |      --- |\n",
       "| i64 | str                  | str    |      f64 |   |      f64 | str   |           str |      i64 |\n",
       "+==================================================================================================+\n",
       "|   0 | Abbing, Mr. Anthony  | male   | 42.00000 | … |  7.55000 | null  |   Southampton |        0 |\n",
       "|   1 | Abbott, Master.      | male   | 13.00000 | … | 20.25000 | null  |   Southampton |        0 |\n",
       "|     | Eugene Joseph        |        |          |   |          |       |               |          |\n",
       "|   2 | Abbott, Mr. Rossmore | male   | 16.00000 | … | 20.25000 | null  |   Southampton |        0 |\n",
       "|     | Edward               |        |          |   |          |       |               |          |\n",
       "|   3 | Abbott, Mrs. Stanton | female | 35.00000 | … | 20.25000 | null  |   Southampton |        1 |\n",
       "|     | (Rosa Hun…           |        |          |   |          |       |               |          |\n",
       "|   4 | Abelseth, Miss.      | female | 16.00000 | … |  7.65000 | null  |   Southampton |        1 |\n",
       "|     | Karen Marie          |        |          |   |          |       |               |          |\n",
       "|   … | …                    | …      |        … | … |        … | …     |             … |        … |\n",
       "|  10 | Adahl, Mr. Mauritz   | male   | 30.00000 | … |  7.25000 | null  |   Southampton |        0 |\n",
       "|     | Nils Martin          |        |          |   |          |       |               |          |\n",
       "|  11 | Adams, Mr. John      | male   | 26.00000 | … |  8.05000 | null  |   Southampton |        0 |\n",
       "|  12 | Ahlin, Mrs. Johan    | female | 40.00000 | … |  9.47500 | null  |   Southampton |        0 |\n",
       "|     | (Johanna Per…        |        |          |   |          |       |               |          |\n",
       "|  13 | Aks, Master. Philip  | male   |  0.83330 | … |  9.35000 | null  |   Southampton |        1 |\n",
       "|     | Frank                |        |          |   |          |       |               |          |\n",
       "|  14 | Aks, Mrs. Sam (Leah  | female | 18.00000 | … |  9.35000 | null  |   Southampton |        1 |\n",
       "|     | Rosen)               |        |          |   |          |       |               |          |\n",
       "+-----+----------------------+--------+----------+---+----------+-------+---------------+----------+"
      ]
     },
     "execution_count": 1,
     "metadata": {},
     "output_type": "execute_result"
    }
   ],
   "source": [
    "from safeds.data.tabular.containers import Table\n",
    "\n",
    "raw_data = Table.from_csv_file(\"data/titanic.csv\")\n",
    "#For visualisation purposes we only print out the first 15 rows.\n",
    "raw_data.slice_rows(length=15)"
   ]
  },
  {
   "cell_type": "markdown",
   "metadata": {},
   "source": [
    "### Splitting Data into Train and Test Sets\n",
    "- **Training set**: Contains 60% of the data and will be used to train the model.\n",
    "- **Testing set**: Contains 40% of the data and will be used to test the model's accuracy."
   ]
  },
  {
   "cell_type": "code",
   "execution_count": 2,
   "metadata": {},
   "outputs": [],
   "source": [
    "train_table, test_table = raw_data.shuffle_rows().split_rows(0.6)"
   ]
  },
  {
   "cell_type": "markdown",
   "metadata": {},
   "source": [
    "### Removing Low-Quality Columns"
   ]
  },
  {
   "cell_type": "code",
   "execution_count": 3,
   "metadata": {},
   "outputs": [
    {
     "data": {
      "text/html": [
       "<div><style>\n",
       ".dataframe > thead > tr,\n",
       ".dataframe > tbody > tr {\n",
       "  text-align: right;\n",
       "  white-space: pre-wrap;\n",
       "}\n",
       "</style>\n",
       "<small>shape: (9, 13)</small><table border=\"1\" class=\"dataframe\"><thead><tr><th>metric</th><th>id</th><th>name</th><th>sex</th><th>age</th><th>siblings_spouses</th><th>parents_children</th><th>ticket</th><th>travel_class</th><th>fare</th><th>cabin</th><th>port_embarked</th><th>survived</th></tr><tr><td>str</td><td>f64</td><td>str</td><td>str</td><td>f64</td><td>f64</td><td>f64</td><td>str</td><td>f64</td><td>f64</td><td>str</td><td>str</td><td>f64</td></tr></thead><tbody><tr><td>&quot;min&quot;</td><td>1.0</td><td>&quot;Abbott, Master. Eugene Joseph&quot;</td><td>&quot;female&quot;</td><td>0.1667</td><td>0.0</td><td>0.0</td><td>&quot;110152&quot;</td><td>1.0</td><td>0.0</td><td>&quot;A11&quot;</td><td>&quot;Cherbourg&quot;</td><td>0.0</td></tr><tr><td>&quot;max&quot;</td><td>1307.0</td><td>&quot;van Melkebeke, Mr. Philemon&quot;</td><td>&quot;male&quot;</td><td>76.0</td><td>8.0</td><td>6.0</td><td>&quot;WE/P 5735&quot;</td><td>3.0</td><td>512.3292</td><td>&quot;T&quot;</td><td>&quot;Southampton&quot;</td><td>1.0</td></tr><tr><td>&quot;mean&quot;</td><td>654.408917</td><td>&quot;-&quot;</td><td>&quot;-&quot;</td><td>29.542191</td><td>0.518471</td><td>0.396178</td><td>&quot;-&quot;</td><td>2.298089</td><td>33.849861</td><td>&quot;-&quot;</td><td>&quot;-&quot;</td><td>0.37707</td></tr><tr><td>&quot;median&quot;</td><td>658.0</td><td>&quot;-&quot;</td><td>&quot;-&quot;</td><td>28.0</td><td>0.0</td><td>0.0</td><td>&quot;-&quot;</td><td>3.0</td><td>14.5</td><td>&quot;-&quot;</td><td>&quot;-&quot;</td><td>0.0</td></tr><tr><td>&quot;standard deviation&quot;</td><td>376.780514</td><td>&quot;-&quot;</td><td>&quot;-&quot;</td><td>14.164325</td><td>1.067841</td><td>0.818931</td><td>&quot;-&quot;</td><td>0.834712</td><td>55.721765</td><td>&quot;-&quot;</td><td>&quot;-&quot;</td><td>0.484962</td></tr><tr><td>&quot;distinct value count&quot;</td><td>785.0</td><td>&quot;784&quot;</td><td>&quot;2&quot;</td><td>89.0</td><td>7.0</td><td>7.0</td><td>&quot;618&quot;</td><td>3.0</td><td>239.0</td><td>&quot;134&quot;</td><td>&quot;3&quot;</td><td>2.0</td></tr><tr><td>&quot;idness&quot;</td><td>1.0</td><td>&quot;0.9987261146496815&quot;</td><td>&quot;0.0025477707006369425&quot;</td><td>0.11465</td><td>0.008917</td><td>0.008917</td><td>&quot;0.7872611464968153&quot;</td><td>0.003822</td><td>0.305732</td><td>&quot;0.17197452229299362&quot;</td><td>&quot;0.003821656050955414&quot;</td><td>0.002548</td></tr><tr><td>&quot;missing value ratio&quot;</td><td>0.0</td><td>&quot;0.0&quot;</td><td>&quot;0.0&quot;</td><td>0.189809</td><td>0.0</td><td>0.0</td><td>&quot;0.0&quot;</td><td>0.0</td><td>0.001274</td><td>&quot;0.7745222929936306&quot;</td><td>&quot;0.0&quot;</td><td>0.0</td></tr><tr><td>&quot;stability&quot;</td><td>0.001274</td><td>&quot;0.0025477707006369425&quot;</td><td>&quot;0.6522292993630573&quot;</td><td>0.048742</td><td>0.670064</td><td>0.75414</td><td>&quot;0.007643312101910828&quot;</td><td>0.541401</td><td>0.043367</td><td>&quot;0.02824858757062147&quot;</td><td>&quot;0.7019108280254777&quot;</td><td>0.62293</td></tr></tbody></table></div>"
      ],
      "text/plain": [
       "+-----------+-----------+-----------+-----------+---+-----------+-----------+-----------+----------+\n",
       "| metric    |        id | name      | sex       | … |      fare |     cabin | port_emba | survived |\n",
       "| ---       |       --- | ---       | ---       |   |       --- |       --- | rked      |      --- |\n",
       "| str       |       f64 | str       | str       |   |       f64 |       str | ---       |      f64 |\n",
       "|           |           |           |           |   |           |           | str       |          |\n",
       "+==================================================================================================+\n",
       "| min       |   1.00000 | Abbott,   | female    | … |   0.00000 |       A11 | Cherbourg |  0.00000 |\n",
       "|           |           | Master.   |           |   |           |           |           |          |\n",
       "|           |           | Eugene    |           |   |           |           |           |          |\n",
       "|           |           | Joseph    |           |   |           |           |           |          |\n",
       "| max       | 1307.0000 | van Melke | male      | … | 512.32920 |         T | Southampt |  1.00000 |\n",
       "|           |         0 | beke, Mr. |           |   |           |           | on        |          |\n",
       "|           |           | Philemon  |           |   |           |           |           |          |\n",
       "| mean      | 654.40892 | -         | -         | … |  33.84986 |         - | -         |  0.37707 |\n",
       "| median    | 658.00000 | -         | -         | … |  14.50000 |         - | -         |  0.00000 |\n",
       "| standard  | 376.78051 | -         | -         | … |  55.72177 |         - | -         |  0.48496 |\n",
       "| deviation |           |           |           |   |           |           |           |          |\n",
       "| distinct  | 785.00000 | 784       | 2         | … | 239.00000 |       134 | 3         |  2.00000 |\n",
       "| value     |           |           |           |   |           |           |           |          |\n",
       "| count     |           |           |           |   |           |           |           |          |\n",
       "| idness    |   1.00000 | 0.9987261 | 0.0025477 | … |   0.30573 | 0.1719745 | 0.0038216 |  0.00255 |\n",
       "|           |           | 146496815 | 707006369 |   |           | 222929936 | 560509554 |          |\n",
       "|           |           |           | 425       |   |           |         2 | 14        |          |\n",
       "| missing   |   0.00000 | 0.0       | 0.0       | … |   0.00127 | 0.7745222 | 0.0       |  0.00000 |\n",
       "| value     |           |           |           |   |           | 929936306 |           |          |\n",
       "| ratio     |           |           |           |   |           |           |           |          |\n",
       "| stability |   0.00127 | 0.0025477 | 0.6522292 | … |   0.04337 | 0.0282485 | 0.7019108 |  0.62293 |\n",
       "|           |           | 707006369 | 993630573 |   |           | 875706214 | 280254777 |          |\n",
       "|           |           | 425       |           |   |           |         7 |           |          |\n",
       "+-----------+-----------+-----------+-----------+---+-----------+-----------+-----------+----------+"
      ]
     },
     "execution_count": 3,
     "metadata": {},
     "output_type": "execute_result"
    }
   ],
   "source": [
    "train_table.summarize_statistics()"
   ]
  },
  {
   "cell_type": "markdown",
   "metadata": {},
   "source": [
    "We remove certain columns for the following reasons:\n",
    "1. **high idness**: `id` , `ticket`\n",
    "2. **high stability**: `parents_children` \n",
    "3. **high missing value ratio**: `cabin`"
   ]
  },
  {
   "cell_type": "code",
   "execution_count": 4,
   "metadata": {},
   "outputs": [],
   "source": [
    "train_table = train_table.remove_columns([\"id\",\"ticket\", \"parents_children\", \"cabin\"])\n",
    "test_table = test_table.remove_columns([\"id\",\"ticket\", \"parents_children\", \"cabin\"])"
   ]
  },
  {
   "cell_type": "markdown",
   "metadata": {},
   "source": [
    "### Handling Missing Values\n",
    "We fill in missing values in the `age` and `fare` columns with the mean of each column\n"
   ]
  },
  {
   "cell_type": "code",
   "execution_count": 5,
   "metadata": {},
   "outputs": [],
   "source": [
    "from safeds.data.tabular.transformation import SimpleImputer\n",
    "\n",
    "simple_imputer = SimpleImputer(column_names=[\"age\",\"fare\"],strategy=SimpleImputer.Strategy.mean())\n",
    "fitted_simple_imputer_train, transformed_train_data = simple_imputer.fit_and_transform(train_table)\n",
    "transformed_test_data = fitted_simple_imputer_train.transform(test_table)"
   ]
  },
  {
   "cell_type": "markdown",
   "metadata": {
    "collapsed": false
   },
   "source": [
    "### Handling Nominal Categorical Data\n",
    "We use `OneHotEncoder` to transform categorical, non-numerical values into numerical representations with values of zero or one. In this example, we will transform the values of the `sex` column, so they can be used in the model to predict passenger survival.\n",
    "- Use the `fit_and_transform` function of the `OneHotEncoder` to pass the table and the column names to be used as features for the prediction."
   ]
  },
  {
   "cell_type": "code",
   "execution_count": 6,
   "metadata": {
    "collapsed": false
   },
   "outputs": [],
   "source": [
    "from safeds.data.tabular.transformation import OneHotEncoder\n",
    "\n",
    "fitted_one_hot_encoder_train, transformed_train_data = OneHotEncoder(column_names=[\"sex\", \"port_embarked\"]).fit_and_transform(transformed_train_data)\n",
    "transformed_test_data = fitted_one_hot_encoder_train.transform(transformed_test_data)"
   ]
  },
  {
   "cell_type": "markdown",
   "metadata": {},
   "source": [
    "### Statistics after Data Processing\n",
    "Check the data after cleaning and transformation to ensure the changes were made correctly.\n"
   ]
  },
  {
   "cell_type": "code",
   "execution_count": 7,
   "metadata": {},
   "outputs": [
    {
     "data": {
      "text/html": [
       "<div><style>\n",
       ".dataframe > thead > tr,\n",
       ".dataframe > tbody > tr {\n",
       "  text-align: right;\n",
       "  white-space: pre-wrap;\n",
       "}\n",
       "</style>\n",
       "<small>shape: (9, 12)</small><table border=\"1\" class=\"dataframe\"><thead><tr><th>metric</th><th>name</th><th>age</th><th>siblings_spouses</th><th>travel_class</th><th>fare</th><th>survived</th><th>sex__male</th><th>sex__female</th><th>port_embarked__Southampton</th><th>port_embarked__Cherbourg</th><th>port_embarked__Queenstown</th></tr><tr><td>str</td><td>str</td><td>f64</td><td>f64</td><td>f64</td><td>f64</td><td>f64</td><td>f64</td><td>f64</td><td>f64</td><td>f64</td><td>f64</td></tr></thead><tbody><tr><td>&quot;min&quot;</td><td>&quot;Abbott, Master. Eugene Joseph&quot;</td><td>0.1667</td><td>0.0</td><td>1.0</td><td>0.0</td><td>0.0</td><td>0.0</td><td>0.0</td><td>0.0</td><td>0.0</td><td>0.0</td></tr><tr><td>&quot;max&quot;</td><td>&quot;van Melkebeke, Mr. Philemon&quot;</td><td>76.0</td><td>8.0</td><td>3.0</td><td>512.3292</td><td>1.0</td><td>1.0</td><td>1.0</td><td>1.0</td><td>1.0</td><td>1.0</td></tr><tr><td>&quot;mean&quot;</td><td>&quot;-&quot;</td><td>29.542191</td><td>0.518471</td><td>2.298089</td><td>33.849861</td><td>0.37707</td><td>0.652229</td><td>0.347771</td><td>0.701911</td><td>0.208917</td><td>0.089172</td></tr><tr><td>&quot;median&quot;</td><td>&quot;-&quot;</td><td>29.542191</td><td>0.0</td><td>3.0</td><td>14.5</td><td>0.0</td><td>1.0</td><td>0.0</td><td>1.0</td><td>0.0</td><td>0.0</td></tr><tr><td>&quot;standard deviation&quot;</td><td>&quot;-&quot;</td><td>12.747491</td><td>1.067841</td><td>0.834712</td><td>55.686217</td><td>0.484962</td><td>0.476566</td><td>0.476566</td><td>0.45771</td><td>0.406794</td><td>0.285174</td></tr><tr><td>&quot;distinct value count&quot;</td><td>&quot;784&quot;</td><td>90.0</td><td>7.0</td><td>3.0</td><td>240.0</td><td>2.0</td><td>2.0</td><td>2.0</td><td>2.0</td><td>2.0</td><td>2.0</td></tr><tr><td>&quot;idness&quot;</td><td>&quot;0.9987261146496815&quot;</td><td>0.11465</td><td>0.008917</td><td>0.003822</td><td>0.305732</td><td>0.002548</td><td>0.002548</td><td>0.002548</td><td>0.002548</td><td>0.002548</td><td>0.002548</td></tr><tr><td>&quot;missing value ratio&quot;</td><td>&quot;0.0&quot;</td><td>0.0</td><td>0.0</td><td>0.0</td><td>0.0</td><td>0.0</td><td>0.0</td><td>0.0</td><td>0.0</td><td>0.0</td><td>0.0</td></tr><tr><td>&quot;stability&quot;</td><td>&quot;0.0025477707006369425&quot;</td><td>0.189809</td><td>0.670064</td><td>0.541401</td><td>0.043312</td><td>0.62293</td><td>0.652229</td><td>0.652229</td><td>0.701911</td><td>0.791083</td><td>0.910828</td></tr></tbody></table></div>"
      ],
      "text/plain": [
       "+-----------+-----------+----------+-----------+---+-----------+-----------+-----------+-----------+\n",
       "| metric    | name      |      age | siblings_ | … | sex__fema | port_emba | port_emba | port_emba |\n",
       "| ---       | ---       |      --- |   spouses |   |        le | rked__Sou | rked__Che | rked__Que |\n",
       "| str       | str       |      f64 |       --- |   |       --- |  thampton |    rbourg |   enstown |\n",
       "|           |           |          |       f64 |   |       f64 |       --- |       --- |       --- |\n",
       "|           |           |          |           |   |           |       f64 |       f64 |       f64 |\n",
       "+==================================================================================================+\n",
       "| min       | Abbott,   |  0.16670 |   0.00000 | … |   0.00000 |   0.00000 |   0.00000 |   0.00000 |\n",
       "|           | Master.   |          |           |   |           |           |           |           |\n",
       "|           | Eugene    |          |           |   |           |           |           |           |\n",
       "|           | Joseph    |          |           |   |           |           |           |           |\n",
       "| max       | van Melke | 76.00000 |   8.00000 | … |   1.00000 |   1.00000 |   1.00000 |   1.00000 |\n",
       "|           | beke, Mr. |          |           |   |           |           |           |           |\n",
       "|           | Philemon  |          |           |   |           |           |           |           |\n",
       "| mean      | -         | 29.54219 |   0.51847 | … |   0.34777 |   0.70191 |   0.20892 |   0.08917 |\n",
       "| median    | -         | 29.54219 |   0.00000 | … |   0.00000 |   1.00000 |   0.00000 |   0.00000 |\n",
       "| standard  | -         | 12.74749 |   1.06784 | … |   0.47657 |   0.45771 |   0.40679 |   0.28517 |\n",
       "| deviation |           |          |           |   |           |           |           |           |\n",
       "| distinct  | 784       | 90.00000 |   7.00000 | … |   2.00000 |   2.00000 |   2.00000 |   2.00000 |\n",
       "| value     |           |          |           |   |           |           |           |           |\n",
       "| count     |           |          |           |   |           |           |           |           |\n",
       "| idness    | 0.9987261 |  0.11465 |   0.00892 | … |   0.00255 |   0.00255 |   0.00255 |   0.00255 |\n",
       "|           | 146496815 |          |           |   |           |           |           |           |\n",
       "| missing   | 0.0       |  0.00000 |   0.00000 | … |   0.00000 |   0.00000 |   0.00000 |   0.00000 |\n",
       "| value     |           |          |           |   |           |           |           |           |\n",
       "| ratio     |           |          |           |   |           |           |           |           |\n",
       "| stability | 0.0025477 |  0.18981 |   0.67006 | … |   0.65223 |   0.70191 |   0.79108 |   0.91083 |\n",
       "|           | 707006369 |          |           |   |           |           |           |           |\n",
       "|           | 425       |          |           |   |           |           |           |           |\n",
       "+-----------+-----------+----------+-----------+---+-----------+-----------+-----------+-----------+"
      ]
     },
     "execution_count": 7,
     "metadata": {},
     "output_type": "execute_result"
    }
   ],
   "source": [
    "transformed_train_data.summarize_statistics()"
   ]
  },
  {
   "cell_type": "markdown",
   "metadata": {
    "collapsed": false
   },
   "source": [
    "### Mark the `survived` Column as the Target Variable to Be Predicted"
   ]
  },
  {
   "cell_type": "code",
   "execution_count": 8,
   "metadata": {
    "collapsed": false
   },
   "outputs": [],
   "source": [
    "tagged_train_table = transformed_train_data.to_tabular_dataset(\"survived\",extra_names=[\"name\"])"
   ]
  },
  {
   "cell_type": "markdown",
   "metadata": {
    "collapsed": false
   },
   "source": [
    "### Fitting a Classifier\n",
    "We use the `RandomForest` classifier as our model and pass the training dataset to the model's `fit` function to train it."
   ]
  },
  {
   "cell_type": "code",
   "execution_count": 9,
   "metadata": {
    "collapsed": false
   },
   "outputs": [],
   "source": [
    "from safeds.ml.classical.classification import RandomForestClassifier\n",
    "\n",
    "classifier = RandomForestClassifier()\n",
    "fitted_classifier = classifier.fit(tagged_train_table)"
   ]
  },
  {
   "cell_type": "markdown",
   "metadata": {
    "collapsed": false
   },
   "source": [
    "### Predicting with the Classifier\n",
    "Use the trained `RandomForest` model to predict the survival rate of passengers in the test dataset. <br>\n",
    "Pass the `test_table` into the `predict` function, which uses our trained model for prediction."
   ]
  },
  {
   "cell_type": "code",
   "execution_count": 10,
   "metadata": {
    "collapsed": false
   },
   "outputs": [],
   "source": [
    "prediction = fitted_classifier.predict(transformed_test_data)"
   ]
  },
  {
   "cell_type": "markdown",
   "metadata": {},
   "source": [
    "### Reverse-Transforming the Prediction"
   ]
  },
  {
   "cell_type": "code",
   "execution_count": 11,
   "metadata": {},
   "outputs": [
    {
     "data": {
      "text/html": [
       "<div><style>\n",
       ".dataframe > thead > tr,\n",
       ".dataframe > tbody > tr {\n",
       "  text-align: right;\n",
       "  white-space: pre-wrap;\n",
       "}\n",
       "</style>\n",
       "<small>shape: (15, 8)</small><table border=\"1\" class=\"dataframe\"><thead><tr><th>name</th><th>age</th><th>siblings_spouses</th><th>travel_class</th><th>fare</th><th>survived</th><th>sex</th><th>port_embarked</th></tr><tr><td>str</td><td>f64</td><td>i64</td><td>i64</td><td>f64</td><td>i64</td><td>str</td><td>str</td></tr></thead><tbody><tr><td>&quot;Christy, Mrs. (Alice Frances)&quot;</td><td>45.0</td><td>0</td><td>2</td><td>30.0</td><td>1</td><td>&quot;female&quot;</td><td>&quot;Southampton&quot;</td></tr><tr><td>&quot;Gheorgheff, Mr. Stanio&quot;</td><td>29.542191</td><td>0</td><td>3</td><td>7.8958</td><td>0</td><td>&quot;male&quot;</td><td>&quot;Cherbourg&quot;</td></tr><tr><td>&quot;Miles, Mr. Frank&quot;</td><td>29.542191</td><td>0</td><td>3</td><td>8.05</td><td>0</td><td>&quot;male&quot;</td><td>&quot;Southampton&quot;</td></tr><tr><td>&quot;Foley, Mr. William&quot;</td><td>29.542191</td><td>0</td><td>3</td><td>7.75</td><td>0</td><td>&quot;male&quot;</td><td>&quot;Queenstown&quot;</td></tr><tr><td>&quot;Kink-Heilmann, Miss. Luise Gre…</td><td>4.0</td><td>0</td><td>3</td><td>22.025</td><td>0</td><td>&quot;female&quot;</td><td>&quot;Southampton&quot;</td></tr><tr><td>&hellip;</td><td>&hellip;</td><td>&hellip;</td><td>&hellip;</td><td>&hellip;</td><td>&hellip;</td><td>&hellip;</td><td>&hellip;</td></tr><tr><td>&quot;Zimmerman, Mr. Leo&quot;</td><td>29.0</td><td>0</td><td>3</td><td>7.875</td><td>0</td><td>&quot;male&quot;</td><td>&quot;Southampton&quot;</td></tr><tr><td>&quot;Kelly, Mr. James&quot;</td><td>44.0</td><td>0</td><td>3</td><td>8.05</td><td>0</td><td>&quot;male&quot;</td><td>&quot;Southampton&quot;</td></tr><tr><td>&quot;Jensen, Mr. Niels Peder&quot;</td><td>48.0</td><td>0</td><td>3</td><td>7.8542</td><td>0</td><td>&quot;male&quot;</td><td>&quot;Southampton&quot;</td></tr><tr><td>&quot;White, Mr. Richard Frasar&quot;</td><td>21.0</td><td>0</td><td>1</td><td>77.2875</td><td>0</td><td>&quot;male&quot;</td><td>&quot;Southampton&quot;</td></tr><tr><td>&quot;Smith, Mr. James Clinch&quot;</td><td>56.0</td><td>0</td><td>1</td><td>30.6958</td><td>0</td><td>&quot;male&quot;</td><td>&quot;Cherbourg&quot;</td></tr></tbody></table></div>"
      ],
      "text/plain": [
       "+--------------+----------+-------------+-------------+----------+----------+--------+-------------+\n",
       "| name         |      age | siblings_sp | travel_clas |     fare | survived | sex    | port_embark |\n",
       "| ---          |      --- |       ouses |           s |      --- |      --- | ---    | ed          |\n",
       "| str          |      f64 |         --- |         --- |      f64 |      i64 | str    | ---         |\n",
       "|              |          |         i64 |         i64 |          |          |        | str         |\n",
       "+==================================================================================================+\n",
       "| Christy,     | 45.00000 |           0 |           2 | 30.00000 |        1 | female | Southampton |\n",
       "| Mrs. (Alice  |          |             |             |          |          |        |             |\n",
       "| Frances)     |          |             |             |          |          |        |             |\n",
       "| Gheorgheff,  | 29.54219 |           0 |           3 |  7.89580 |        0 | male   | Cherbourg   |\n",
       "| Mr. Stanio   |          |             |             |          |          |        |             |\n",
       "| Miles, Mr.   | 29.54219 |           0 |           3 |  8.05000 |        0 | male   | Southampton |\n",
       "| Frank        |          |             |             |          |          |        |             |\n",
       "| Foley, Mr.   | 29.54219 |           0 |           3 |  7.75000 |        0 | male   | Queenstown  |\n",
       "| William      |          |             |             |          |          |        |             |\n",
       "| Kink-Heilman |  4.00000 |           0 |           3 | 22.02500 |        0 | female | Southampton |\n",
       "| n, Miss.     |          |             |             |          |          |        |             |\n",
       "| Luise Gre…   |          |             |             |          |          |        |             |\n",
       "| …            |        … |           … |           … |        … |        … | …      | …           |\n",
       "| Zimmerman,   | 29.00000 |           0 |           3 |  7.87500 |        0 | male   | Southampton |\n",
       "| Mr. Leo      |          |             |             |          |          |        |             |\n",
       "| Kelly, Mr.   | 44.00000 |           0 |           3 |  8.05000 |        0 | male   | Southampton |\n",
       "| James        |          |             |             |          |          |        |             |\n",
       "| Jensen, Mr.  | 48.00000 |           0 |           3 |  7.85420 |        0 | male   | Southampton |\n",
       "| Niels Peder  |          |             |             |          |          |        |             |\n",
       "| White, Mr.   | 21.00000 |           0 |           1 | 77.28750 |        0 | male   | Southampton |\n",
       "| Richard      |          |             |             |          |          |        |             |\n",
       "| Frasar       |          |             |             |          |          |        |             |\n",
       "| Smith, Mr.   | 56.00000 |           0 |           1 | 30.69580 |        0 | male   | Cherbourg   |\n",
       "| James Clinch |          |             |             |          |          |        |             |\n",
       "+--------------+----------+-------------+-------------+----------+----------+--------+-------------+"
      ]
     },
     "execution_count": 11,
     "metadata": {},
     "output_type": "execute_result"
    }
   ],
   "source": [
    "reverse_transformed_prediction = prediction.to_table().inverse_transform_table(fitted_one_hot_encoder_train)\n",
    "#For visualisation purposes we only print out the first 15 rows.\n",
    "reverse_transformed_prediction.slice_rows(length=15)"
   ]
  },
  {
   "cell_type": "markdown",
   "metadata": {
    "collapsed": false
   },
   "source": [
    "### Testing the Accuracy of the Model"
   ]
  },
  {
   "cell_type": "code",
   "execution_count": 12,
   "metadata": {
    "collapsed": false
   },
   "outputs": [
    {
     "data": {
      "text/plain": [
       "0.7938931297709924"
      ]
     },
     "execution_count": 12,
     "metadata": {},
     "output_type": "execute_result"
    }
   ],
   "source": [
    "fitted_classifier.accuracy(transformed_test_data)"
   ]
  }
 ],
 "metadata": {
  "kernelspec": {
   "display_name": "Python 3",
   "language": "python",
   "name": "python3"
  },
  "language_info": {
   "codemirror_mode": {
    "name": "ipython",
    "version": 3
   },
   "file_extension": ".py",
   "mimetype": "text/x-python",
   "name": "python",
   "nbconvert_exporter": "python",
   "pygments_lexer": "ipython3",
   "version": "3.12.3"
  }
 },
 "nbformat": 4,
 "nbformat_minor": 0
}
