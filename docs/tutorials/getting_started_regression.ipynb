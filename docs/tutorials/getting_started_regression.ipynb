{
 "cells": [
  {
   "cell_type": "markdown",
   "source": [
    "# Getting started: Regression\n",
    "\n",
    "This tutorial uses safeds on **house sales data** to predict house prices.\n"
   ],
   "metadata": {
    "collapsed": false
   }
  },
  {
   "cell_type": "markdown",
   "source": [
    "1. Load your data into a `Table`, the data is available under `docs/tutorials/data/pricing.csv`:\n"
   ],
   "metadata": {
    "collapsed": false
   }
  },
  {
   "cell_type": "code",
   "execution_count": 56,
   "outputs": [],
   "source": [
    "from safeds.data.tabular.containers import Table\n",
    "\n",
    "pricing = Table.from_csv_file(\"data/house_sales.csv\")\n",
    "# For visualisation purposes we only print out the first 15 rows.\n",
    "pricing.slice_rows(0,15)"
   ],
   "metadata": {
    "collapsed": false
   }
  },
  {
   "cell_type": "markdown",
   "source": [
    "2. Split the house sales dataset into two tables. A training set, that we will use later to implement a training model to predict the house price, containing 60% of the data, and a testing set containing the rest of the data.\n",
    "Delete the column `price` from the test set, to be able to predict it later:\n"
   ],
   "metadata": {
    "collapsed": false
   }
  },
  {
   "cell_type": "code",
   "execution_count": 57,
   "outputs": [],
   "source": [
    "split_tuple = pricing.split(0.60)\n",
    "\n",
    "train_table = split_tuple[0]\n",
    "testing_table = split_tuple[1]\n",
    "\n",
    "test_table = testing_table.remove_columns([\"price\"]).shuffle_rows()"
   ],
   "metadata": {
    "collapsed": false
   }
  },
  {
   "cell_type": "markdown",
   "source": [
    "3. Tag the `price` `Column` as the target variable to be predicted. Use the new names of the fitted `Column`s as features, which will be used to make predictions based on the target variable.\n"
   ],
   "metadata": {
    "collapsed": false
   }
  },
  {
   "cell_type": "code",
   "execution_count": 58,
   "outputs": [],
   "source": [
    "feature_columns = set(train_table.column_names) - set([\"price\", \"id\"])\n",
    "\n",
    "tagged_train_table = train_table.tag_columns(\"price\", feature_names=[\n",
    "    *feature_columns])\n"
   ],
   "metadata": {
    "collapsed": false
   }
  },
  {
   "cell_type": "markdown",
   "source": [
    "6. Use `Decision Tree` regressor as a model for the regression. Pass the \"tagged_pricing\" table to the fit function of the model:\n"
   ],
   "metadata": {
    "collapsed": false
   }
  },
  {
   "cell_type": "code",
   "execution_count": 59,
   "outputs": [],
   "source": [
    "from safeds.ml.classical.regression import DecisionTree\n",
    "\n",
    "model = DecisionTree()\n",
    "fitted_model = model.fit(tagged_train_table)"
   ],
   "metadata": {
    "collapsed": false
   }
  },
  {
   "cell_type": "markdown",
   "source": [
    "7. Use the fitted decision tree regression model, that we trained on the training dataset to predict the price of a house in the test dataset.\n"
   ],
   "metadata": {
    "collapsed": false
   }
  },
  {
   "cell_type": "code",
   "execution_count": 60,
   "outputs": [],
   "source": [
    "prediction = fitted_model.predict(\n",
    "    test_table\n",
    ")\n",
    "#For visualisation purposes we only print out the first 15 rows.\n",
    "prediction.slice_rows(0,15)"
   ],
   "metadata": {
    "collapsed": false
   }
  },
  {
   "cell_type": "markdown",
   "source": [
    "7. You can test the mean absolute error of that model with the initial testing_table as follows:\n"
   ],
   "metadata": {
    "collapsed": false
   }
  },
  {
   "cell_type": "code",
   "execution_count": 61,
   "outputs": [
    {
     "data": {
      "text/plain": "105595.6001735107"
     },
     "execution_count": 61,
     "metadata": {},
     "output_type": "execute_result"
    }
   ],
   "source": [
    "tagged_test_table= testing_table.tag_columns(\"price\", feature_names=[\n",
    "    *feature_columns\n",
    "])\n",
    "\n",
    "fitted_model.mean_absolute_error(tagged_test_table)\n"
   ],
   "metadata": {
    "collapsed": false
   }
  }
 ],
 "metadata": {
  "kernelspec": {
   "display_name": "Python 3",
   "language": "python",
   "name": "python3"
  },
  "language_info": {
   "codemirror_mode": {
    "name": "ipython",
    "version": 2
   },
   "file_extension": ".py",
   "mimetype": "text/x-python",
   "name": "python",
   "nbconvert_exporter": "python",
   "pygments_lexer": "ipython2",
   "version": "2.7.6"
  }
 },
 "nbformat": 4,
 "nbformat_minor": 0
}
